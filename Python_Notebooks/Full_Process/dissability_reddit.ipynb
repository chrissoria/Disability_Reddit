{
  "nbformat": 4,
  "nbformat_minor": 0,
  "metadata": {
    "colab": {
      "name": "dissability_reddit.ipynb",
      "provenance": []
    },
    "kernelspec": {
      "name": "python3",
      "display_name": "Python 3"
    },
    "language_info": {
      "name": "python"
    }
  },
  "cells": [
    {
      "cell_type": "code",
      "source": [
        "import os\n",
        "import pandas as pd "
      ],
      "metadata": {
        "id": "XyWs_Qq8rOo3"
      },
      "execution_count": null,
      "outputs": []
    },
    {
      "cell_type": "code",
      "execution_count": null,
      "metadata": {
        "id": "uRNLhm8dq7Yt",
        "colab": {
          "base_uri": "https://localhost:8080/",
          "height": 37
        },
        "outputId": "84f8a28d-4b03-4c3e-bc17-300fc6bf8e91"
      },
      "outputs": [
        {
          "output_type": "execute_result",
          "data": {
            "text/plain": [
              "'/content'"
            ],
            "application/vnd.google.colaboratory.intrinsic+json": {
              "type": "string"
            }
          },
          "metadata": {},
          "execution_count": 2
        }
      ],
      "source": [
        "%pwd #I uploaded the initial dataset (raw reddit data) into /content. The working directory should default to /content. "
      ]
    },
    {
      "cell_type": "markdown",
      "source": [
        "The line below should work for all three of us (pulls the data from a public git repo)"
      ],
      "metadata": {
        "id": "ftto74kQ0PjK"
      }
    },
    {
      "cell_type": "code",
      "source": [
        "df = pd.read_csv('https://github.com/chrissoria/Disability_Reddit/raw/6a23a9c0d28f185676788f68e04394555542dc4e/Data/disability_30000_submissions.csv')"
      ],
      "metadata": {
        "id": "Bj8cfyr5oUUb"
      },
      "execution_count": null,
      "outputs": []
    },
    {
      "cell_type": "markdown",
      "source": [
        "Below we remove all entries in the dataset where there is no \"selftext\""
      ],
      "metadata": {
        "id": "dnMfDIneEKSR"
      }
    },
    {
      "cell_type": "code",
      "source": [
        "df = df.loc[~df['selftext'].isin(['[removed]', '[deleted]' ]),:]\n",
        "df = df.dropna(subset=['selftext']).reset_index()\n",
        "df.index"
      ],
      "metadata": {
        "id": "HnHRPCjNDROy",
        "colab": {
          "base_uri": "https://localhost:8080/"
        },
        "outputId": "167a216c-a955-4d06-8a25-bcb8f15cb2b7"
      },
      "execution_count": null,
      "outputs": [
        {
          "output_type": "execute_result",
          "data": {
            "text/plain": [
              "RangeIndex(start=0, stop=14928, step=1)"
            ]
          },
          "metadata": {},
          "execution_count": 4
        }
      ]
    },
    {
      "cell_type": "markdown",
      "source": [
        "The dataset goes from 30,339 to 14,928 after deleting all removed and deleted selftext inputs and Null values. A dramatic reduction."
      ],
      "metadata": {
        "id": "A4b3FJSbE8gD"
      }
    },
    {
      "cell_type": "code",
      "source": [
        "df.head()"
      ],
      "metadata": {
        "id": "25xOpM2VEfKa",
        "colab": {
          "base_uri": "https://localhost:8080/",
          "height": 435
        },
        "outputId": "5685dff9-882b-4dcc-a1d4-6daed2b2fc8e"
      },
      "execution_count": null,
      "outputs": [
        {
          "output_type": "execute_result",
          "data": {
            "text/plain": [
              "   index  Unnamed: 0      id  created_utc link_flair_text author_flair_text  \\\n",
              "0      0           0  p8hcfj   1629505393             NaN               NaN   \n",
              "1      1           1  p84kgg   1629463903            Rant               NaN   \n",
              "2      3           3  p82mfs   1629455803      Discussion               NaN   \n",
              "3      4           4  p8cdd2   1629488445             NaN               NaN   \n",
              "4      5           5  p8w0cl   1629568461            Rant               NaN   \n",
              "\n",
              "                 author  over_18  \\\n",
              "0             OrdanCoal    False   \n",
              "1              dusnood_    False   \n",
              "2      ShenandoahValley    False   \n",
              "3  musicalearnightingal    False   \n",
              "4            OracNimsaj    False   \n",
              "\n",
              "                                               title  is_self  \\\n",
              "0  Anybody noticed the trap people set with your ...     True   \n",
              "1  Feeling guilty for spending with \"disability i...     True   \n",
              "2   Only 30% of SSD applicants approved on first try     True   \n",
              "3  Have you ever called someone out for treating ...     True   \n",
              "4  What's the most ridiculous (or infuriating) th...     True   \n",
              "\n",
              "                                            selftext  score  upvote_ratio  \\\n",
              "0  Like, if I'm crying because I'm in chronic pai...     34          0.92   \n",
              "1  I don’t have any regular bills as I still live...     32          0.94   \n",
              "2  This came from a manager at the local SSA offi...     14          0.90   \n",
              "3  So one of my coworkers really hates me. I get ...     12          0.93   \n",
              "4  context: I (24F) have an unknown form of Muscu...     11          0.92   \n",
              "\n",
              "  distinguished  num_comments  \n",
              "0           NaN            53  \n",
              "1           NaN            65  \n",
              "2           NaN            81  \n",
              "3           NaN            20  \n",
              "4           NaN           179  "
            ],
            "text/html": [
              "\n",
              "  <div id=\"df-b9e3558f-51e3-4dc7-aaf6-eea218d99d9e\">\n",
              "    <div class=\"colab-df-container\">\n",
              "      <div>\n",
              "<style scoped>\n",
              "    .dataframe tbody tr th:only-of-type {\n",
              "        vertical-align: middle;\n",
              "    }\n",
              "\n",
              "    .dataframe tbody tr th {\n",
              "        vertical-align: top;\n",
              "    }\n",
              "\n",
              "    .dataframe thead th {\n",
              "        text-align: right;\n",
              "    }\n",
              "</style>\n",
              "<table border=\"1\" class=\"dataframe\">\n",
              "  <thead>\n",
              "    <tr style=\"text-align: right;\">\n",
              "      <th></th>\n",
              "      <th>index</th>\n",
              "      <th>Unnamed: 0</th>\n",
              "      <th>id</th>\n",
              "      <th>created_utc</th>\n",
              "      <th>link_flair_text</th>\n",
              "      <th>author_flair_text</th>\n",
              "      <th>author</th>\n",
              "      <th>over_18</th>\n",
              "      <th>title</th>\n",
              "      <th>is_self</th>\n",
              "      <th>selftext</th>\n",
              "      <th>score</th>\n",
              "      <th>upvote_ratio</th>\n",
              "      <th>distinguished</th>\n",
              "      <th>num_comments</th>\n",
              "    </tr>\n",
              "  </thead>\n",
              "  <tbody>\n",
              "    <tr>\n",
              "      <th>0</th>\n",
              "      <td>0</td>\n",
              "      <td>0</td>\n",
              "      <td>p8hcfj</td>\n",
              "      <td>1629505393</td>\n",
              "      <td>NaN</td>\n",
              "      <td>NaN</td>\n",
              "      <td>OrdanCoal</td>\n",
              "      <td>False</td>\n",
              "      <td>Anybody noticed the trap people set with your ...</td>\n",
              "      <td>True</td>\n",
              "      <td>Like, if I'm crying because I'm in chronic pai...</td>\n",
              "      <td>34</td>\n",
              "      <td>0.92</td>\n",
              "      <td>NaN</td>\n",
              "      <td>53</td>\n",
              "    </tr>\n",
              "    <tr>\n",
              "      <th>1</th>\n",
              "      <td>1</td>\n",
              "      <td>1</td>\n",
              "      <td>p84kgg</td>\n",
              "      <td>1629463903</td>\n",
              "      <td>Rant</td>\n",
              "      <td>NaN</td>\n",
              "      <td>dusnood_</td>\n",
              "      <td>False</td>\n",
              "      <td>Feeling guilty for spending with \"disability i...</td>\n",
              "      <td>True</td>\n",
              "      <td>I don’t have any regular bills as I still live...</td>\n",
              "      <td>32</td>\n",
              "      <td>0.94</td>\n",
              "      <td>NaN</td>\n",
              "      <td>65</td>\n",
              "    </tr>\n",
              "    <tr>\n",
              "      <th>2</th>\n",
              "      <td>3</td>\n",
              "      <td>3</td>\n",
              "      <td>p82mfs</td>\n",
              "      <td>1629455803</td>\n",
              "      <td>Discussion</td>\n",
              "      <td>NaN</td>\n",
              "      <td>ShenandoahValley</td>\n",
              "      <td>False</td>\n",
              "      <td>Only 30% of SSD applicants approved on first try</td>\n",
              "      <td>True</td>\n",
              "      <td>This came from a manager at the local SSA offi...</td>\n",
              "      <td>14</td>\n",
              "      <td>0.90</td>\n",
              "      <td>NaN</td>\n",
              "      <td>81</td>\n",
              "    </tr>\n",
              "    <tr>\n",
              "      <th>3</th>\n",
              "      <td>4</td>\n",
              "      <td>4</td>\n",
              "      <td>p8cdd2</td>\n",
              "      <td>1629488445</td>\n",
              "      <td>NaN</td>\n",
              "      <td>NaN</td>\n",
              "      <td>musicalearnightingal</td>\n",
              "      <td>False</td>\n",
              "      <td>Have you ever called someone out for treating ...</td>\n",
              "      <td>True</td>\n",
              "      <td>So one of my coworkers really hates me. I get ...</td>\n",
              "      <td>12</td>\n",
              "      <td>0.93</td>\n",
              "      <td>NaN</td>\n",
              "      <td>20</td>\n",
              "    </tr>\n",
              "    <tr>\n",
              "      <th>4</th>\n",
              "      <td>5</td>\n",
              "      <td>5</td>\n",
              "      <td>p8w0cl</td>\n",
              "      <td>1629568461</td>\n",
              "      <td>Rant</td>\n",
              "      <td>NaN</td>\n",
              "      <td>OracNimsaj</td>\n",
              "      <td>False</td>\n",
              "      <td>What's the most ridiculous (or infuriating) th...</td>\n",
              "      <td>True</td>\n",
              "      <td>context: I (24F) have an unknown form of Muscu...</td>\n",
              "      <td>11</td>\n",
              "      <td>0.92</td>\n",
              "      <td>NaN</td>\n",
              "      <td>179</td>\n",
              "    </tr>\n",
              "  </tbody>\n",
              "</table>\n",
              "</div>\n",
              "      <button class=\"colab-df-convert\" onclick=\"convertToInteractive('df-b9e3558f-51e3-4dc7-aaf6-eea218d99d9e')\"\n",
              "              title=\"Convert this dataframe to an interactive table.\"\n",
              "              style=\"display:none;\">\n",
              "        \n",
              "  <svg xmlns=\"http://www.w3.org/2000/svg\" height=\"24px\"viewBox=\"0 0 24 24\"\n",
              "       width=\"24px\">\n",
              "    <path d=\"M0 0h24v24H0V0z\" fill=\"none\"/>\n",
              "    <path d=\"M18.56 5.44l.94 2.06.94-2.06 2.06-.94-2.06-.94-.94-2.06-.94 2.06-2.06.94zm-11 1L8.5 8.5l.94-2.06 2.06-.94-2.06-.94L8.5 2.5l-.94 2.06-2.06.94zm10 10l.94 2.06.94-2.06 2.06-.94-2.06-.94-.94-2.06-.94 2.06-2.06.94z\"/><path d=\"M17.41 7.96l-1.37-1.37c-.4-.4-.92-.59-1.43-.59-.52 0-1.04.2-1.43.59L10.3 9.45l-7.72 7.72c-.78.78-.78 2.05 0 2.83L4 21.41c.39.39.9.59 1.41.59.51 0 1.02-.2 1.41-.59l7.78-7.78 2.81-2.81c.8-.78.8-2.07 0-2.86zM5.41 20L4 18.59l7.72-7.72 1.47 1.35L5.41 20z\"/>\n",
              "  </svg>\n",
              "      </button>\n",
              "      \n",
              "  <style>\n",
              "    .colab-df-container {\n",
              "      display:flex;\n",
              "      flex-wrap:wrap;\n",
              "      gap: 12px;\n",
              "    }\n",
              "\n",
              "    .colab-df-convert {\n",
              "      background-color: #E8F0FE;\n",
              "      border: none;\n",
              "      border-radius: 50%;\n",
              "      cursor: pointer;\n",
              "      display: none;\n",
              "      fill: #1967D2;\n",
              "      height: 32px;\n",
              "      padding: 0 0 0 0;\n",
              "      width: 32px;\n",
              "    }\n",
              "\n",
              "    .colab-df-convert:hover {\n",
              "      background-color: #E2EBFA;\n",
              "      box-shadow: 0px 1px 2px rgba(60, 64, 67, 0.3), 0px 1px 3px 1px rgba(60, 64, 67, 0.15);\n",
              "      fill: #174EA6;\n",
              "    }\n",
              "\n",
              "    [theme=dark] .colab-df-convert {\n",
              "      background-color: #3B4455;\n",
              "      fill: #D2E3FC;\n",
              "    }\n",
              "\n",
              "    [theme=dark] .colab-df-convert:hover {\n",
              "      background-color: #434B5C;\n",
              "      box-shadow: 0px 1px 3px 1px rgba(0, 0, 0, 0.15);\n",
              "      filter: drop-shadow(0px 1px 2px rgba(0, 0, 0, 0.3));\n",
              "      fill: #FFFFFF;\n",
              "    }\n",
              "  </style>\n",
              "\n",
              "      <script>\n",
              "        const buttonEl =\n",
              "          document.querySelector('#df-b9e3558f-51e3-4dc7-aaf6-eea218d99d9e button.colab-df-convert');\n",
              "        buttonEl.style.display =\n",
              "          google.colab.kernel.accessAllowed ? 'block' : 'none';\n",
              "\n",
              "        async function convertToInteractive(key) {\n",
              "          const element = document.querySelector('#df-b9e3558f-51e3-4dc7-aaf6-eea218d99d9e');\n",
              "          const dataTable =\n",
              "            await google.colab.kernel.invokeFunction('convertToInteractive',\n",
              "                                                     [key], {});\n",
              "          if (!dataTable) return;\n",
              "\n",
              "          const docLinkHtml = 'Like what you see? Visit the ' +\n",
              "            '<a target=\"_blank\" href=https://colab.research.google.com/notebooks/data_table.ipynb>data table notebook</a>'\n",
              "            + ' to learn more about interactive tables.';\n",
              "          element.innerHTML = '';\n",
              "          dataTable['output_type'] = 'display_data';\n",
              "          await google.colab.output.renderOutput(dataTable, element);\n",
              "          const docLink = document.createElement('div');\n",
              "          docLink.innerHTML = docLinkHtml;\n",
              "          element.appendChild(docLink);\n",
              "        }\n",
              "      </script>\n",
              "    </div>\n",
              "  </div>\n",
              "  "
            ]
          },
          "metadata": {},
          "execution_count": 5
        }
      ]
    },
    {
      "cell_type": "code",
      "source": [
        "disability.selftext.iloc[25]"
      ],
      "metadata": {
        "colab": {
          "base_uri": "https://localhost:8080/",
          "height": 88
        },
        "id": "-yqG_TtwolTh",
        "outputId": "638e8e45-43bd-4d7c-c393-d816ce0df0fe"
      },
      "execution_count": null,
      "outputs": [
        {
          "output_type": "execute_result",
          "data": {
            "text/plain": [
              "\"Posting for someone else. I know someone who has applied for disability for bipolar disorder and chronic migraine. So they have a mental status exam today and a physical exam at the same place in two weeks. There are of course many overlapping symptoms. \\n\\n The question I am most concerned about is if they admit to using marijuana to treat migraines (it mostly just makes the pain bearable and sometimes helps with nausea, it doesn't actually make the migraine stop), will they be denied because supposedly this could exacerbate bipolar symptoms? Medical marijuana just became legal in this state, but they do not yet have a medical card. Will they be drug tested if they omit the weed?\""
            ],
            "application/vnd.google.colaboratory.intrinsic+json": {
              "type": "string"
            }
          },
          "metadata": {},
          "execution_count": 57
        }
      ]
    },
    {
      "cell_type": "code",
      "source": [
        "disability.selftext.iloc[1182]"
      ],
      "metadata": {
        "colab": {
          "base_uri": "https://localhost:8080/",
          "height": 88
        },
        "id": "XiE4qqwpo3r0",
        "outputId": "3d3fed6c-a8d0-4639-f0ad-7a8dc5b7e880"
      },
      "execution_count": null,
      "outputs": [
        {
          "output_type": "execute_result",
          "data": {
            "text/plain": [
              "\"Posting for someone else. I know someone who has applied for disability for bipolar disorder and chronic migraine. So they have a mental status exam today and a physical exam at the same place in two weeks. There are of course many overlapping symptoms. \\n\\n The question I am most concerned about is if they admit to using marijuana to treat migraines (it mostly just makes the pain bearable and sometimes helps with nausea, it doesn't actually make the migraine stop), will they be denied because supposedly this could exacerbate bipolar symptoms? Medical marijuana just became legal in this state, but they do not yet have a medical card. Will they be drug tested if they omit the weed?\""
            ],
            "application/vnd.google.colaboratory.intrinsic+json": {
              "type": "string"
            }
          },
          "metadata": {},
          "execution_count": 58
        }
      ]
    },
    {
      "cell_type": "code",
      "source": [
        "import spacy\n",
        "# Load the English preprocessing pipeline\n",
        "nlp = spacy.load('en_core_web_sm')\n",
        "\n",
        "# Parse the first reddit post in the dataset\n",
        "parsed_post = nlp(df.selftext[0])\n",
        "print(parsed_post)"
      ],
      "metadata": {
        "id": "c_d1shMwEo0z",
        "colab": {
          "base_uri": "https://localhost:8080/"
        },
        "outputId": "5c4bb2ed-ec4d-44f2-8672-0129374c67a2"
      },
      "execution_count": null,
      "outputs": [
        {
          "output_type": "stream",
          "name": "stdout",
          "text": [
            "Like, if I'm crying because I'm in chronic pain, it's because I'm \"too weak to be happy\"\n",
            "\n",
            "If I'm happy and smile, it means I couldn't possibly be in pain\n",
            "\n",
            "The fucked up thing is, I can definitely be in pain and still be happy, but if I have to meet one more nasty person that I thought I would like, but turns out they're horrible Ableist, I might vomit. \n",
            "\n",
            "The people that know me know me as the person that is legitimately in pain **and** is still smiling, but then these people that I would have vouched for as neighbors, friends, and otherwise the kind of people you'd genuinely want to meet, suddenly turned out to be complete bigots. \n",
            "\n",
            "It's like coming to find out a dear member of your family is, like, **dangerously** racist, or that your Uncle doesn't see women as people. \n",
            "\n",
            "I think one of the worst things being disabled and, for some of us, debatably, perhaps *the* worst thing, is the faith you lose not just in life, but in humanity. \n",
            "\n",
            "Like, I was okay with being on a tiny spinning rock on the edge of a centerless void, but then to realize the little company we do have to keep, our fellows, don't really care, either? \n",
            "\n",
            "I mean, that's...\n",
            "\n",
            "worse...\n",
            "\n",
            "that's definitely worse\n"
          ]
        }
      ]
    },
    {
      "cell_type": "markdown",
      "source": [
        "The below breaks down parsed posts into sentences"
      ],
      "metadata": {
        "id": "EQLwFZtPFTJA"
      }
    },
    {
      "cell_type": "code",
      "source": [
        "for idx, sentence in enumerate(parsed_post.sents):\n",
        "    print(f'Sentence {idx + 1}')\n",
        "    print(sentence)\n",
        "    print('')"
      ],
      "metadata": {
        "id": "jAUUNeGZFFCv",
        "colab": {
          "base_uri": "https://localhost:8080/"
        },
        "outputId": "ebad6a07-5f88-4c16-895d-dbcfb116f7a8"
      },
      "execution_count": null,
      "outputs": [
        {
          "output_type": "stream",
          "name": "stdout",
          "text": [
            "Sentence 1\n",
            "Like, if I'm crying because I'm in chronic pain, it's because I'm \"too weak to be happy\"\n",
            "\n",
            "If I'm happy and smile, it means I couldn't possibly be in pain\n",
            "\n",
            "\n",
            "\n",
            "Sentence 2\n",
            "The fucked up thing is, I can definitely be in pain and still be happy, but if I have to meet one more nasty person that I thought I would like, but turns out they're horrible Ableist, I might vomit.\n",
            "\n",
            "Sentence 3\n",
            "\n",
            "\n",
            "\n",
            "\n",
            "Sentence 4\n",
            "The people that know me know me as the person that is legitimately in pain **and** is still smiling, but then these people that I would have vouched for as neighbors, friends, and otherwise the kind of people you'd genuinely want to meet, suddenly turned out to be complete bigots.\n",
            "\n",
            "Sentence 5\n",
            "\n",
            "\n",
            "\n",
            "\n",
            "Sentence 6\n",
            "It's like coming to find out a dear member of your family is, like, **dangerously** racist, or that your Uncle doesn't see women as people.\n",
            "\n",
            "Sentence 7\n",
            "\n",
            "\n",
            "\n",
            "\n",
            "Sentence 8\n",
            "I think one of the worst things being disabled and, for some of us, debatably, perhaps *the* worst thing, is the faith you lose not just in life, but in humanity.\n",
            "\n",
            "Sentence 9\n",
            "\n",
            "\n",
            "\n",
            "\n",
            "Sentence 10\n",
            "Like, I was okay with being on a tiny spinning rock on the edge of a centerless void, but then to realize the little company we do have to keep, our fellows, don't really care, either? \n",
            "\n",
            "\n",
            "\n",
            "Sentence 11\n",
            "I mean, that's...\n",
            "\n",
            "worse...\n",
            "\n",
            "that's definitely worse\n",
            "\n"
          ]
        }
      ]
    },
    {
      "cell_type": "markdown",
      "source": [
        "The below is a test on the first 15 posts to see if it's correctly identifying \n",
        "\n",
        "1.   List item\n",
        "2.   List item\n",
        "\n",
        "lemmas. It looks like it's working well. "
      ],
      "metadata": {
        "id": "vOrbhWIoFq8b"
      }
    },
    {
      "cell_type": "code",
      "source": [
        "# Extract the first 15 items for the following properties of the parsed post\n",
        "\n",
        "# The token text \n",
        "token_text = [token.orth_ for token in parsed_post][:15]   \n",
        "# Part of speech \n",
        "token_pos = [token.pos_ for token in parsed_post][:15]   \n",
        "# Lemma (or 'dictionary form')\n",
        "token_lemma = [token.lemma_ for token in parsed_post][:15]\n",
        "# Stop word? t/f\n",
        "token_stop = [token.is_stop for token in parsed_post][:15]\n",
        "# Puncutation? t/f\n",
        "token_punct = [token.is_punct for token in parsed_post][:15]\n",
        "\n",
        "# Make a dataframe with these items\n",
        "pd.DataFrame(zip(token_text, token_pos, token_lemma, token_stop, token_punct),\n",
        "             columns=['token_text', 'part_of_speech', 'token_lemma', 'token_stop', 'token_punct'])"
      ],
      "metadata": {
        "id": "4xRLHuzmFXeP",
        "colab": {
          "base_uri": "https://localhost:8080/",
          "height": 514
        },
        "outputId": "574f716c-7321-4ab5-909b-898106b1669f"
      },
      "execution_count": null,
      "outputs": [
        {
          "output_type": "execute_result",
          "data": {
            "text/plain": [
              "   token_text part_of_speech token_lemma  token_stop  token_punct\n",
              "0        Like           INTJ        like       False        False\n",
              "1           ,          PUNCT           ,       False         True\n",
              "2          if          SCONJ          if        True        False\n",
              "3           I           PRON           I        True        False\n",
              "4          'm            AUX          be        True        False\n",
              "5      crying           VERB         cry       False        False\n",
              "6     because          SCONJ     because        True        False\n",
              "7           I           PRON           I        True        False\n",
              "8          'm            AUX          be        True        False\n",
              "9          in            ADP          in        True        False\n",
              "10    chronic            ADJ     chronic       False        False\n",
              "11       pain           NOUN        pain       False        False\n",
              "12          ,          PUNCT           ,       False         True\n",
              "13         it           PRON          it        True        False\n",
              "14         's            AUX          be        True        False"
            ],
            "text/html": [
              "\n",
              "  <div id=\"df-a8e63a2e-754d-4718-bb6c-530e0e79196d\">\n",
              "    <div class=\"colab-df-container\">\n",
              "      <div>\n",
              "<style scoped>\n",
              "    .dataframe tbody tr th:only-of-type {\n",
              "        vertical-align: middle;\n",
              "    }\n",
              "\n",
              "    .dataframe tbody tr th {\n",
              "        vertical-align: top;\n",
              "    }\n",
              "\n",
              "    .dataframe thead th {\n",
              "        text-align: right;\n",
              "    }\n",
              "</style>\n",
              "<table border=\"1\" class=\"dataframe\">\n",
              "  <thead>\n",
              "    <tr style=\"text-align: right;\">\n",
              "      <th></th>\n",
              "      <th>token_text</th>\n",
              "      <th>part_of_speech</th>\n",
              "      <th>token_lemma</th>\n",
              "      <th>token_stop</th>\n",
              "      <th>token_punct</th>\n",
              "    </tr>\n",
              "  </thead>\n",
              "  <tbody>\n",
              "    <tr>\n",
              "      <th>0</th>\n",
              "      <td>Like</td>\n",
              "      <td>INTJ</td>\n",
              "      <td>like</td>\n",
              "      <td>False</td>\n",
              "      <td>False</td>\n",
              "    </tr>\n",
              "    <tr>\n",
              "      <th>1</th>\n",
              "      <td>,</td>\n",
              "      <td>PUNCT</td>\n",
              "      <td>,</td>\n",
              "      <td>False</td>\n",
              "      <td>True</td>\n",
              "    </tr>\n",
              "    <tr>\n",
              "      <th>2</th>\n",
              "      <td>if</td>\n",
              "      <td>SCONJ</td>\n",
              "      <td>if</td>\n",
              "      <td>True</td>\n",
              "      <td>False</td>\n",
              "    </tr>\n",
              "    <tr>\n",
              "      <th>3</th>\n",
              "      <td>I</td>\n",
              "      <td>PRON</td>\n",
              "      <td>I</td>\n",
              "      <td>True</td>\n",
              "      <td>False</td>\n",
              "    </tr>\n",
              "    <tr>\n",
              "      <th>4</th>\n",
              "      <td>'m</td>\n",
              "      <td>AUX</td>\n",
              "      <td>be</td>\n",
              "      <td>True</td>\n",
              "      <td>False</td>\n",
              "    </tr>\n",
              "    <tr>\n",
              "      <th>5</th>\n",
              "      <td>crying</td>\n",
              "      <td>VERB</td>\n",
              "      <td>cry</td>\n",
              "      <td>False</td>\n",
              "      <td>False</td>\n",
              "    </tr>\n",
              "    <tr>\n",
              "      <th>6</th>\n",
              "      <td>because</td>\n",
              "      <td>SCONJ</td>\n",
              "      <td>because</td>\n",
              "      <td>True</td>\n",
              "      <td>False</td>\n",
              "    </tr>\n",
              "    <tr>\n",
              "      <th>7</th>\n",
              "      <td>I</td>\n",
              "      <td>PRON</td>\n",
              "      <td>I</td>\n",
              "      <td>True</td>\n",
              "      <td>False</td>\n",
              "    </tr>\n",
              "    <tr>\n",
              "      <th>8</th>\n",
              "      <td>'m</td>\n",
              "      <td>AUX</td>\n",
              "      <td>be</td>\n",
              "      <td>True</td>\n",
              "      <td>False</td>\n",
              "    </tr>\n",
              "    <tr>\n",
              "      <th>9</th>\n",
              "      <td>in</td>\n",
              "      <td>ADP</td>\n",
              "      <td>in</td>\n",
              "      <td>True</td>\n",
              "      <td>False</td>\n",
              "    </tr>\n",
              "    <tr>\n",
              "      <th>10</th>\n",
              "      <td>chronic</td>\n",
              "      <td>ADJ</td>\n",
              "      <td>chronic</td>\n",
              "      <td>False</td>\n",
              "      <td>False</td>\n",
              "    </tr>\n",
              "    <tr>\n",
              "      <th>11</th>\n",
              "      <td>pain</td>\n",
              "      <td>NOUN</td>\n",
              "      <td>pain</td>\n",
              "      <td>False</td>\n",
              "      <td>False</td>\n",
              "    </tr>\n",
              "    <tr>\n",
              "      <th>12</th>\n",
              "      <td>,</td>\n",
              "      <td>PUNCT</td>\n",
              "      <td>,</td>\n",
              "      <td>False</td>\n",
              "      <td>True</td>\n",
              "    </tr>\n",
              "    <tr>\n",
              "      <th>13</th>\n",
              "      <td>it</td>\n",
              "      <td>PRON</td>\n",
              "      <td>it</td>\n",
              "      <td>True</td>\n",
              "      <td>False</td>\n",
              "    </tr>\n",
              "    <tr>\n",
              "      <th>14</th>\n",
              "      <td>'s</td>\n",
              "      <td>AUX</td>\n",
              "      <td>be</td>\n",
              "      <td>True</td>\n",
              "      <td>False</td>\n",
              "    </tr>\n",
              "  </tbody>\n",
              "</table>\n",
              "</div>\n",
              "      <button class=\"colab-df-convert\" onclick=\"convertToInteractive('df-a8e63a2e-754d-4718-bb6c-530e0e79196d')\"\n",
              "              title=\"Convert this dataframe to an interactive table.\"\n",
              "              style=\"display:none;\">\n",
              "        \n",
              "  <svg xmlns=\"http://www.w3.org/2000/svg\" height=\"24px\"viewBox=\"0 0 24 24\"\n",
              "       width=\"24px\">\n",
              "    <path d=\"M0 0h24v24H0V0z\" fill=\"none\"/>\n",
              "    <path d=\"M18.56 5.44l.94 2.06.94-2.06 2.06-.94-2.06-.94-.94-2.06-.94 2.06-2.06.94zm-11 1L8.5 8.5l.94-2.06 2.06-.94-2.06-.94L8.5 2.5l-.94 2.06-2.06.94zm10 10l.94 2.06.94-2.06 2.06-.94-2.06-.94-.94-2.06-.94 2.06-2.06.94z\"/><path d=\"M17.41 7.96l-1.37-1.37c-.4-.4-.92-.59-1.43-.59-.52 0-1.04.2-1.43.59L10.3 9.45l-7.72 7.72c-.78.78-.78 2.05 0 2.83L4 21.41c.39.39.9.59 1.41.59.51 0 1.02-.2 1.41-.59l7.78-7.78 2.81-2.81c.8-.78.8-2.07 0-2.86zM5.41 20L4 18.59l7.72-7.72 1.47 1.35L5.41 20z\"/>\n",
              "  </svg>\n",
              "      </button>\n",
              "      \n",
              "  <style>\n",
              "    .colab-df-container {\n",
              "      display:flex;\n",
              "      flex-wrap:wrap;\n",
              "      gap: 12px;\n",
              "    }\n",
              "\n",
              "    .colab-df-convert {\n",
              "      background-color: #E8F0FE;\n",
              "      border: none;\n",
              "      border-radius: 50%;\n",
              "      cursor: pointer;\n",
              "      display: none;\n",
              "      fill: #1967D2;\n",
              "      height: 32px;\n",
              "      padding: 0 0 0 0;\n",
              "      width: 32px;\n",
              "    }\n",
              "\n",
              "    .colab-df-convert:hover {\n",
              "      background-color: #E2EBFA;\n",
              "      box-shadow: 0px 1px 2px rgba(60, 64, 67, 0.3), 0px 1px 3px 1px rgba(60, 64, 67, 0.15);\n",
              "      fill: #174EA6;\n",
              "    }\n",
              "\n",
              "    [theme=dark] .colab-df-convert {\n",
              "      background-color: #3B4455;\n",
              "      fill: #D2E3FC;\n",
              "    }\n",
              "\n",
              "    [theme=dark] .colab-df-convert:hover {\n",
              "      background-color: #434B5C;\n",
              "      box-shadow: 0px 1px 3px 1px rgba(0, 0, 0, 0.15);\n",
              "      filter: drop-shadow(0px 1px 2px rgba(0, 0, 0, 0.3));\n",
              "      fill: #FFFFFF;\n",
              "    }\n",
              "  </style>\n",
              "\n",
              "      <script>\n",
              "        const buttonEl =\n",
              "          document.querySelector('#df-a8e63a2e-754d-4718-bb6c-530e0e79196d button.colab-df-convert');\n",
              "        buttonEl.style.display =\n",
              "          google.colab.kernel.accessAllowed ? 'block' : 'none';\n",
              "\n",
              "        async function convertToInteractive(key) {\n",
              "          const element = document.querySelector('#df-a8e63a2e-754d-4718-bb6c-530e0e79196d');\n",
              "          const dataTable =\n",
              "            await google.colab.kernel.invokeFunction('convertToInteractive',\n",
              "                                                     [key], {});\n",
              "          if (!dataTable) return;\n",
              "\n",
              "          const docLinkHtml = 'Like what you see? Visit the ' +\n",
              "            '<a target=\"_blank\" href=https://colab.research.google.com/notebooks/data_table.ipynb>data table notebook</a>'\n",
              "            + ' to learn more about interactive tables.';\n",
              "          element.innerHTML = '';\n",
              "          dataTable['output_type'] = 'display_data';\n",
              "          await google.colab.output.renderOutput(dataTable, element);\n",
              "          const docLink = document.createElement('div');\n",
              "          docLink.innerHTML = docLinkHtml;\n",
              "          element.appendChild(docLink);\n",
              "        }\n",
              "      </script>\n",
              "    </div>\n",
              "  </div>\n",
              "  "
            ]
          },
          "metadata": {},
          "execution_count": 8
        }
      ]
    },
    {
      "cell_type": "markdown",
      "source": [
        "Now we run code to try and identify all lemmes in the entire dataset (selecting only for nouns and adjetives and removing everything else)."
      ],
      "metadata": {
        "id": "T1JtMbRxF7-D"
      }
    },
    {
      "cell_type": "code",
      "source": [
        "def clean(token):\n",
        "    \"\"\"Helper function that specifies whether a token is:\n",
        "        - punctuation\n",
        "        - space\n",
        "        - digit\n",
        "    \"\"\"\n",
        "    return token.is_punct or token.is_space or token.is_digit\n",
        "\n",
        "def line_read(df, text_col='selftext'):\n",
        "    \"\"\"Generator function to read in text from df and get rid of line breaks.\"\"\"    \n",
        "    for text in df[text_col]:\n",
        "        yield text.replace('\\n', '')\n",
        "\n",
        "def preprocess(df, text_col='selftext', allowed_postags=['NOUN', 'ADJ']):\n",
        "    \"\"\"Preprocessing function to apply to a dataframe.\"\"\"\n",
        "    for parsed in nlp.pipe(line_read(df, text_col), batch_size=1000, disable=[\"tok2vec\", \"ner\"]):\n",
        "        # Gather lowercased, lemmatized tokens\n",
        "        tokens = [token.lemma_.lower() if token.lemma_ != '-PRON-'\n",
        "                  else token.lower_ \n",
        "                  for token in parsed if not clean(token)]\n",
        "        # Remove specific lemmatizations, and words that are not nouns or adjectives\n",
        "        tokens = [lemma\n",
        "                  for lemma in tokens\n",
        "                  if not lemma in [\"'s\",  \"’s\", \"’\"] and not lemma in allowed_postags]\n",
        "        # Remove stop words\n",
        "        tokens = [token for token in tokens if token not in spacy.lang.en.stop_words.STOP_WORDS]\n",
        "        yield tokens"
      ],
      "metadata": {
        "id": "J9v60kGzGIve"
      },
      "execution_count": null,
      "outputs": []
    },
    {
      "cell_type": "code",
      "source": [
        "%who"
      ],
      "metadata": {
        "id": "DAdkr8R-HKYS",
        "colab": {
          "base_uri": "https://localhost:8080/"
        },
        "outputId": "c0bfa983-88c6-4b4e-8c17-9e3ce73a7d65"
      },
      "execution_count": null,
      "outputs": [
        {
          "output_type": "stream",
          "name": "stdout",
          "text": [
            "clean\t df\t idx\t line_read\t nlp\t os\t parsed_post\t pd\t preprocess\t \n",
            "sentence\t spacy\t token_lemma\t token_pos\t token_punct\t token_stop\t token_text\t \n"
          ]
        }
      ]
    },
    {
      "cell_type": "code",
      "source": [
        "lemmas = [line for line in preprocess(df)]"
      ],
      "metadata": {
        "id": "5kkhQJzJGUxz"
      },
      "execution_count": null,
      "outputs": []
    },
    {
      "cell_type": "markdown",
      "source": [
        "Printing out the lemmas from the first post"
      ],
      "metadata": {
        "id": "grYttp56IZmu"
      }
    },
    {
      "cell_type": "code",
      "source": [
        "lemmas[0]"
      ],
      "metadata": {
        "id": "2VSTLDieIdT7",
        "colab": {
          "base_uri": "https://localhost:8080/"
        },
        "outputId": "532ff2e5-12f5-402a-9cd9-316eb3dc9b53"
      },
      "execution_count": null,
      "outputs": [
        {
          "output_type": "execute_result",
          "data": {
            "text/plain": [
              "['like',\n",
              " 'crying',\n",
              " 'chronic',\n",
              " 'pain',\n",
              " 'weak',\n",
              " 'happy\"if',\n",
              " 'happy',\n",
              " 'smile',\n",
              " 'means',\n",
              " 'possibly',\n",
              " 'painthe',\n",
              " 'fucked',\n",
              " 'thing',\n",
              " 'definitely',\n",
              " 'pain',\n",
              " 'happy',\n",
              " 'meet',\n",
              " 'nasty',\n",
              " 'person',\n",
              " 'thought',\n",
              " 'like',\n",
              " 'turns',\n",
              " 'horrible',\n",
              " 'ableist',\n",
              " 'vomit',\n",
              " 'people',\n",
              " 'know',\n",
              " 'know',\n",
              " 'person',\n",
              " 'legitimately',\n",
              " 'pain',\n",
              " 'smiling',\n",
              " 'people',\n",
              " 'vouched',\n",
              " 'neighbors',\n",
              " 'friends',\n",
              " 'kind',\n",
              " 'people',\n",
              " 'genuinely',\n",
              " 'want',\n",
              " 'meet',\n",
              " 'suddenly',\n",
              " 'turned',\n",
              " 'complete',\n",
              " 'bigots',\n",
              " 'like',\n",
              " 'coming',\n",
              " 'find',\n",
              " 'dear',\n",
              " 'member',\n",
              " 'family',\n",
              " 'like',\n",
              " 'dangerously',\n",
              " 'racist',\n",
              " 'uncle',\n",
              " 'women',\n",
              " 'people',\n",
              " 'think',\n",
              " 'worst',\n",
              " 'things',\n",
              " 'disabled',\n",
              " 'debatably',\n",
              " 'worst',\n",
              " 'thing',\n",
              " 'faith',\n",
              " 'lose',\n",
              " 'life',\n",
              " 'humanity',\n",
              " 'like',\n",
              " 'okay',\n",
              " 'tiny',\n",
              " 'spinning',\n",
              " 'rock',\n",
              " 'edge',\n",
              " 'centerless',\n",
              " 'void',\n",
              " 'realize',\n",
              " 'little',\n",
              " 'company',\n",
              " 'fellows',\n",
              " 'care',\n",
              " 'mean',\n",
              " \"that's\",\n",
              " 'worse',\n",
              " 'definitely',\n",
              " 'worse']"
            ]
          },
          "metadata": {},
          "execution_count": 12
        }
      ]
    },
    {
      "cell_type": "markdown",
      "source": [
        "checking to see if the lemmas are lining up with posts. Looks good."
      ],
      "metadata": {
        "id": "7yWiKxHgIlJO"
      }
    },
    {
      "cell_type": "code",
      "source": [
        "parsed_post_test = nlp(df.selftext[10])\n",
        "print(parsed_post_test)\n",
        "lemmas[10]"
      ],
      "metadata": {
        "id": "qZo61NTOIohW",
        "colab": {
          "base_uri": "https://localhost:8080/"
        },
        "outputId": "b1f492a0-f39d-449a-9e64-bdae86994a8c"
      },
      "execution_count": null,
      "outputs": [
        {
          "output_type": "stream",
          "name": "stdout",
          "text": [
            "Title, basically? An attorney advised me to find services/products that help me perform my part-time job, and that I’d be able to deduct their cost from my earnings for the process of determining eligibility.\n",
            "\n",
            "I’ll examine my own life to see what I might be able to cite, but I’m at a loss and would love to hear examples of what other people have cited!\n"
          ]
        },
        {
          "output_type": "execute_result",
          "data": {
            "text/plain": [
              "['title',\n",
              " 'basically',\n",
              " 'attorney',\n",
              " 'advised',\n",
              " 'find',\n",
              " 'services',\n",
              " 'products',\n",
              " 'help',\n",
              " 'perform',\n",
              " 'time',\n",
              " 'job',\n",
              " 'able',\n",
              " 'deduct',\n",
              " 'cost',\n",
              " 'earnings',\n",
              " 'process',\n",
              " 'determining',\n",
              " 'eligibility',\n",
              " 'i’ll',\n",
              " 'examine',\n",
              " 'life',\n",
              " 'able',\n",
              " 'cite',\n",
              " 'loss',\n",
              " 'love',\n",
              " 'hear',\n",
              " 'examples',\n",
              " 'people',\n",
              " 'cited']"
            ]
          },
          "metadata": {},
          "execution_count": 13
        }
      ]
    },
    {
      "cell_type": "markdown",
      "source": [
        "Next, we want to identify bigrams and trigrams"
      ],
      "metadata": {
        "id": "m7OncmAxJEfx"
      }
    },
    {
      "cell_type": "code",
      "source": [
        "from gensim.models.phrases import Phrases, Phraser\n",
        "\n",
        "bigram = Phrases(lemmas, min_count=10, threshold=100)\n",
        "trigram = Phrases(bigram[lemmas], min_count=10, threshold=50)  \n",
        "bigram_phraser = Phraser(bigram)\n",
        "trigram_phraser = Phraser(trigram)\n",
        "\n",
        "# Form trigrams\n",
        "trigrams = [trigram_phraser[bigram_phraser[doc]] for doc in lemmas]"
      ],
      "metadata": {
        "id": "URkTtyS9I2kJ",
        "colab": {
          "base_uri": "https://localhost:8080/"
        },
        "outputId": "6119088c-e320-4350-be54-11a85b82faea"
      },
      "execution_count": null,
      "outputs": [
        {
          "output_type": "stream",
          "name": "stderr",
          "text": [
            "/usr/local/lib/python3.7/dist-packages/gensim/models/phrases.py:598: UserWarning: For a faster implementation, use the gensim.models.phrases.Phraser class\n",
            "  warnings.warn(\"For a faster implementation, use the gensim.models.phrases.Phraser class\")\n"
          ]
        }
      ]
    },
    {
      "cell_type": "code",
      "source": [
        "trigrams_joined = [' '.join(trigram) for trigram in trigrams] #trigrams\n",
        "trigrams_joined[0] #printing out the trigrams in post 1"
      ],
      "metadata": {
        "id": "7aLcZyrmJZD4",
        "colab": {
          "base_uri": "https://localhost:8080/",
          "height": 88
        },
        "outputId": "1b2d2919-f63e-4b3a-feaa-16b489b71e6d"
      },
      "execution_count": null,
      "outputs": [
        {
          "output_type": "execute_result",
          "data": {
            "text/plain": [
              "'like crying chronic_pain weak happy\"if happy smile means possibly painthe fucked thing definitely pain happy meet nasty person thought like turns horrible ableist vomit people know know person legitimately pain smiling people vouched neighbors friends kind people genuinely want meet suddenly turned complete bigots like coming find dear member family like dangerously racist uncle women people think worst things disabled debatably worst thing faith lose life humanity like okay tiny spinning rock edge centerless void realize little company fellows care mean that\\'s worse definitely worse'"
            ],
            "application/vnd.google.colaboratory.intrinsic+json": {
              "type": "string"
            }
          },
          "metadata": {},
          "execution_count": 15
        }
      ]
    },
    {
      "cell_type": "code",
      "source": [
        "trigram_phraser[\"That\", \"was\", \"not\", \"a\", \"big\", \"deal\"]"
      ],
      "metadata": {
        "id": "nBBKbw3_NkEl",
        "colab": {
          "base_uri": "https://localhost:8080/"
        },
        "outputId": "44db6b1f-fb9c-4c0b-f60d-62f71a20b15b"
      },
      "execution_count": null,
      "outputs": [
        {
          "output_type": "execute_result",
          "data": {
            "text/plain": [
              "['That', 'was', 'not', 'a', 'big', 'deal']"
            ]
          },
          "metadata": {},
          "execution_count": 16
        }
      ]
    },
    {
      "cell_type": "markdown",
      "source": [
        "How many trigrams are there in our dataset?"
      ],
      "metadata": {
        "id": "biCBYwu9JrC_"
      }
    },
    {
      "cell_type": "code",
      "source": [
        "len(bigram_phraser.phrasegrams.keys())"
      ],
      "metadata": {
        "id": "j5_76qZVJtld",
        "colab": {
          "base_uri": "https://localhost:8080/"
        },
        "outputId": "73f72555-dfff-4bf1-ec5f-0ef671f72c40"
      },
      "execution_count": null,
      "outputs": [
        {
          "output_type": "execute_result",
          "data": {
            "text/plain": [
              "423"
            ]
          },
          "metadata": {},
          "execution_count": 17
        }
      ]
    },
    {
      "cell_type": "code",
      "source": [
        "list(bigram_phraser.phrasegrams.keys())[:10]"
      ],
      "metadata": {
        "id": "Bfx6Pbt3NdEM",
        "colab": {
          "base_uri": "https://localhost:8080/"
        },
        "outputId": "b3d9fc7b-ab71-49b6-d303-de3d8c163c59"
      },
      "execution_count": null,
      "outputs": [
        {
          "output_type": "execute_result",
          "data": {
            "text/plain": [
              "[(b'thanks', b'advance'),\n",
              " (b'muscular', b'dystrophy'),\n",
              " (b'official', b'diagnosis'),\n",
              " (b'onset', b'date'),\n",
              " (b'bachelor', b'degree'),\n",
              " (b'wheelchair', b'user'),\n",
              " (b'muscle', b'weakness'),\n",
              " (b'l4', b'l5'),\n",
              " (b'spinal', b'cord'),\n",
              " (b'handicap', b'parking')]"
            ]
          },
          "metadata": {},
          "execution_count": 18
        }
      ]
    },
    {
      "cell_type": "code",
      "source": [
        "[trigram for trigram in list(trigram_phraser.phrasegrams.keys()) if trigram.count('_') == 2]"
      ],
      "metadata": {
        "id": "WkU6mXbPJvz7",
        "colab": {
          "base_uri": "https://localhost:8080/"
        },
        "outputId": "1d549916-2890-4b58-ae54-efa4a3dedb8a"
      },
      "execution_count": null,
      "outputs": [
        {
          "output_type": "execute_result",
          "data": {
            "text/plain": [
              "[]"
            ]
          },
          "metadata": {},
          "execution_count": 19
        }
      ]
    },
    {
      "cell_type": "code",
      "source": [
        "# Inserting next to selftext column\n",
        "df.insert(loc=7, column='lemmas', value=trigrams_joined)\n",
        "# Removing empty rows in lemmas\n",
        "df = df[~df['lemmas'].isin([''])]"
      ],
      "metadata": {
        "id": "RPkMDjMvJ9cD"
      },
      "execution_count": null,
      "outputs": []
    },
    {
      "cell_type": "code",
      "source": [
        " df.head(3)"
      ],
      "metadata": {
        "id": "dlLLfRuNPVg0",
        "colab": {
          "base_uri": "https://localhost:8080/",
          "height": 407
        },
        "outputId": "8b87c2f4-71a6-4e7a-e192-0d15f50c1c59"
      },
      "execution_count": null,
      "outputs": [
        {
          "output_type": "execute_result",
          "data": {
            "text/plain": [
              "   index  Unnamed: 0      id  created_utc link_flair_text author_flair_text  \\\n",
              "0      0           0  p8hcfj   1629505393             NaN               NaN   \n",
              "1      1           1  p84kgg   1629463903            Rant               NaN   \n",
              "2      3           3  p82mfs   1629455803      Discussion               NaN   \n",
              "\n",
              "             author                                             lemmas  \\\n",
              "0         OrdanCoal  like crying chronic_pain weak happy\"if happy s...   \n",
              "1          dusnood_  regular bills live relatives pay small things ...   \n",
              "2  ShenandoahValley  came manager local ssa office va spoke started...   \n",
              "\n",
              "   over_18                                              title  is_self  \\\n",
              "0    False  Anybody noticed the trap people set with your ...     True   \n",
              "1    False  Feeling guilty for spending with \"disability i...     True   \n",
              "2    False   Only 30% of SSD applicants approved on first try     True   \n",
              "\n",
              "                                            selftext  score  upvote_ratio  \\\n",
              "0  Like, if I'm crying because I'm in chronic pai...     34          0.92   \n",
              "1  I don’t have any regular bills as I still live...     32          0.94   \n",
              "2  This came from a manager at the local SSA offi...     14          0.90   \n",
              "\n",
              "  distinguished  num_comments  \n",
              "0           NaN            53  \n",
              "1           NaN            65  \n",
              "2           NaN            81  "
            ],
            "text/html": [
              "\n",
              "  <div id=\"df-7b52a65c-b4ab-4c8a-9e49-e1ea89e576ed\">\n",
              "    <div class=\"colab-df-container\">\n",
              "      <div>\n",
              "<style scoped>\n",
              "    .dataframe tbody tr th:only-of-type {\n",
              "        vertical-align: middle;\n",
              "    }\n",
              "\n",
              "    .dataframe tbody tr th {\n",
              "        vertical-align: top;\n",
              "    }\n",
              "\n",
              "    .dataframe thead th {\n",
              "        text-align: right;\n",
              "    }\n",
              "</style>\n",
              "<table border=\"1\" class=\"dataframe\">\n",
              "  <thead>\n",
              "    <tr style=\"text-align: right;\">\n",
              "      <th></th>\n",
              "      <th>index</th>\n",
              "      <th>Unnamed: 0</th>\n",
              "      <th>id</th>\n",
              "      <th>created_utc</th>\n",
              "      <th>link_flair_text</th>\n",
              "      <th>author_flair_text</th>\n",
              "      <th>author</th>\n",
              "      <th>lemmas</th>\n",
              "      <th>over_18</th>\n",
              "      <th>title</th>\n",
              "      <th>is_self</th>\n",
              "      <th>selftext</th>\n",
              "      <th>score</th>\n",
              "      <th>upvote_ratio</th>\n",
              "      <th>distinguished</th>\n",
              "      <th>num_comments</th>\n",
              "    </tr>\n",
              "  </thead>\n",
              "  <tbody>\n",
              "    <tr>\n",
              "      <th>0</th>\n",
              "      <td>0</td>\n",
              "      <td>0</td>\n",
              "      <td>p8hcfj</td>\n",
              "      <td>1629505393</td>\n",
              "      <td>NaN</td>\n",
              "      <td>NaN</td>\n",
              "      <td>OrdanCoal</td>\n",
              "      <td>like crying chronic_pain weak happy\"if happy s...</td>\n",
              "      <td>False</td>\n",
              "      <td>Anybody noticed the trap people set with your ...</td>\n",
              "      <td>True</td>\n",
              "      <td>Like, if I'm crying because I'm in chronic pai...</td>\n",
              "      <td>34</td>\n",
              "      <td>0.92</td>\n",
              "      <td>NaN</td>\n",
              "      <td>53</td>\n",
              "    </tr>\n",
              "    <tr>\n",
              "      <th>1</th>\n",
              "      <td>1</td>\n",
              "      <td>1</td>\n",
              "      <td>p84kgg</td>\n",
              "      <td>1629463903</td>\n",
              "      <td>Rant</td>\n",
              "      <td>NaN</td>\n",
              "      <td>dusnood_</td>\n",
              "      <td>regular bills live relatives pay small things ...</td>\n",
              "      <td>False</td>\n",
              "      <td>Feeling guilty for spending with \"disability i...</td>\n",
              "      <td>True</td>\n",
              "      <td>I don’t have any regular bills as I still live...</td>\n",
              "      <td>32</td>\n",
              "      <td>0.94</td>\n",
              "      <td>NaN</td>\n",
              "      <td>65</td>\n",
              "    </tr>\n",
              "    <tr>\n",
              "      <th>2</th>\n",
              "      <td>3</td>\n",
              "      <td>3</td>\n",
              "      <td>p82mfs</td>\n",
              "      <td>1629455803</td>\n",
              "      <td>Discussion</td>\n",
              "      <td>NaN</td>\n",
              "      <td>ShenandoahValley</td>\n",
              "      <td>came manager local ssa office va spoke started...</td>\n",
              "      <td>False</td>\n",
              "      <td>Only 30% of SSD applicants approved on first try</td>\n",
              "      <td>True</td>\n",
              "      <td>This came from a manager at the local SSA offi...</td>\n",
              "      <td>14</td>\n",
              "      <td>0.90</td>\n",
              "      <td>NaN</td>\n",
              "      <td>81</td>\n",
              "    </tr>\n",
              "  </tbody>\n",
              "</table>\n",
              "</div>\n",
              "      <button class=\"colab-df-convert\" onclick=\"convertToInteractive('df-7b52a65c-b4ab-4c8a-9e49-e1ea89e576ed')\"\n",
              "              title=\"Convert this dataframe to an interactive table.\"\n",
              "              style=\"display:none;\">\n",
              "        \n",
              "  <svg xmlns=\"http://www.w3.org/2000/svg\" height=\"24px\"viewBox=\"0 0 24 24\"\n",
              "       width=\"24px\">\n",
              "    <path d=\"M0 0h24v24H0V0z\" fill=\"none\"/>\n",
              "    <path d=\"M18.56 5.44l.94 2.06.94-2.06 2.06-.94-2.06-.94-.94-2.06-.94 2.06-2.06.94zm-11 1L8.5 8.5l.94-2.06 2.06-.94-2.06-.94L8.5 2.5l-.94 2.06-2.06.94zm10 10l.94 2.06.94-2.06 2.06-.94-2.06-.94-.94-2.06-.94 2.06-2.06.94z\"/><path d=\"M17.41 7.96l-1.37-1.37c-.4-.4-.92-.59-1.43-.59-.52 0-1.04.2-1.43.59L10.3 9.45l-7.72 7.72c-.78.78-.78 2.05 0 2.83L4 21.41c.39.39.9.59 1.41.59.51 0 1.02-.2 1.41-.59l7.78-7.78 2.81-2.81c.8-.78.8-2.07 0-2.86zM5.41 20L4 18.59l7.72-7.72 1.47 1.35L5.41 20z\"/>\n",
              "  </svg>\n",
              "      </button>\n",
              "      \n",
              "  <style>\n",
              "    .colab-df-container {\n",
              "      display:flex;\n",
              "      flex-wrap:wrap;\n",
              "      gap: 12px;\n",
              "    }\n",
              "\n",
              "    .colab-df-convert {\n",
              "      background-color: #E8F0FE;\n",
              "      border: none;\n",
              "      border-radius: 50%;\n",
              "      cursor: pointer;\n",
              "      display: none;\n",
              "      fill: #1967D2;\n",
              "      height: 32px;\n",
              "      padding: 0 0 0 0;\n",
              "      width: 32px;\n",
              "    }\n",
              "\n",
              "    .colab-df-convert:hover {\n",
              "      background-color: #E2EBFA;\n",
              "      box-shadow: 0px 1px 2px rgba(60, 64, 67, 0.3), 0px 1px 3px 1px rgba(60, 64, 67, 0.15);\n",
              "      fill: #174EA6;\n",
              "    }\n",
              "\n",
              "    [theme=dark] .colab-df-convert {\n",
              "      background-color: #3B4455;\n",
              "      fill: #D2E3FC;\n",
              "    }\n",
              "\n",
              "    [theme=dark] .colab-df-convert:hover {\n",
              "      background-color: #434B5C;\n",
              "      box-shadow: 0px 1px 3px 1px rgba(0, 0, 0, 0.15);\n",
              "      filter: drop-shadow(0px 1px 2px rgba(0, 0, 0, 0.3));\n",
              "      fill: #FFFFFF;\n",
              "    }\n",
              "  </style>\n",
              "\n",
              "      <script>\n",
              "        const buttonEl =\n",
              "          document.querySelector('#df-7b52a65c-b4ab-4c8a-9e49-e1ea89e576ed button.colab-df-convert');\n",
              "        buttonEl.style.display =\n",
              "          google.colab.kernel.accessAllowed ? 'block' : 'none';\n",
              "\n",
              "        async function convertToInteractive(key) {\n",
              "          const element = document.querySelector('#df-7b52a65c-b4ab-4c8a-9e49-e1ea89e576ed');\n",
              "          const dataTable =\n",
              "            await google.colab.kernel.invokeFunction('convertToInteractive',\n",
              "                                                     [key], {});\n",
              "          if (!dataTable) return;\n",
              "\n",
              "          const docLinkHtml = 'Like what you see? Visit the ' +\n",
              "            '<a target=\"_blank\" href=https://colab.research.google.com/notebooks/data_table.ipynb>data table notebook</a>'\n",
              "            + ' to learn more about interactive tables.';\n",
              "          element.innerHTML = '';\n",
              "          dataTable['output_type'] = 'display_data';\n",
              "          await google.colab.output.renderOutput(dataTable, element);\n",
              "          const docLink = document.createElement('div');\n",
              "          docLink.innerHTML = docLinkHtml;\n",
              "          element.appendChild(docLink);\n",
              "        }\n",
              "      </script>\n",
              "    </div>\n",
              "  </div>\n",
              "  "
            ]
          },
          "metadata": {},
          "execution_count": 21
        }
      ]
    },
    {
      "cell_type": "code",
      "source": [
        "df.to_csv('disability_sub_top_sm_lemmas.csv', index=False)"
      ],
      "metadata": {
        "id": "-12KwhBqQVxX"
      },
      "execution_count": null,
      "outputs": []
    },
    {
      "cell_type": "code",
      "source": [
        "df.shape"
      ],
      "metadata": {
        "id": "uFCbOtNYQbhk",
        "colab": {
          "base_uri": "https://localhost:8080/"
        },
        "outputId": "97f169de-92e6-491b-f3c5-ed89248d5c9f"
      },
      "execution_count": null,
      "outputs": [
        {
          "output_type": "execute_result",
          "data": {
            "text/plain": [
              "(14920, 16)"
            ]
          },
          "metadata": {},
          "execution_count": 23
        }
      ]
    },
    {
      "cell_type": "markdown",
      "source": [
        "**Question for the team: why does the save file contain 30,300 entries instead of 14,920 like we see here?**"
      ],
      "metadata": {
        "id": "2rXeFe7ZREpW"
      }
    },
    {
      "cell_type": "code",
      "source": [
        "df.shape"
      ],
      "metadata": {
        "id": "2RAkpCI_QfAw",
        "colab": {
          "base_uri": "https://localhost:8080/"
        },
        "outputId": "8324a069-0d96-48d9-a0c2-bdcc00d71f4c"
      },
      "execution_count": null,
      "outputs": [
        {
          "output_type": "execute_result",
          "data": {
            "text/plain": [
              "(14920, 16)"
            ]
          },
          "metadata": {},
          "execution_count": 24
        }
      ]
    },
    {
      "cell_type": "code",
      "source": [
        "df = pd.read_csv('disability_sub_top_sm_lemmas.csv')"
      ],
      "metadata": {
        "id": "lDSLYX3jQgA7"
      },
      "execution_count": null,
      "outputs": []
    },
    {
      "cell_type": "code",
      "source": [
        "df.head()"
      ],
      "metadata": {
        "id": "fZ51y8FgRUXz",
        "colab": {
          "base_uri": "https://localhost:8080/",
          "height": 710
        },
        "outputId": "2a8e3abf-4cd5-4049-c367-984e6afd8d2c"
      },
      "execution_count": null,
      "outputs": [
        {
          "output_type": "execute_result",
          "data": {
            "text/plain": [
              "   index  Unnamed: 0      id  created_utc link_flair_text author_flair_text  \\\n",
              "0      0           0  p8hcfj   1629505393             NaN               NaN   \n",
              "1      1           1  p84kgg   1629463903            Rant               NaN   \n",
              "2      3           3  p82mfs   1629455803      Discussion               NaN   \n",
              "3      4           4  p8cdd2   1629488445             NaN               NaN   \n",
              "4      5           5  p8w0cl   1629568461            Rant               NaN   \n",
              "\n",
              "                 author                                             lemmas  \\\n",
              "0             OrdanCoal  like crying chronic_pain weak happy\"if happy s...   \n",
              "1              dusnood_  regular bills live relatives pay small things ...   \n",
              "2      ShenandoahValley  came manager local ssa office va spoke started...   \n",
              "3  musicalearnightingal  coworkers hates workplaces politics having hat...   \n",
              "4            OracNimsaj  context 24f unknown form muscular_dystrophy wa...   \n",
              "\n",
              "   over_18                                              title  is_self  \\\n",
              "0    False  Anybody noticed the trap people set with your ...     True   \n",
              "1    False  Feeling guilty for spending with \"disability i...     True   \n",
              "2    False   Only 30% of SSD applicants approved on first try     True   \n",
              "3    False  Have you ever called someone out for treating ...     True   \n",
              "4    False  What's the most ridiculous (or infuriating) th...     True   \n",
              "\n",
              "                                            selftext  score  upvote_ratio  \\\n",
              "0  Like, if I'm crying because I'm in chronic pai...     34          0.92   \n",
              "1  I don’t have any regular bills as I still live...     32          0.94   \n",
              "2  This came from a manager at the local SSA offi...     14          0.90   \n",
              "3  So one of my coworkers really hates me. I get ...     12          0.93   \n",
              "4  context: I (24F) have an unknown form of Muscu...     11          0.92   \n",
              "\n",
              "  distinguished  num_comments  \n",
              "0           NaN            53  \n",
              "1           NaN            65  \n",
              "2           NaN            81  \n",
              "3           NaN            20  \n",
              "4           NaN           179  "
            ],
            "text/html": [
              "\n",
              "  <div id=\"df-86cbc9d3-4d21-4ce5-ad6a-d2648b9788bd\">\n",
              "    <div class=\"colab-df-container\">\n",
              "      <div>\n",
              "<style scoped>\n",
              "    .dataframe tbody tr th:only-of-type {\n",
              "        vertical-align: middle;\n",
              "    }\n",
              "\n",
              "    .dataframe tbody tr th {\n",
              "        vertical-align: top;\n",
              "    }\n",
              "\n",
              "    .dataframe thead th {\n",
              "        text-align: right;\n",
              "    }\n",
              "</style>\n",
              "<table border=\"1\" class=\"dataframe\">\n",
              "  <thead>\n",
              "    <tr style=\"text-align: right;\">\n",
              "      <th></th>\n",
              "      <th>index</th>\n",
              "      <th>Unnamed: 0</th>\n",
              "      <th>id</th>\n",
              "      <th>created_utc</th>\n",
              "      <th>link_flair_text</th>\n",
              "      <th>author_flair_text</th>\n",
              "      <th>author</th>\n",
              "      <th>lemmas</th>\n",
              "      <th>over_18</th>\n",
              "      <th>title</th>\n",
              "      <th>is_self</th>\n",
              "      <th>selftext</th>\n",
              "      <th>score</th>\n",
              "      <th>upvote_ratio</th>\n",
              "      <th>distinguished</th>\n",
              "      <th>num_comments</th>\n",
              "    </tr>\n",
              "  </thead>\n",
              "  <tbody>\n",
              "    <tr>\n",
              "      <th>0</th>\n",
              "      <td>0</td>\n",
              "      <td>0</td>\n",
              "      <td>p8hcfj</td>\n",
              "      <td>1629505393</td>\n",
              "      <td>NaN</td>\n",
              "      <td>NaN</td>\n",
              "      <td>OrdanCoal</td>\n",
              "      <td>like crying chronic_pain weak happy\"if happy s...</td>\n",
              "      <td>False</td>\n",
              "      <td>Anybody noticed the trap people set with your ...</td>\n",
              "      <td>True</td>\n",
              "      <td>Like, if I'm crying because I'm in chronic pai...</td>\n",
              "      <td>34</td>\n",
              "      <td>0.92</td>\n",
              "      <td>NaN</td>\n",
              "      <td>53</td>\n",
              "    </tr>\n",
              "    <tr>\n",
              "      <th>1</th>\n",
              "      <td>1</td>\n",
              "      <td>1</td>\n",
              "      <td>p84kgg</td>\n",
              "      <td>1629463903</td>\n",
              "      <td>Rant</td>\n",
              "      <td>NaN</td>\n",
              "      <td>dusnood_</td>\n",
              "      <td>regular bills live relatives pay small things ...</td>\n",
              "      <td>False</td>\n",
              "      <td>Feeling guilty for spending with \"disability i...</td>\n",
              "      <td>True</td>\n",
              "      <td>I don’t have any regular bills as I still live...</td>\n",
              "      <td>32</td>\n",
              "      <td>0.94</td>\n",
              "      <td>NaN</td>\n",
              "      <td>65</td>\n",
              "    </tr>\n",
              "    <tr>\n",
              "      <th>2</th>\n",
              "      <td>3</td>\n",
              "      <td>3</td>\n",
              "      <td>p82mfs</td>\n",
              "      <td>1629455803</td>\n",
              "      <td>Discussion</td>\n",
              "      <td>NaN</td>\n",
              "      <td>ShenandoahValley</td>\n",
              "      <td>came manager local ssa office va spoke started...</td>\n",
              "      <td>False</td>\n",
              "      <td>Only 30% of SSD applicants approved on first try</td>\n",
              "      <td>True</td>\n",
              "      <td>This came from a manager at the local SSA offi...</td>\n",
              "      <td>14</td>\n",
              "      <td>0.90</td>\n",
              "      <td>NaN</td>\n",
              "      <td>81</td>\n",
              "    </tr>\n",
              "    <tr>\n",
              "      <th>3</th>\n",
              "      <td>4</td>\n",
              "      <td>4</td>\n",
              "      <td>p8cdd2</td>\n",
              "      <td>1629488445</td>\n",
              "      <td>NaN</td>\n",
              "      <td>NaN</td>\n",
              "      <td>musicalearnightingal</td>\n",
              "      <td>coworkers hates workplaces politics having hat...</td>\n",
              "      <td>False</td>\n",
              "      <td>Have you ever called someone out for treating ...</td>\n",
              "      <td>True</td>\n",
              "      <td>So one of my coworkers really hates me. I get ...</td>\n",
              "      <td>12</td>\n",
              "      <td>0.93</td>\n",
              "      <td>NaN</td>\n",
              "      <td>20</td>\n",
              "    </tr>\n",
              "    <tr>\n",
              "      <th>4</th>\n",
              "      <td>5</td>\n",
              "      <td>5</td>\n",
              "      <td>p8w0cl</td>\n",
              "      <td>1629568461</td>\n",
              "      <td>Rant</td>\n",
              "      <td>NaN</td>\n",
              "      <td>OracNimsaj</td>\n",
              "      <td>context 24f unknown form muscular_dystrophy wa...</td>\n",
              "      <td>False</td>\n",
              "      <td>What's the most ridiculous (or infuriating) th...</td>\n",
              "      <td>True</td>\n",
              "      <td>context: I (24F) have an unknown form of Muscu...</td>\n",
              "      <td>11</td>\n",
              "      <td>0.92</td>\n",
              "      <td>NaN</td>\n",
              "      <td>179</td>\n",
              "    </tr>\n",
              "  </tbody>\n",
              "</table>\n",
              "</div>\n",
              "      <button class=\"colab-df-convert\" onclick=\"convertToInteractive('df-86cbc9d3-4d21-4ce5-ad6a-d2648b9788bd')\"\n",
              "              title=\"Convert this dataframe to an interactive table.\"\n",
              "              style=\"display:none;\">\n",
              "        \n",
              "  <svg xmlns=\"http://www.w3.org/2000/svg\" height=\"24px\"viewBox=\"0 0 24 24\"\n",
              "       width=\"24px\">\n",
              "    <path d=\"M0 0h24v24H0V0z\" fill=\"none\"/>\n",
              "    <path d=\"M18.56 5.44l.94 2.06.94-2.06 2.06-.94-2.06-.94-.94-2.06-.94 2.06-2.06.94zm-11 1L8.5 8.5l.94-2.06 2.06-.94-2.06-.94L8.5 2.5l-.94 2.06-2.06.94zm10 10l.94 2.06.94-2.06 2.06-.94-2.06-.94-.94-2.06-.94 2.06-2.06.94z\"/><path d=\"M17.41 7.96l-1.37-1.37c-.4-.4-.92-.59-1.43-.59-.52 0-1.04.2-1.43.59L10.3 9.45l-7.72 7.72c-.78.78-.78 2.05 0 2.83L4 21.41c.39.39.9.59 1.41.59.51 0 1.02-.2 1.41-.59l7.78-7.78 2.81-2.81c.8-.78.8-2.07 0-2.86zM5.41 20L4 18.59l7.72-7.72 1.47 1.35L5.41 20z\"/>\n",
              "  </svg>\n",
              "      </button>\n",
              "      \n",
              "  <style>\n",
              "    .colab-df-container {\n",
              "      display:flex;\n",
              "      flex-wrap:wrap;\n",
              "      gap: 12px;\n",
              "    }\n",
              "\n",
              "    .colab-df-convert {\n",
              "      background-color: #E8F0FE;\n",
              "      border: none;\n",
              "      border-radius: 50%;\n",
              "      cursor: pointer;\n",
              "      display: none;\n",
              "      fill: #1967D2;\n",
              "      height: 32px;\n",
              "      padding: 0 0 0 0;\n",
              "      width: 32px;\n",
              "    }\n",
              "\n",
              "    .colab-df-convert:hover {\n",
              "      background-color: #E2EBFA;\n",
              "      box-shadow: 0px 1px 2px rgba(60, 64, 67, 0.3), 0px 1px 3px 1px rgba(60, 64, 67, 0.15);\n",
              "      fill: #174EA6;\n",
              "    }\n",
              "\n",
              "    [theme=dark] .colab-df-convert {\n",
              "      background-color: #3B4455;\n",
              "      fill: #D2E3FC;\n",
              "    }\n",
              "\n",
              "    [theme=dark] .colab-df-convert:hover {\n",
              "      background-color: #434B5C;\n",
              "      box-shadow: 0px 1px 3px 1px rgba(0, 0, 0, 0.15);\n",
              "      filter: drop-shadow(0px 1px 2px rgba(0, 0, 0, 0.3));\n",
              "      fill: #FFFFFF;\n",
              "    }\n",
              "  </style>\n",
              "\n",
              "      <script>\n",
              "        const buttonEl =\n",
              "          document.querySelector('#df-86cbc9d3-4d21-4ce5-ad6a-d2648b9788bd button.colab-df-convert');\n",
              "        buttonEl.style.display =\n",
              "          google.colab.kernel.accessAllowed ? 'block' : 'none';\n",
              "\n",
              "        async function convertToInteractive(key) {\n",
              "          const element = document.querySelector('#df-86cbc9d3-4d21-4ce5-ad6a-d2648b9788bd');\n",
              "          const dataTable =\n",
              "            await google.colab.kernel.invokeFunction('convertToInteractive',\n",
              "                                                     [key], {});\n",
              "          if (!dataTable) return;\n",
              "\n",
              "          const docLinkHtml = 'Like what you see? Visit the ' +\n",
              "            '<a target=\"_blank\" href=https://colab.research.google.com/notebooks/data_table.ipynb>data table notebook</a>'\n",
              "            + ' to learn more about interactive tables.';\n",
              "          element.innerHTML = '';\n",
              "          dataTable['output_type'] = 'display_data';\n",
              "          await google.colab.output.renderOutput(dataTable, element);\n",
              "          const docLink = document.createElement('div');\n",
              "          docLink.innerHTML = docLinkHtml;\n",
              "          element.appendChild(docLink);\n",
              "        }\n",
              "      </script>\n",
              "    </div>\n",
              "  </div>\n",
              "  "
            ]
          },
          "metadata": {},
          "execution_count": 26
        }
      ]
    },
    {
      "cell_type": "markdown",
      "source": [
        "Sampling the top 3 posts. We have relatively low posts compared to \"Am I The Asshole\""
      ],
      "metadata": {
        "id": "WG3SrtIfRi4P"
      }
    },
    {
      "cell_type": "code",
      "source": [
        "df.sort_values(by=['score'], ascending=False)[:3]"
      ],
      "metadata": {
        "id": "9wyyJb_LRY-2",
        "colab": {
          "base_uri": "https://localhost:8080/",
          "height": 475
        },
        "outputId": "c9192f8d-6ac9-4560-c058-a7e61702dea7"
      },
      "execution_count": null,
      "outputs": [
        {
          "output_type": "execute_result",
          "data": {
            "text/plain": [
              "       index  Unnamed: 0      id  created_utc link_flair_text  \\\n",
              "9486   18284       18284  btda50   1558904951             NaN   \n",
              "9390   18089       18089  bfq7v6   1555862031             NaN   \n",
              "11275  22079       22079  8htanx   1525746822            Rant   \n",
              "\n",
              "      author_flair_text            author  \\\n",
              "9486                NaN    onegalnamedsal   \n",
              "9390                NaN   Disabledsnarker   \n",
              "11275               NaN  knockoffpainting   \n",
              "\n",
              "                                                  lemmas  over_18  \\\n",
              "9486   meet new people thing spend seconds wondering ...    False   \n",
              "9390   bullshit employers accommodate smokers disable...    False   \n",
              "11275  referred disabled corrected saying differently...    False   \n",
              "\n",
              "                                                   title  is_self  \\\n",
              "9486   Just because my life is on hardcore mode doesn...     True   \n",
              "9390   Employers are more flexible for chain smokers ...     True   \n",
              "11275  An able-bodied person corrected the term I use...     True   \n",
              "\n",
              "                                                selftext  score  upvote_ratio  \\\n",
              "9486   When I meet new people, quite often the first ...    232           NaN   \n",
              "9390   It's bullshit that employers accommodate smoke...    142           NaN   \n",
              "11275  I referred to myself as “disabled”, and she co...    135           NaN   \n",
              "\n",
              "      distinguished  num_comments  \n",
              "9486            NaN            25  \n",
              "9390            NaN            14  \n",
              "11275           NaN            65  "
            ],
            "text/html": [
              "\n",
              "  <div id=\"df-0cdd0b7c-30ab-4b0e-b368-ec73000db003\">\n",
              "    <div class=\"colab-df-container\">\n",
              "      <div>\n",
              "<style scoped>\n",
              "    .dataframe tbody tr th:only-of-type {\n",
              "        vertical-align: middle;\n",
              "    }\n",
              "\n",
              "    .dataframe tbody tr th {\n",
              "        vertical-align: top;\n",
              "    }\n",
              "\n",
              "    .dataframe thead th {\n",
              "        text-align: right;\n",
              "    }\n",
              "</style>\n",
              "<table border=\"1\" class=\"dataframe\">\n",
              "  <thead>\n",
              "    <tr style=\"text-align: right;\">\n",
              "      <th></th>\n",
              "      <th>index</th>\n",
              "      <th>Unnamed: 0</th>\n",
              "      <th>id</th>\n",
              "      <th>created_utc</th>\n",
              "      <th>link_flair_text</th>\n",
              "      <th>author_flair_text</th>\n",
              "      <th>author</th>\n",
              "      <th>lemmas</th>\n",
              "      <th>over_18</th>\n",
              "      <th>title</th>\n",
              "      <th>is_self</th>\n",
              "      <th>selftext</th>\n",
              "      <th>score</th>\n",
              "      <th>upvote_ratio</th>\n",
              "      <th>distinguished</th>\n",
              "      <th>num_comments</th>\n",
              "    </tr>\n",
              "  </thead>\n",
              "  <tbody>\n",
              "    <tr>\n",
              "      <th>9486</th>\n",
              "      <td>18284</td>\n",
              "      <td>18284</td>\n",
              "      <td>btda50</td>\n",
              "      <td>1558904951</td>\n",
              "      <td>NaN</td>\n",
              "      <td>NaN</td>\n",
              "      <td>onegalnamedsal</td>\n",
              "      <td>meet new people thing spend seconds wondering ...</td>\n",
              "      <td>False</td>\n",
              "      <td>Just because my life is on hardcore mode doesn...</td>\n",
              "      <td>True</td>\n",
              "      <td>When I meet new people, quite often the first ...</td>\n",
              "      <td>232</td>\n",
              "      <td>NaN</td>\n",
              "      <td>NaN</td>\n",
              "      <td>25</td>\n",
              "    </tr>\n",
              "    <tr>\n",
              "      <th>9390</th>\n",
              "      <td>18089</td>\n",
              "      <td>18089</td>\n",
              "      <td>bfq7v6</td>\n",
              "      <td>1555862031</td>\n",
              "      <td>NaN</td>\n",
              "      <td>NaN</td>\n",
              "      <td>Disabledsnarker</td>\n",
              "      <td>bullshit employers accommodate smokers disable...</td>\n",
              "      <td>False</td>\n",
              "      <td>Employers are more flexible for chain smokers ...</td>\n",
              "      <td>True</td>\n",
              "      <td>It's bullshit that employers accommodate smoke...</td>\n",
              "      <td>142</td>\n",
              "      <td>NaN</td>\n",
              "      <td>NaN</td>\n",
              "      <td>14</td>\n",
              "    </tr>\n",
              "    <tr>\n",
              "      <th>11275</th>\n",
              "      <td>22079</td>\n",
              "      <td>22079</td>\n",
              "      <td>8htanx</td>\n",
              "      <td>1525746822</td>\n",
              "      <td>Rant</td>\n",
              "      <td>NaN</td>\n",
              "      <td>knockoffpainting</td>\n",
              "      <td>referred disabled corrected saying differently...</td>\n",
              "      <td>False</td>\n",
              "      <td>An able-bodied person corrected the term I use...</td>\n",
              "      <td>True</td>\n",
              "      <td>I referred to myself as “disabled”, and she co...</td>\n",
              "      <td>135</td>\n",
              "      <td>NaN</td>\n",
              "      <td>NaN</td>\n",
              "      <td>65</td>\n",
              "    </tr>\n",
              "  </tbody>\n",
              "</table>\n",
              "</div>\n",
              "      <button class=\"colab-df-convert\" onclick=\"convertToInteractive('df-0cdd0b7c-30ab-4b0e-b368-ec73000db003')\"\n",
              "              title=\"Convert this dataframe to an interactive table.\"\n",
              "              style=\"display:none;\">\n",
              "        \n",
              "  <svg xmlns=\"http://www.w3.org/2000/svg\" height=\"24px\"viewBox=\"0 0 24 24\"\n",
              "       width=\"24px\">\n",
              "    <path d=\"M0 0h24v24H0V0z\" fill=\"none\"/>\n",
              "    <path d=\"M18.56 5.44l.94 2.06.94-2.06 2.06-.94-2.06-.94-.94-2.06-.94 2.06-2.06.94zm-11 1L8.5 8.5l.94-2.06 2.06-.94-2.06-.94L8.5 2.5l-.94 2.06-2.06.94zm10 10l.94 2.06.94-2.06 2.06-.94-2.06-.94-.94-2.06-.94 2.06-2.06.94z\"/><path d=\"M17.41 7.96l-1.37-1.37c-.4-.4-.92-.59-1.43-.59-.52 0-1.04.2-1.43.59L10.3 9.45l-7.72 7.72c-.78.78-.78 2.05 0 2.83L4 21.41c.39.39.9.59 1.41.59.51 0 1.02-.2 1.41-.59l7.78-7.78 2.81-2.81c.8-.78.8-2.07 0-2.86zM5.41 20L4 18.59l7.72-7.72 1.47 1.35L5.41 20z\"/>\n",
              "  </svg>\n",
              "      </button>\n",
              "      \n",
              "  <style>\n",
              "    .colab-df-container {\n",
              "      display:flex;\n",
              "      flex-wrap:wrap;\n",
              "      gap: 12px;\n",
              "    }\n",
              "\n",
              "    .colab-df-convert {\n",
              "      background-color: #E8F0FE;\n",
              "      border: none;\n",
              "      border-radius: 50%;\n",
              "      cursor: pointer;\n",
              "      display: none;\n",
              "      fill: #1967D2;\n",
              "      height: 32px;\n",
              "      padding: 0 0 0 0;\n",
              "      width: 32px;\n",
              "    }\n",
              "\n",
              "    .colab-df-convert:hover {\n",
              "      background-color: #E2EBFA;\n",
              "      box-shadow: 0px 1px 2px rgba(60, 64, 67, 0.3), 0px 1px 3px 1px rgba(60, 64, 67, 0.15);\n",
              "      fill: #174EA6;\n",
              "    }\n",
              "\n",
              "    [theme=dark] .colab-df-convert {\n",
              "      background-color: #3B4455;\n",
              "      fill: #D2E3FC;\n",
              "    }\n",
              "\n",
              "    [theme=dark] .colab-df-convert:hover {\n",
              "      background-color: #434B5C;\n",
              "      box-shadow: 0px 1px 3px 1px rgba(0, 0, 0, 0.15);\n",
              "      filter: drop-shadow(0px 1px 2px rgba(0, 0, 0, 0.3));\n",
              "      fill: #FFFFFF;\n",
              "    }\n",
              "  </style>\n",
              "\n",
              "      <script>\n",
              "        const buttonEl =\n",
              "          document.querySelector('#df-0cdd0b7c-30ab-4b0e-b368-ec73000db003 button.colab-df-convert');\n",
              "        buttonEl.style.display =\n",
              "          google.colab.kernel.accessAllowed ? 'block' : 'none';\n",
              "\n",
              "        async function convertToInteractive(key) {\n",
              "          const element = document.querySelector('#df-0cdd0b7c-30ab-4b0e-b368-ec73000db003');\n",
              "          const dataTable =\n",
              "            await google.colab.kernel.invokeFunction('convertToInteractive',\n",
              "                                                     [key], {});\n",
              "          if (!dataTable) return;\n",
              "\n",
              "          const docLinkHtml = 'Like what you see? Visit the ' +\n",
              "            '<a target=\"_blank\" href=https://colab.research.google.com/notebooks/data_table.ipynb>data table notebook</a>'\n",
              "            + ' to learn more about interactive tables.';\n",
              "          element.innerHTML = '';\n",
              "          dataTable['output_type'] = 'display_data';\n",
              "          await google.colab.output.renderOutput(dataTable, element);\n",
              "          const docLink = document.createElement('div');\n",
              "          docLink.innerHTML = docLinkHtml;\n",
              "          element.appendChild(docLink);\n",
              "        }\n",
              "      </script>\n",
              "    </div>\n",
              "  </div>\n",
              "  "
            ]
          },
          "metadata": {},
          "execution_count": 27
        }
      ]
    },
    {
      "cell_type": "markdown",
      "source": [
        "Creating a new dataframe with only those posts that received more than 5 upvotes (we can change this later if we want for your own purposes or for our group project)"
      ],
      "metadata": {
        "id": "JiavG8_lR1ik"
      }
    },
    {
      "cell_type": "code",
      "source": [
        "df_top = df.loc[df['score'] >= 5, :]\n",
        "len(df_top)"
      ],
      "metadata": {
        "id": "u-L044hZRv5E",
        "colab": {
          "base_uri": "https://localhost:8080/"
        },
        "outputId": "b67c6cb4-9b68-41e7-b4ce-bbffc2c16671"
      },
      "execution_count": null,
      "outputs": [
        {
          "output_type": "execute_result",
          "data": {
            "text/plain": [
              "3691"
            ]
          },
          "metadata": {},
          "execution_count": 28
        }
      ]
    },
    {
      "cell_type": "markdown",
      "source": [
        "A count/list of what types of posts there are in the reddit. My personal project will probably focus in on \"rants,\" but your project or our group project might choose to focus in on something else."
      ],
      "metadata": {
        "id": "XlfGJCrVSIOH"
      }
    },
    {
      "cell_type": "code",
      "source": [
        "df.link_flair_text.value_counts() #I might want to focus in on the Rant flair"
      ],
      "metadata": {
        "id": "rgTajzpbSEst",
        "colab": {
          "base_uri": "https://localhost:8080/"
        },
        "outputId": "3d8e0949-1fbf-40df-e4f0-42ba660d917f"
      },
      "execution_count": null,
      "outputs": [
        {
          "output_type": "execute_result",
          "data": {
            "text/plain": [
              "Question             4633\n",
              "Rant                 1116\n",
              "Concern               667\n",
              "Discussion            494\n",
              "Other                 361\n",
              "Article / News        110\n",
              "Video                  47\n",
              "Survey                 33\n",
              "Blog                   28\n",
              "Intimacy               22\n",
              "Image                  12\n",
              "MOD POST                2\n",
              "Announcement            2\n",
              "Survey - Approved       1\n",
              "Removed: Rule 4         1\n",
              "VERIFIED                1\n",
              "Mod Post                1\n",
              "Name: link_flair_text, dtype: int64"
            ]
          },
          "metadata": {},
          "execution_count": 29
        }
      ]
    },
    {
      "cell_type": "markdown",
      "source": [
        "We can also filter out by author flair text, but this is much more limited"
      ],
      "metadata": {
        "id": "SZxp5IwAShmX"
      }
    },
    {
      "cell_type": "code",
      "source": [
        "df.author_flair_text.value_counts()"
      ],
      "metadata": {
        "id": "C_3ROCj4SUL5",
        "colab": {
          "base_uri": "https://localhost:8080/"
        },
        "outputId": "bbfe689a-1f41-4b85-911b-0ace595e1df0"
      },
      "execution_count": null,
      "outputs": [
        {
          "output_type": "execute_result",
          "data": {
            "text/plain": [
              "MS & Fibro                                                   67\n",
              "Cerebral Palsy                                               50\n",
              "chronic pain, visual impairment, CPTSD, SPD                  30\n",
              "You based all your holidays off of pagan holidays!           28\n",
              "dystonia and autoimmune disease                              26\n",
              "                                                             ..\n",
              "CMT, Wheelchair                                               1\n",
              "confused wheelchair guy                                       1\n",
              "c7 quad                                                       1\n",
              "Fibromyalgia, Epilepsy, GAD, Angioedema, Severe Allergies     1\n",
              "Educate Me                                                    1\n",
              "Name: author_flair_text, Length: 381, dtype: int64"
            ]
          },
          "metadata": {},
          "execution_count": 30
        }
      ]
    },
    {
      "cell_type": "markdown",
      "source": [
        "Below is a function for identifing the \"token ratio\" in a post. A high TTR indicates a high amount of token variation."
      ],
      "metadata": {
        "id": "aMcjcU66SsNB"
      }
    },
    {
      "cell_type": "code",
      "source": [
        "def type_token_ratio(tokens):\n",
        "    \"\"\"Calculates type-token ratio on tokens.\"\"\"\n",
        "    numTokens = len(tokens)\n",
        "    numTypes = len(set(tokens))\n",
        "    return numTypes / numTokens"
      ],
      "metadata": {
        "id": "QzVRcoBPSk3K"
      },
      "execution_count": null,
      "outputs": []
    },
    {
      "cell_type": "code",
      "source": [
        "for text in df['lemmas'][:10]:\n",
        "    tokens = text.split()\n",
        "    print('Text:\\n', text)\n",
        "    print('TTR:', type_token_ratio(tokens), '\\n')"
      ],
      "metadata": {
        "id": "dalIyTI8SzFs",
        "colab": {
          "base_uri": "https://localhost:8080/"
        },
        "outputId": "c1eaf7a3-350e-447b-c4e5-526c2ba2209c"
      },
      "execution_count": null,
      "outputs": [
        {
          "output_type": "stream",
          "name": "stdout",
          "text": [
            "Text:\n",
            " like crying chronic_pain weak happy\"if happy smile means possibly painthe fucked thing definitely pain happy meet nasty person thought like turns horrible ableist vomit people know know person legitimately pain smiling people vouched neighbors friends kind people genuinely want meet suddenly turned complete bigots like coming find dear member family like dangerously racist uncle women people think worst things disabled debatably worst thing faith lose life humanity like okay tiny spinning rock edge centerless void realize little company fellows care mean that's worse definitely worse\n",
            "TTR: 0.8117647058823529 \n",
            "\n",
            "Text:\n",
            " regular bills live relatives pay small things food clothes transportation months continue receive monthly beginning year able save bit feel_guilty spending buy needs wants usually € rarely 50€. deal expensive stuff immediate needs like yeah afford savings etc money right work hard money allowed spend kind stuff feel like accurate vision needs reasonable wants case having job feel like don’t can’t deserve buy deal bought expensive phone laptop expensive clothing high priced events travel trips etc income disability?since young absolutely guarantee able work someday course need save order survive stop living supported relatives know okay spend help goes bit extra money fun sure spend ahead simultaneously going careful spend time easy work earn money easier want justify feel stuck undeserving super thankful allowed money feel like bandit like government realize pay someday money\n",
            "TTR: 0.7518796992481203 \n",
            "\n",
            "Text:\n",
            " came manager local ssa office va spoke started process months kind daunting sure likely friendly govt worker spoken open discussion believe working home know accurate number based read hear tend believe took months start finish approved attempt going early ss based disabled job asked fraudulent claims believes response lines delays legitimate ones getting claims approved claim approved received notice dr approved ssa assessment dr actually pa said shows morning asked said know cases folks know business applying ssd folks hurting ones need clue fix system\n",
            "TTR: 0.8235294117647058 \n",
            "\n",
            "Text:\n",
            " coworkers hates workplaces politics having hate work uncommon wheelchair person rude makes life difficult instances time moved cart come angrily jerked purposely let door close right obvious struggle doors thought know act wheelchair brushed morning came right cart blocked way come awkwardly chuckled moved way went past went room burst tears treats wheelchair like hate good reason hate rotten hearted act like like fly mean obstacle cruel people decide throw way obstacles kind treatment good person tell rude makes problems worse similar situation able deal want jerk ask treated civility common decency like thoughts advice welcome thanks_advance\n",
            "TTR: 0.8041237113402062 \n",
            "\n",
            "Text:\n",
            " context 24f unknown form muscular_dystrophy walk slow pretty severe gait mall ducked store away people staring yay social_anxiety older lady ~60 came said fake smile people stare jealous pretty confident got interested stories got\n",
            "TTR: 0.9117647058823529 \n",
            "\n",
            "Text:\n",
            " semi verbal autism spd diagnosed child diagnosed mental_health issues diagnosed ibs diagnosed nerve function problems including lesion brain documented undiagnosed physical health issues suspected autoimmune_disorder eds kind dysautonomia possible mcas official_diagnosis neuro pretty sure specialists able actually diagnose october sense start applying disablity adult_child job probably able sense wait official diagnoses given\n",
            "TTR: 0.8846153846153846 \n",
            "\n",
            "Text:\n",
            " look timeline life surviving childhood adulthood lifelong disabled person entails eventually find helps manage accept sort feel like matter time point find hard differentiate acceptable treatments pharmaceuticals unacceptable ones illicit substances).basically rely survive enjoy time habits hurting feel point ok perspective\n",
            "TTR: 0.9024390243902439 \n",
            "\n",
            "Text:\n",
            " got hired injured vocational retraining program hired knowing dealing end month probation period told believe able continue work decided let understand position shocked come leaps bounds physical capabilities gotten better able find ways work thought professionalism work experience fact working disabled person offer protection mean depending disabled employed job regardless work planed.my days weeks rest.and work periods adjusted physical_therapy wellness programs specifically help job like day employed morning unemployed evening worst thing felt helping better lots physical work lots detailed work painful physically helpful better pt know rant asking advice stunned right great months having job advice love_hear\n",
            "TTR: 0.826530612244898 \n",
            "\n",
            "Text:\n",
            " location interested attempting ssdi help lawyer clear multiple significant hurdles initial consultation disability lawyer today 2pm edt wondering present case lawyer consider representing i'm 24nb autism ptsd bed history anxiety_depression strongly suspect cfs pursuing diagnosis records treatment ideal example taken psych meds scored high cognitive testing ineligible regular ssdi ssi work history assets eligible ssdi disabled adult_child confirmed ssa benefits dac need prove onset_date turning 22.when psychiatric hospitalization traumatizing wherewithal report ssa saw records new material information reopening claim edit provided information ssa denial_letter indicate retrieved records worked months internship month time months pt sga level cut hours health job stressful developed symptoms cfs including post exertional malaise medical_records age doctor pem fail properly diagnose applied ssdi weeks turning initial claim denied filed reconsideration denial impairments know cfs expect impairment long expected disability application process significant stressor understand file reconsideration onset_date established making difficult receive benefits initial_application closed case onset_date established date initial denial turned understanding reopen case need good cause appealing reapply request reopening case furnish new material evidence original determination wrong like high bars running ebay business time started internship income $_mo working capacity look healthy.**in summary receive disability need prove disabled years ago based invisible illnesses getting diagnosed initial claim wrong despite running business time young age bachelor_degree wo help best way discuss lawyer consider helping firm diagnosis?addendum found disabled found disabled health slowly worsened options thing think job work body completely gives cross fingers accrued work credits reapply\n",
            "TTR: 0.756198347107438 \n",
            "\n",
            "Text:\n",
            " question concerning use wheelchair appreciate input particularly wheelchair_user and/or incomplete spinal_injury tldr end little backstory young man injuries child developed sciatica christmas ignored thinking away usually got worse started experiencing typical signs progressive paralysis muscle_weakness pins needles toilet troubles eventually movement hip went hospital found l4_l5 disc calcified dr said looked solid compressing spinal_cord needed decompression emergency_surgery hours woke feeling awful feel leg entirely hip test came normal eventually felt like movement returned pain getting better month ago noticed physio gym session failing sooner affected dominant week pain stopping moving developed paralysis hospital said prolapse needed op hours woke close pain free paralyzed started regaining function hours gains flattened weakness causes trip things lot clearance foot ground insert intersectionality born disability makes hyperactive uncoordinated pathologically insensitive pain concerned damaging open physio level activity broadly encouraged associated gains mobility partner doctor currently phd faculty medicine said overdoing associated recurrence spinal_injury ongoing weakness wanted wheelchair try level impact movements close possible upper end recommended surgery physio said dependant wheelchair recommend try hyperactive uncoordinated day day life pay lot attention pain sent home script oxycodone ask for).anyway partner bought wheelchair appreciated having gone outside release lot energy stress pushing chair moving comfortably feeling bones grind tortured constant battle refrain getting running like primary school kid tbh usual state means able restart uni week mile walk way stand hours class week op drop course it).i feel bad walk bit time tried woke hours ago foot footrest having lift kind person generally listens people looking health end day partner looking health point pretty mad listen time needed second operation aware little disc left told definitely problems later trying right thing walking moving chair physio exercises minimize time spent chair working feel pain creeping feel conflicted tldr spinal surgery physio encouraged activity semi qualified partner said going far disc prolapsed needed surgery convincing partner right wheelchair walk bit miss semester uni vent hyperactivity damaging spine feel conflicted bit like imposter\n",
            "TTR: 0.7222222222222222 \n",
            "\n"
          ]
        }
      ]
    },
    {
      "cell_type": "code",
      "source": [
        "from collections import Counter\n",
        "result = preprocess(df)\n",
        "frequencies = Counter(word for sentence in result for word in sentence)\n",
        "for tokens, frequency in frequencies.most_common(10):  # get the 10 most frequent words\n",
        "    print(tokens, frequency)\n",
        "    #this is code to get the top lemmas in the data set love Corrine!"
      ],
      "metadata": {
        "id": "nFJ1CvzPi_j-",
        "colab": {
          "base_uri": "https://localhost:8080/"
        },
        "outputId": "22dce76d-e196-4fc0-b04c-c3322ffa2a97"
      },
      "execution_count": null,
      "outputs": [
        {
          "output_type": "stream",
          "name": "stdout",
          "text": [
            "like 10787\n",
            "disability 9311\n",
            "people 8524\n",
            "know 7904\n",
            "work 7708\n",
            "time 7696\n",
            "help 6233\n",
            "need 5325\n",
            "want 5005\n",
            "disabled 4994\n"
          ]
        }
      ]
    },
    {
      "cell_type": "code",
      "source": [
        "!pip install nltk"
      ],
      "metadata": {
        "id": "_o95vFKpTJKv",
        "colab": {
          "base_uri": "https://localhost:8080/"
        },
        "outputId": "334b2f61-533d-4a06-e292-ed7bd5675e24"
      },
      "execution_count": null,
      "outputs": [
        {
          "output_type": "stream",
          "name": "stdout",
          "text": [
            "Looking in indexes: https://pypi.org/simple, https://us-python.pkg.dev/colab-wheels/public/simple/\n",
            "Requirement already satisfied: nltk in /usr/local/lib/python3.7/dist-packages (3.7)\n",
            "Requirement already satisfied: click in /usr/local/lib/python3.7/dist-packages (from nltk) (7.1.2)\n",
            "Requirement already satisfied: regex>=2021.8.3 in /usr/local/lib/python3.7/dist-packages (from nltk) (2022.6.2)\n",
            "Requirement already satisfied: tqdm in /usr/local/lib/python3.7/dist-packages (from nltk) (4.64.0)\n",
            "Requirement already satisfied: joblib in /usr/local/lib/python3.7/dist-packages (from nltk) (1.1.0)\n"
          ]
        }
      ]
    },
    {
      "cell_type": "code",
      "source": [
        "tokens = []\n",
        "for idx, row in enumerate(df['lemmas']):\n",
        "    # Notice that we put all tokens in the same list\n",
        "    tokens.extend(row.split(' '))"
      ],
      "metadata": {
        "id": "UfFFnvE1TMoD"
      },
      "execution_count": null,
      "outputs": []
    },
    {
      "cell_type": "code",
      "source": [
        "import nltk\n",
        "nltk.download('stopwords')\n",
        "from nltk.text import Text\n",
        "\n",
        "disability_tokens = Text(tokens)"
      ],
      "metadata": {
        "id": "vY-VTxN5TRz0",
        "colab": {
          "base_uri": "https://localhost:8080/"
        },
        "outputId": "e4aae8a3-2a24-40d1-97fb-bbe993b15f8a"
      },
      "execution_count": null,
      "outputs": [
        {
          "output_type": "stream",
          "name": "stderr",
          "text": [
            "[nltk_data] Downloading package stopwords to /root/nltk_data...\n",
            "[nltk_data]   Unzipping corpora/stopwords.zip.\n"
          ]
        }
      ]
    },
    {
      "cell_type": "markdown",
      "source": [
        "Below we are identifying tokens (now consisting of the sum of all tokens in one variable) that contain the word \"chronic.\" This is an example. "
      ],
      "metadata": {
        "id": "PKa7mPNBTm8b"
      }
    },
    {
      "cell_type": "code",
      "source": [
        "disability_tokens.concordance('chronic', width=50) "
      ],
      "metadata": {
        "id": "ibRNqzPKThK3",
        "colab": {
          "base_uri": "https://localhost:8080/"
        },
        "outputId": "78ff2db1-8923-450c-ac02-c4674032e374"
      },
      "execution_count": null,
      "outputs": [
        {
          "output_type": "stream",
          "name": "stdout",
          "text": [
            "Displaying 25 of 337 matches:\n",
            "ity bipolar_disorder chronic migraine mental stat\n",
            "es pertain situation chronic bloating distended a\n",
            "_depressive episodes chronic anxiety sleep night \n",
            "hings like struggled chronic joint muscle pain lo\n",
            " care interfere life chronic headaches migraines \n",
            "y alcoholic epilepsy chronic pancreatitis necessa\n",
            " chiari dysautonomia chronic migraine post concus\n",
            "xponentially working chronic health issues disabi\n",
            "on disability suffer chronic ibs irritable bowel \n",
            "lth issues like adhd chronic depression depressio\n",
            "nic_fatigue_syndrome chronic sciatica legs consta\n",
            "anent balance issues chronic dizziness vertigo co\n",
            "lost hearing surgery chronic tinnitus read online\n",
            "ses thinking talking chronic tendonitis resulting\n",
            "s short dysautonomia chronic mental_illness undia\n",
            "proportionate people chronic health conditions se\n",
            "ng going round store chronic health pain extreme \n",
            "ggestions allievated chronic feeling boredom drea\n",
            "uggled mental_health chronic bladder condition re\n",
            "aught lie ugh sister chronic neck shoulder wrist \n",
            "ault hurting hurting chronic think gotten idea bl\n",
            "ity bipolar_disorder chronic migraine mental stat\n",
            "y-in-history dealing chronic headaches months hea\n",
            "ried lot today hello chronic debilitating pain hi\n",
            "d endure agony 😖 😫 😭 chronic depression unloving \n"
          ]
        }
      ]
    },
    {
      "cell_type": "code",
      "source": [
        "disability_tokens.collocation_list() #words that tend to show up together\n",
        "#interesting that \"feel\" and \"free\" are often found together "
      ],
      "metadata": {
        "id": "tt_q56wAT2C2",
        "colab": {
          "base_uri": "https://localhost:8080/"
        },
        "outputId": "db42015d-28af-4907-a0a1-4f48c6f2ef7e"
      },
      "execution_count": null,
      "outputs": [
        {
          "output_type": "execute_result",
          "data": {
            "text/plain": [
              "[('feel', 'like'),\n",
              " ('years', 'ago'),\n",
              " ('disabled', 'people'),\n",
              " ('years', 'old'),\n",
              " ('year', 'old'),\n",
              " ('people', 'disabilities'),\n",
              " ('let', 'know'),\n",
              " ('feels', 'like'),\n",
              " ('feel', 'free'),\n",
              " ('months', 'ago'),\n",
              " ('hours', 'week'),\n",
              " ('health', 'insurance'),\n",
              " ('hard', 'time'),\n",
              " ('need', 'help'),\n",
              " ('past', 'years'),\n",
              " ('little', 'bit'),\n",
              " ('things', 'like'),\n",
              " ('disability', 'benefits'),\n",
              " ('disabled', 'person'),\n",
              " ('hold', 'job')]"
            ]
          },
          "metadata": {},
          "execution_count": 38
        }
      ]
    },
    {
      "cell_type": "code",
      "source": [
        "disability_tokens.collocation_list(num=30, window_size=3) #words that appear within 3 words of each other often\n",
        "#interesting that we see \"hold\" and \"job\" next to each other often"
      ],
      "metadata": {
        "id": "8oAeBzmAVTac",
        "colab": {
          "base_uri": "https://localhost:8080/"
        },
        "outputId": "61b6ee4b-8c14-4e99-f039-341a83622dec"
      },
      "execution_count": null,
      "outputs": [
        {
          "output_type": "execute_result",
          "data": {
            "text/plain": [
              "[('feel', 'like'),\n",
              " ('years', 'ago'),\n",
              " ('years', 'old'),\n",
              " ('people', 'disabilities'),\n",
              " ('disabled', 'people'),\n",
              " ('year', 'old'),\n",
              " ('let', 'know'),\n",
              " ('feels', 'like'),\n",
              " ('feel', 'free'),\n",
              " ('months', 'ago'),\n",
              " ('hours', 'week'),\n",
              " ('need', 'help'),\n",
              " ('health', 'insurance'),\n",
              " ('past', 'years'),\n",
              " ('hold', 'job'),\n",
              " ('little', 'bit'),\n",
              " ('getting', 'worse'),\n",
              " ('hard', 'time'),\n",
              " ('things', 'like'),\n",
              " ('disability', 'benefits'),\n",
              " ('ssi', 'ssdi'),\n",
              " ('mental_health', 'issues'),\n",
              " ('able', 'work'),\n",
              " ('weeks', 'ago'),\n",
              " ('pay', 'rent'),\n",
              " ('apply', 'disability'),\n",
              " ('health', 'issues'),\n",
              " ('disabled', 'person'),\n",
              " ('local', 'office'),\n",
              " ('long', 'time')]"
            ]
          },
          "metadata": {},
          "execution_count": 39
        }
      ]
    },
    {
      "cell_type": "code",
      "source": [
        "disability_tokens.similar('job') #all the words that appear next to \"job\""
      ],
      "metadata": {
        "id": "9VA6stPJXQjn",
        "colab": {
          "base_uri": "https://localhost:8080/"
        },
        "outputId": "c66a6c01-52f7-41cb-da0b-c274ad363715"
      },
      "execution_count": null,
      "outputs": [
        {
          "output_type": "stream",
          "name": "stdout",
          "text": [
            "work time disability know help like people jobs need things able life\n",
            "going year want day years home months feel\n"
          ]
        }
      ]
    },
    {
      "cell_type": "code",
      "source": [
        "disability_tokens.common_contexts(['mom', 'dad']) #these are the pair of tokens in which these terms are found next to often"
      ],
      "metadata": {
        "id": "GqBrUgSNXxwr",
        "colab": {
          "base_uri": "https://localhost:8080/"
        },
        "outputId": "a1166bda-34ea-425d-8ee4-1676ba37015e"
      },
      "execution_count": null,
      "outputs": [
        {
          "output_type": "stream",
          "name": "stdout",
          "text": [
            "mom_time receive_record home_work called_told work_work\n"
          ]
        }
      ]
    },
    {
      "cell_type": "code",
      "source": [
        "disability_tokens.common_contexts(['mom']) #fighting shoes up in \"mom\""
      ],
      "metadata": {
        "id": "6uzsKZQoYDdw",
        "colab": {
          "base_uri": "https://localhost:8080/"
        },
        "outputId": "5bb0adeb-3ed4-43ab-a1f9-668c2f4ab786"
      },
      "execution_count": null,
      "outputs": [
        {
          "output_type": "stream",
          "name": "stdout",
          "text": [
            "tell_wanted live_dad lost_dad ago_diagnosed tell_feel house_adopted\n",
            "said_fighting fighting_wanted begging_half care_hospice finding_dead\n",
            "close_facilitated working_earn job_lost groping_said peek_told\n",
            "house_busy let_college afterwords_brother convince_epidurals\n"
          ]
        }
      ]
    },
    {
      "cell_type": "code",
      "source": [
        "disability_tokens.common_contexts(['dad']) #no fighting, but we see \"weeken\", implying that many are interacting with dads more on the weekend"
      ],
      "metadata": {
        "id": "FbczYC9MYHgV",
        "colab": {
          "base_uri": "https://localhost:8080/"
        },
        "outputId": "f142ac86-13ba-441a-e3a3-2258ce3603df"
      },
      "execution_count": null,
      "outputs": [
        {
          "output_type": "stream",
          "name": "stdout",
          "text": [
            "mom_brother starters_disability goes_weekend weekend_pick\n",
            "company_company epidurals_believe disabled_commonly campaign_disabled\n",
            "permit_renewing old_died receive_record week_record miles_says\n",
            "mom_forgive disability_retired mom_feel examples_like mom_time\n",
            "deal_know week_came\n"
          ]
        }
      ]
    },
    {
      "cell_type": "markdown",
      "source": [
        "We can also plot tokens"
      ],
      "metadata": {
        "id": "RTwbaZBEUG4v"
      }
    },
    {
      "cell_type": "code",
      "source": [
        "disability_tokens.dispersion_plot([\"mom\", \"dad\", \"fighting\"]) #mom more often than dad"
      ],
      "metadata": {
        "id": "z3SG33k7UI90",
        "colab": {
          "base_uri": "https://localhost:8080/",
          "height": 295
        },
        "outputId": "77183edf-04bd-4cac-8c1d-dab78f41bf5a"
      },
      "execution_count": null,
      "outputs": [
        {
          "output_type": "display_data",
          "data": {
            "text/plain": [
              "<Figure size 432x288 with 1 Axes>"
            ],
            "image/png": "[encoded data removed]"
          },
          "metadata": {
            "needs_background": "light"
          }
        }
      ]
    },
    {
      "cell_type": "markdown",
      "source": [
        "We can also work with time"
      ],
      "metadata": {
        "id": "psOVuyMCZI9q"
      }
    },
    {
      "cell_type": "code",
      "source": [
        "df['created_utc'] #this is \"unix time\""
      ],
      "metadata": {
        "id": "shvwFd0VVuds",
        "colab": {
          "base_uri": "https://localhost:8080/"
        },
        "outputId": "555299dd-a371-4001-f2d8-2e1a0df8964b"
      },
      "execution_count": null,
      "outputs": [
        {
          "output_type": "execute_result",
          "data": {
            "text/plain": [
              "0        1629505393\n",
              "1        1629463903\n",
              "2        1629455803\n",
              "3        1629488445\n",
              "4        1629568461\n",
              "            ...    \n",
              "14915    1432059588\n",
              "14916    1432810374\n",
              "14917    1432631216\n",
              "14918    1433221478\n",
              "14919    1433387839\n",
              "Name: created_utc, Length: 14920, dtype: int64"
            ]
          },
          "metadata": {},
          "execution_count": 45
        }
      ]
    },
    {
      "cell_type": "markdown",
      "source": [
        "Below we create a new variable by converting unix time into something more readable"
      ],
      "metadata": {
        "id": "2KmvkY71ZTGI"
      }
    },
    {
      "cell_type": "code",
      "source": [
        "df.insert(loc=3, column='created_datetime', value=pd.to_datetime(df['created_utc'], unit='s'))\n",
        "df.head(3)"
      ],
      "metadata": {
        "id": "FEt273wbZHk4",
        "colab": {
          "base_uri": "https://localhost:8080/",
          "height": 478
        },
        "outputId": "e4ca73c7-c1f9-4c8e-c564-38dfb2be610e"
      },
      "execution_count": null,
      "outputs": [
        {
          "output_type": "execute_result",
          "data": {
            "text/plain": [
              "   index  Unnamed: 0      id    created_datetime  created_utc link_flair_text  \\\n",
              "0      0           0  p8hcfj 2021-08-21 00:23:13   1629505393             NaN   \n",
              "1      1           1  p84kgg 2021-08-20 12:51:43   1629463903            Rant   \n",
              "2      3           3  p82mfs 2021-08-20 10:36:43   1629455803      Discussion   \n",
              "\n",
              "  author_flair_text            author  \\\n",
              "0               NaN         OrdanCoal   \n",
              "1               NaN          dusnood_   \n",
              "2               NaN  ShenandoahValley   \n",
              "\n",
              "                                              lemmas  over_18  \\\n",
              "0  like crying chronic_pain weak happy\"if happy s...    False   \n",
              "1  regular bills live relatives pay small things ...    False   \n",
              "2  came manager local ssa office va spoke started...    False   \n",
              "\n",
              "                                               title  is_self  \\\n",
              "0  Anybody noticed the trap people set with your ...     True   \n",
              "1  Feeling guilty for spending with \"disability i...     True   \n",
              "2   Only 30% of SSD applicants approved on first try     True   \n",
              "\n",
              "                                            selftext  score  upvote_ratio  \\\n",
              "0  Like, if I'm crying because I'm in chronic pai...     34          0.92   \n",
              "1  I don’t have any regular bills as I still live...     32          0.94   \n",
              "2  This came from a manager at the local SSA offi...     14          0.90   \n",
              "\n",
              "  distinguished  num_comments  \n",
              "0           NaN            53  \n",
              "1           NaN            65  \n",
              "2           NaN            81  "
            ],
            "text/html": [
              "\n",
              "  <div id=\"df-7247230a-6ad7-4ea2-a9c3-a7cc708cbea0\">\n",
              "    <div class=\"colab-df-container\">\n",
              "      <div>\n",
              "<style scoped>\n",
              "    .dataframe tbody tr th:only-of-type {\n",
              "        vertical-align: middle;\n",
              "    }\n",
              "\n",
              "    .dataframe tbody tr th {\n",
              "        vertical-align: top;\n",
              "    }\n",
              "\n",
              "    .dataframe thead th {\n",
              "        text-align: right;\n",
              "    }\n",
              "</style>\n",
              "<table border=\"1\" class=\"dataframe\">\n",
              "  <thead>\n",
              "    <tr style=\"text-align: right;\">\n",
              "      <th></th>\n",
              "      <th>index</th>\n",
              "      <th>Unnamed: 0</th>\n",
              "      <th>id</th>\n",
              "      <th>created_datetime</th>\n",
              "      <th>created_utc</th>\n",
              "      <th>link_flair_text</th>\n",
              "      <th>author_flair_text</th>\n",
              "      <th>author</th>\n",
              "      <th>lemmas</th>\n",
              "      <th>over_18</th>\n",
              "      <th>title</th>\n",
              "      <th>is_self</th>\n",
              "      <th>selftext</th>\n",
              "      <th>score</th>\n",
              "      <th>upvote_ratio</th>\n",
              "      <th>distinguished</th>\n",
              "      <th>num_comments</th>\n",
              "    </tr>\n",
              "  </thead>\n",
              "  <tbody>\n",
              "    <tr>\n",
              "      <th>0</th>\n",
              "      <td>0</td>\n",
              "      <td>0</td>\n",
              "      <td>p8hcfj</td>\n",
              "      <td>2021-08-21 00:23:13</td>\n",
              "      <td>1629505393</td>\n",
              "      <td>NaN</td>\n",
              "      <td>NaN</td>\n",
              "      <td>OrdanCoal</td>\n",
              "      <td>like crying chronic_pain weak happy\"if happy s...</td>\n",
              "      <td>False</td>\n",
              "      <td>Anybody noticed the trap people set with your ...</td>\n",
              "      <td>True</td>\n",
              "      <td>Like, if I'm crying because I'm in chronic pai...</td>\n",
              "      <td>34</td>\n",
              "      <td>0.92</td>\n",
              "      <td>NaN</td>\n",
              "      <td>53</td>\n",
              "    </tr>\n",
              "    <tr>\n",
              "      <th>1</th>\n",
              "      <td>1</td>\n",
              "      <td>1</td>\n",
              "      <td>p84kgg</td>\n",
              "      <td>2021-08-20 12:51:43</td>\n",
              "      <td>1629463903</td>\n",
              "      <td>Rant</td>\n",
              "      <td>NaN</td>\n",
              "      <td>dusnood_</td>\n",
              "      <td>regular bills live relatives pay small things ...</td>\n",
              "      <td>False</td>\n",
              "      <td>Feeling guilty for spending with \"disability i...</td>\n",
              "      <td>True</td>\n",
              "      <td>I don’t have any regular bills as I still live...</td>\n",
              "      <td>32</td>\n",
              "      <td>0.94</td>\n",
              "      <td>NaN</td>\n",
              "      <td>65</td>\n",
              "    </tr>\n",
              "    <tr>\n",
              "      <th>2</th>\n",
              "      <td>3</td>\n",
              "      <td>3</td>\n",
              "      <td>p82mfs</td>\n",
              "      <td>2021-08-20 10:36:43</td>\n",
              "      <td>1629455803</td>\n",
              "      <td>Discussion</td>\n",
              "      <td>NaN</td>\n",
              "      <td>ShenandoahValley</td>\n",
              "      <td>came manager local ssa office va spoke started...</td>\n",
              "      <td>False</td>\n",
              "      <td>Only 30% of SSD applicants approved on first try</td>\n",
              "      <td>True</td>\n",
              "      <td>This came from a manager at the local SSA offi...</td>\n",
              "      <td>14</td>\n",
              "      <td>0.90</td>\n",
              "      <td>NaN</td>\n",
              "      <td>81</td>\n",
              "    </tr>\n",
              "  </tbody>\n",
              "</table>\n",
              "</div>\n",
              "      <button class=\"colab-df-convert\" onclick=\"convertToInteractive('df-7247230a-6ad7-4ea2-a9c3-a7cc708cbea0')\"\n",
              "              title=\"Convert this dataframe to an interactive table.\"\n",
              "              style=\"display:none;\">\n",
              "        \n",
              "  <svg xmlns=\"http://www.w3.org/2000/svg\" height=\"24px\"viewBox=\"0 0 24 24\"\n",
              "       width=\"24px\">\n",
              "    <path d=\"M0 0h24v24H0V0z\" fill=\"none\"/>\n",
              "    <path d=\"M18.56 5.44l.94 2.06.94-2.06 2.06-.94-2.06-.94-.94-2.06-.94 2.06-2.06.94zm-11 1L8.5 8.5l.94-2.06 2.06-.94-2.06-.94L8.5 2.5l-.94 2.06-2.06.94zm10 10l.94 2.06.94-2.06 2.06-.94-2.06-.94-.94-2.06-.94 2.06-2.06.94z\"/><path d=\"M17.41 7.96l-1.37-1.37c-.4-.4-.92-.59-1.43-.59-.52 0-1.04.2-1.43.59L10.3 9.45l-7.72 7.72c-.78.78-.78 2.05 0 2.83L4 21.41c.39.39.9.59 1.41.59.51 0 1.02-.2 1.41-.59l7.78-7.78 2.81-2.81c.8-.78.8-2.07 0-2.86zM5.41 20L4 18.59l7.72-7.72 1.47 1.35L5.41 20z\"/>\n",
              "  </svg>\n",
              "      </button>\n",
              "      \n",
              "  <style>\n",
              "    .colab-df-container {\n",
              "      display:flex;\n",
              "      flex-wrap:wrap;\n",
              "      gap: 12px;\n",
              "    }\n",
              "\n",
              "    .colab-df-convert {\n",
              "      background-color: #E8F0FE;\n",
              "      border: none;\n",
              "      border-radius: 50%;\n",
              "      cursor: pointer;\n",
              "      display: none;\n",
              "      fill: #1967D2;\n",
              "      height: 32px;\n",
              "      padding: 0 0 0 0;\n",
              "      width: 32px;\n",
              "    }\n",
              "\n",
              "    .colab-df-convert:hover {\n",
              "      background-color: #E2EBFA;\n",
              "      box-shadow: 0px 1px 2px rgba(60, 64, 67, 0.3), 0px 1px 3px 1px rgba(60, 64, 67, 0.15);\n",
              "      fill: #174EA6;\n",
              "    }\n",
              "\n",
              "    [theme=dark] .colab-df-convert {\n",
              "      background-color: #3B4455;\n",
              "      fill: #D2E3FC;\n",
              "    }\n",
              "\n",
              "    [theme=dark] .colab-df-convert:hover {\n",
              "      background-color: #434B5C;\n",
              "      box-shadow: 0px 1px 3px 1px rgba(0, 0, 0, 0.15);\n",
              "      filter: drop-shadow(0px 1px 2px rgba(0, 0, 0, 0.3));\n",
              "      fill: #FFFFFF;\n",
              "    }\n",
              "  </style>\n",
              "\n",
              "      <script>\n",
              "        const buttonEl =\n",
              "          document.querySelector('#df-7247230a-6ad7-4ea2-a9c3-a7cc708cbea0 button.colab-df-convert');\n",
              "        buttonEl.style.display =\n",
              "          google.colab.kernel.accessAllowed ? 'block' : 'none';\n",
              "\n",
              "        async function convertToInteractive(key) {\n",
              "          const element = document.querySelector('#df-7247230a-6ad7-4ea2-a9c3-a7cc708cbea0');\n",
              "          const dataTable =\n",
              "            await google.colab.kernel.invokeFunction('convertToInteractive',\n",
              "                                                     [key], {});\n",
              "          if (!dataTable) return;\n",
              "\n",
              "          const docLinkHtml = 'Like what you see? Visit the ' +\n",
              "            '<a target=\"_blank\" href=https://colab.research.google.com/notebooks/data_table.ipynb>data table notebook</a>'\n",
              "            + ' to learn more about interactive tables.';\n",
              "          element.innerHTML = '';\n",
              "          dataTable['output_type'] = 'display_data';\n",
              "          await google.colab.output.renderOutput(dataTable, element);\n",
              "          const docLink = document.createElement('div');\n",
              "          docLink.innerHTML = docLinkHtml;\n",
              "          element.appendChild(docLink);\n",
              "        }\n",
              "      </script>\n",
              "    </div>\n",
              "  </div>\n",
              "  "
            ]
          },
          "metadata": {},
          "execution_count": 46
        }
      ]
    },
    {
      "cell_type": "markdown",
      "source": [
        "We can select particular components of the timestamps by calling .year, .month,.day, etc. on the datetime column.\n",
        "\n",
        "Thinking back to the flair column for this dataset, let's see if we can find out whether people are considered assholes more frequently in particular months. We'll first create a new df with just the submissions from 2021."
      ],
      "metadata": {
        "id": "1p-kFHghZtv1"
      }
    },
    {
      "cell_type": "markdown",
      "source": [
        "We take the variable and convert it to \"date time index\" then access all posts in a given year (example, 2021)"
      ],
      "metadata": {
        "id": "r6jQ40yyZ4mH"
      }
    },
    {
      "cell_type": "code",
      "source": [
        "df_2021 = df.loc[pd.DatetimeIndex(df['created_datetime']).year == 2021, :]\n",
        "len(df_2021) #2778 posts in 2021"
      ],
      "metadata": {
        "id": "mZCoOurJZugh",
        "colab": {
          "base_uri": "https://localhost:8080/"
        },
        "outputId": "db48d73e-8916-416f-f700-d02ba3c5c45c"
      },
      "execution_count": null,
      "outputs": [
        {
          "output_type": "execute_result",
          "data": {
            "text/plain": [
              "2778"
            ]
          },
          "metadata": {},
          "execution_count": 47
        }
      ]
    },
    {
      "cell_type": "code",
      "source": [
        "months_array = pd.DatetimeIndex(df_2021['created_datetime']).month_name()\n",
        "months_array"
      ],
      "metadata": {
        "id": "8fgOJPbraTPK",
        "colab": {
          "base_uri": "https://localhost:8080/"
        },
        "outputId": "a5ece496-d96a-4233-e277-a6a0a351b187"
      },
      "execution_count": null,
      "outputs": [
        {
          "output_type": "execute_result",
          "data": {
            "text/plain": [
              "Index(['August', 'August', 'August', 'August', 'August', 'August', 'August',\n",
              "       'August', 'August', 'August',\n",
              "       ...\n",
              "       'March', 'March', 'March', 'March', 'March', 'March', 'March', 'March',\n",
              "       'March', 'March'],\n",
              "      dtype='object', name='created_datetime', length=2778)"
            ]
          },
          "metadata": {},
          "execution_count": 48
        }
      ]
    },
    {
      "cell_type": "markdown",
      "source": [
        "plot"
      ],
      "metadata": {
        "id": "5GCa3RYDah_q"
      }
    },
    {
      "cell_type": "code",
      "source": [
        "import matplotlib.pyplot as plt\n",
        "import seaborn as sns\n",
        "sns.set_theme()\n",
        "\n",
        "sns.set(rc={'figure.figsize': (7, 5)})\n",
        "\n",
        "p = sns.histplot(\n",
        "    data=df_2021, \n",
        "    x=months_array,\n",
        "    hue=\"link_flair_text\",\n",
        "    multiple=\"stack\")\n",
        "\n",
        "sns.move_legend(p, \"upper left\", bbox_to_anchor=(1, 1))\n",
        "\n",
        "plt.xticks(rotation=70)\n",
        "plt.tight_layout()"
      ],
      "metadata": {
        "id": "H5FaU80IaZBd",
        "colab": {
          "base_uri": "https://localhost:8080/",
          "height": 365
        },
        "outputId": "7eb12e8d-7ae5-4137-d630-166de973623e"
      },
      "execution_count": null,
      "outputs": [
        {
          "output_type": "display_data",
          "data": {
            "text/plain": [
              "<Figure size 504x360 with 1 Axes>"
            ],
            "image/png": "[encoded data removed]"
          },
          "metadata": {}
        }
      ]
    },
    {
      "cell_type": "markdown",
      "source": [
        "We save our new variable (time created) into our existing dataset"
      ],
      "metadata": {
        "id": "V-nlqea5axU9"
      }
    },
    {
      "cell_type": "code",
      "source": [
        "df.to_csv('disability_sub_top_sm_lemmas.csv', index=False)"
      ],
      "metadata": {
        "id": "nXWEUJ1zatrB"
      },
      "execution_count": null,
      "outputs": []
    },
    {
      "cell_type": "code",
      "source": [
        "df.head()"
      ],
      "metadata": {
        "id": "GPiNy5b1a10E",
        "colab": {
          "base_uri": "https://localhost:8080/",
          "height": 710
        },
        "outputId": "d6bff286-49a4-49e6-b1a0-6af5e3f8870e"
      },
      "execution_count": null,
      "outputs": [
        {
          "output_type": "execute_result",
          "data": {
            "text/plain": [
              "   index  Unnamed: 0      id    created_datetime  created_utc link_flair_text  \\\n",
              "0      0           0  p8hcfj 2021-08-21 00:23:13   1629505393             NaN   \n",
              "1      1           1  p84kgg 2021-08-20 12:51:43   1629463903            Rant   \n",
              "2      3           3  p82mfs 2021-08-20 10:36:43   1629455803      Discussion   \n",
              "3      4           4  p8cdd2 2021-08-20 19:40:45   1629488445             NaN   \n",
              "4      5           5  p8w0cl 2021-08-21 17:54:21   1629568461            Rant   \n",
              "\n",
              "  author_flair_text                author  \\\n",
              "0               NaN             OrdanCoal   \n",
              "1               NaN              dusnood_   \n",
              "2               NaN      ShenandoahValley   \n",
              "3               NaN  musicalearnightingal   \n",
              "4               NaN            OracNimsaj   \n",
              "\n",
              "                                              lemmas  over_18  \\\n",
              "0  like crying chronic_pain weak happy\"if happy s...    False   \n",
              "1  regular bills live relatives pay small things ...    False   \n",
              "2  came manager local ssa office va spoke started...    False   \n",
              "3  coworkers hates workplaces politics having hat...    False   \n",
              "4  context 24f unknown form muscular_dystrophy wa...    False   \n",
              "\n",
              "                                               title  is_self  \\\n",
              "0  Anybody noticed the trap people set with your ...     True   \n",
              "1  Feeling guilty for spending with \"disability i...     True   \n",
              "2   Only 30% of SSD applicants approved on first try     True   \n",
              "3  Have you ever called someone out for treating ...     True   \n",
              "4  What's the most ridiculous (or infuriating) th...     True   \n",
              "\n",
              "                                            selftext  score  upvote_ratio  \\\n",
              "0  Like, if I'm crying because I'm in chronic pai...     34          0.92   \n",
              "1  I don’t have any regular bills as I still live...     32          0.94   \n",
              "2  This came from a manager at the local SSA offi...     14          0.90   \n",
              "3  So one of my coworkers really hates me. I get ...     12          0.93   \n",
              "4  context: I (24F) have an unknown form of Muscu...     11          0.92   \n",
              "\n",
              "  distinguished  num_comments  \n",
              "0           NaN            53  \n",
              "1           NaN            65  \n",
              "2           NaN            81  \n",
              "3           NaN            20  \n",
              "4           NaN           179  "
            ],
            "text/html": [
              "\n",
              "  <div id=\"df-1acbc5a1-6173-4533-9916-457f8313244f\">\n",
              "    <div class=\"colab-df-container\">\n",
              "      <div>\n",
              "<style scoped>\n",
              "    .dataframe tbody tr th:only-of-type {\n",
              "        vertical-align: middle;\n",
              "    }\n",
              "\n",
              "    .dataframe tbody tr th {\n",
              "        vertical-align: top;\n",
              "    }\n",
              "\n",
              "    .dataframe thead th {\n",
              "        text-align: right;\n",
              "    }\n",
              "</style>\n",
              "<table border=\"1\" class=\"dataframe\">\n",
              "  <thead>\n",
              "    <tr style=\"text-align: right;\">\n",
              "      <th></th>\n",
              "      <th>index</th>\n",
              "      <th>Unnamed: 0</th>\n",
              "      <th>id</th>\n",
              "      <th>created_datetime</th>\n",
              "      <th>created_utc</th>\n",
              "      <th>link_flair_text</th>\n",
              "      <th>author_flair_text</th>\n",
              "      <th>author</th>\n",
              "      <th>lemmas</th>\n",
              "      <th>over_18</th>\n",
              "      <th>title</th>\n",
              "      <th>is_self</th>\n",
              "      <th>selftext</th>\n",
              "      <th>score</th>\n",
              "      <th>upvote_ratio</th>\n",
              "      <th>distinguished</th>\n",
              "      <th>num_comments</th>\n",
              "    </tr>\n",
              "  </thead>\n",
              "  <tbody>\n",
              "    <tr>\n",
              "      <th>0</th>\n",
              "      <td>0</td>\n",
              "      <td>0</td>\n",
              "      <td>p8hcfj</td>\n",
              "      <td>2021-08-21 00:23:13</td>\n",
              "      <td>1629505393</td>\n",
              "      <td>NaN</td>\n",
              "      <td>NaN</td>\n",
              "      <td>OrdanCoal</td>\n",
              "      <td>like crying chronic_pain weak happy\"if happy s...</td>\n",
              "      <td>False</td>\n",
              "      <td>Anybody noticed the trap people set with your ...</td>\n",
              "      <td>True</td>\n",
              "      <td>Like, if I'm crying because I'm in chronic pai...</td>\n",
              "      <td>34</td>\n",
              "      <td>0.92</td>\n",
              "      <td>NaN</td>\n",
              "      <td>53</td>\n",
              "    </tr>\n",
              "    <tr>\n",
              "      <th>1</th>\n",
              "      <td>1</td>\n",
              "      <td>1</td>\n",
              "      <td>p84kgg</td>\n",
              "      <td>2021-08-20 12:51:43</td>\n",
              "      <td>1629463903</td>\n",
              "      <td>Rant</td>\n",
              "      <td>NaN</td>\n",
              "      <td>dusnood_</td>\n",
              "      <td>regular bills live relatives pay small things ...</td>\n",
              "      <td>False</td>\n",
              "      <td>Feeling guilty for spending with \"disability i...</td>\n",
              "      <td>True</td>\n",
              "      <td>I don’t have any regular bills as I still live...</td>\n",
              "      <td>32</td>\n",
              "      <td>0.94</td>\n",
              "      <td>NaN</td>\n",
              "      <td>65</td>\n",
              "    </tr>\n",
              "    <tr>\n",
              "      <th>2</th>\n",
              "      <td>3</td>\n",
              "      <td>3</td>\n",
              "      <td>p82mfs</td>\n",
              "      <td>2021-08-20 10:36:43</td>\n",
              "      <td>1629455803</td>\n",
              "      <td>Discussion</td>\n",
              "      <td>NaN</td>\n",
              "      <td>ShenandoahValley</td>\n",
              "      <td>came manager local ssa office va spoke started...</td>\n",
              "      <td>False</td>\n",
              "      <td>Only 30% of SSD applicants approved on first try</td>\n",
              "      <td>True</td>\n",
              "      <td>This came from a manager at the local SSA offi...</td>\n",
              "      <td>14</td>\n",
              "      <td>0.90</td>\n",
              "      <td>NaN</td>\n",
              "      <td>81</td>\n",
              "    </tr>\n",
              "    <tr>\n",
              "      <th>3</th>\n",
              "      <td>4</td>\n",
              "      <td>4</td>\n",
              "      <td>p8cdd2</td>\n",
              "      <td>2021-08-20 19:40:45</td>\n",
              "      <td>1629488445</td>\n",
              "      <td>NaN</td>\n",
              "      <td>NaN</td>\n",
              "      <td>musicalearnightingal</td>\n",
              "      <td>coworkers hates workplaces politics having hat...</td>\n",
              "      <td>False</td>\n",
              "      <td>Have you ever called someone out for treating ...</td>\n",
              "      <td>True</td>\n",
              "      <td>So one of my coworkers really hates me. I get ...</td>\n",
              "      <td>12</td>\n",
              "      <td>0.93</td>\n",
              "      <td>NaN</td>\n",
              "      <td>20</td>\n",
              "    </tr>\n",
              "    <tr>\n",
              "      <th>4</th>\n",
              "      <td>5</td>\n",
              "      <td>5</td>\n",
              "      <td>p8w0cl</td>\n",
              "      <td>2021-08-21 17:54:21</td>\n",
              "      <td>1629568461</td>\n",
              "      <td>Rant</td>\n",
              "      <td>NaN</td>\n",
              "      <td>OracNimsaj</td>\n",
              "      <td>context 24f unknown form muscular_dystrophy wa...</td>\n",
              "      <td>False</td>\n",
              "      <td>What's the most ridiculous (or infuriating) th...</td>\n",
              "      <td>True</td>\n",
              "      <td>context: I (24F) have an unknown form of Muscu...</td>\n",
              "      <td>11</td>\n",
              "      <td>0.92</td>\n",
              "      <td>NaN</td>\n",
              "      <td>179</td>\n",
              "    </tr>\n",
              "  </tbody>\n",
              "</table>\n",
              "</div>\n",
              "      <button class=\"colab-df-convert\" onclick=\"convertToInteractive('df-1acbc5a1-6173-4533-9916-457f8313244f')\"\n",
              "              title=\"Convert this dataframe to an interactive table.\"\n",
              "              style=\"display:none;\">\n",
              "        \n",
              "  <svg xmlns=\"http://www.w3.org/2000/svg\" height=\"24px\"viewBox=\"0 0 24 24\"\n",
              "       width=\"24px\">\n",
              "    <path d=\"M0 0h24v24H0V0z\" fill=\"none\"/>\n",
              "    <path d=\"M18.56 5.44l.94 2.06.94-2.06 2.06-.94-2.06-.94-.94-2.06-.94 2.06-2.06.94zm-11 1L8.5 8.5l.94-2.06 2.06-.94-2.06-.94L8.5 2.5l-.94 2.06-2.06.94zm10 10l.94 2.06.94-2.06 2.06-.94-2.06-.94-.94-2.06-.94 2.06-2.06.94z\"/><path d=\"M17.41 7.96l-1.37-1.37c-.4-.4-.92-.59-1.43-.59-.52 0-1.04.2-1.43.59L10.3 9.45l-7.72 7.72c-.78.78-.78 2.05 0 2.83L4 21.41c.39.39.9.59 1.41.59.51 0 1.02-.2 1.41-.59l7.78-7.78 2.81-2.81c.8-.78.8-2.07 0-2.86zM5.41 20L4 18.59l7.72-7.72 1.47 1.35L5.41 20z\"/>\n",
              "  </svg>\n",
              "      </button>\n",
              "      \n",
              "  <style>\n",
              "    .colab-df-container {\n",
              "      display:flex;\n",
              "      flex-wrap:wrap;\n",
              "      gap: 12px;\n",
              "    }\n",
              "\n",
              "    .colab-df-convert {\n",
              "      background-color: #E8F0FE;\n",
              "      border: none;\n",
              "      border-radius: 50%;\n",
              "      cursor: pointer;\n",
              "      display: none;\n",
              "      fill: #1967D2;\n",
              "      height: 32px;\n",
              "      padding: 0 0 0 0;\n",
              "      width: 32px;\n",
              "    }\n",
              "\n",
              "    .colab-df-convert:hover {\n",
              "      background-color: #E2EBFA;\n",
              "      box-shadow: 0px 1px 2px rgba(60, 64, 67, 0.3), 0px 1px 3px 1px rgba(60, 64, 67, 0.15);\n",
              "      fill: #174EA6;\n",
              "    }\n",
              "\n",
              "    [theme=dark] .colab-df-convert {\n",
              "      background-color: #3B4455;\n",
              "      fill: #D2E3FC;\n",
              "    }\n",
              "\n",
              "    [theme=dark] .colab-df-convert:hover {\n",
              "      background-color: #434B5C;\n",
              "      box-shadow: 0px 1px 3px 1px rgba(0, 0, 0, 0.15);\n",
              "      filter: drop-shadow(0px 1px 2px rgba(0, 0, 0, 0.3));\n",
              "      fill: #FFFFFF;\n",
              "    }\n",
              "  </style>\n",
              "\n",
              "      <script>\n",
              "        const buttonEl =\n",
              "          document.querySelector('#df-1acbc5a1-6173-4533-9916-457f8313244f button.colab-df-convert');\n",
              "        buttonEl.style.display =\n",
              "          google.colab.kernel.accessAllowed ? 'block' : 'none';\n",
              "\n",
              "        async function convertToInteractive(key) {\n",
              "          const element = document.querySelector('#df-1acbc5a1-6173-4533-9916-457f8313244f');\n",
              "          const dataTable =\n",
              "            await google.colab.kernel.invokeFunction('convertToInteractive',\n",
              "                                                     [key], {});\n",
              "          if (!dataTable) return;\n",
              "\n",
              "          const docLinkHtml = 'Like what you see? Visit the ' +\n",
              "            '<a target=\"_blank\" href=https://colab.research.google.com/notebooks/data_table.ipynb>data table notebook</a>'\n",
              "            + ' to learn more about interactive tables.';\n",
              "          element.innerHTML = '';\n",
              "          dataTable['output_type'] = 'display_data';\n",
              "          await google.colab.output.renderOutput(dataTable, element);\n",
              "          const docLink = document.createElement('div');\n",
              "          docLink.innerHTML = docLinkHtml;\n",
              "          element.appendChild(docLink);\n",
              "        }\n",
              "      </script>\n",
              "    </div>\n",
              "  </div>\n",
              "  "
            ]
          },
          "metadata": {},
          "execution_count": 51
        }
      ]
    },
    {
      "cell_type": "markdown",
      "source": [
        "Here, we are changing the name of our dataset to \"disability\" instead of \"df\""
      ],
      "metadata": {
        "id": "XFXjK8QXpBME"
      }
    },
    {
      "cell_type": "code",
      "source": [
        "disability = pd.read_csv('https://github.com/chrissoria/Disability_Reddit/raw/master/Data/disability_sub_top_sm_lemmas.csv')"
      ],
      "metadata": {
        "id": "9b31T5r6a3bm"
      },
      "execution_count": null,
      "outputs": []
    },
    {
      "cell_type": "code",
      "source": [
        "disability = disability.drop_duplicates(subset=\"selftext\", keep='first', inplace=False)"
      ],
      "metadata": {
        "id": "PuASVWs3kOgI"
      },
      "execution_count": null,
      "outputs": []
    },
    {
      "cell_type": "code",
      "source": [
        "disability = disability.reset_index()"
      ],
      "metadata": {
        "id": "aVH5Hx27so4w"
      },
      "execution_count": null,
      "outputs": []
    },
    {
      "cell_type": "code",
      "source": [
        "disability.insert(loc=3, column='created_datetime', value=pd.to_datetime(disability['created_utc'], unit='s'))"
      ],
      "metadata": {
        "id": "dwMHJb3KwaJ4"
      },
      "execution_count": null,
      "outputs": []
    },
    {
      "cell_type": "code",
      "source": [
        "disability_cleaned.shape"
      ],
      "metadata": {
        "colab": {
          "base_uri": "https://localhost:8080/"
        },
        "id": "dzyImG9SponD",
        "outputId": "a18ecf39-6ac2-45f4-ee35-9b70d819020c"
      },
      "execution_count": null,
      "outputs": [
        {
          "output_type": "execute_result",
          "data": {
            "text/plain": [
              "(9744, 16)"
            ]
          },
          "metadata": {},
          "execution_count": 71
        }
      ]
    },
    {
      "cell_type": "markdown",
      "source": [
        "How many posts per year?"
      ],
      "metadata": {
        "id": "hAPOluwJrFLM"
      }
    },
    {
      "cell_type": "code",
      "source": [
        "disability.head()"
      ],
      "metadata": {
        "colab": {
          "base_uri": "https://localhost:8080/",
          "height": 710
        },
        "id": "ZOMW4cHTwNgV",
        "outputId": "f696055a-252e-4806-c784-db78a9b5ad66"
      },
      "execution_count": null,
      "outputs": [
        {
          "output_type": "execute_result",
          "data": {
            "text/plain": [
              "   level_0  index  Unnamed: 0    created_datetime      id  created_utc  \\\n",
              "0        0      0           0 2021-08-21 00:23:13  p8hcfj   1629505393   \n",
              "1        1      1           1 2021-08-20 12:51:43  p84kgg   1629463903   \n",
              "2        2      3           3 2021-08-20 10:36:43  p82mfs   1629455803   \n",
              "3        3      4           4 2021-08-20 19:40:45  p8cdd2   1629488445   \n",
              "4        4      5           5 2021-08-21 17:54:21  p8w0cl   1629568461   \n",
              "\n",
              "  link_flair_text author_flair_text                author  \\\n",
              "0             NaN               NaN             OrdanCoal   \n",
              "1            Rant               NaN              dusnood_   \n",
              "2      Discussion               NaN      ShenandoahValley   \n",
              "3             NaN               NaN  musicalearnightingal   \n",
              "4            Rant               NaN            OracNimsaj   \n",
              "\n",
              "                                              lemmas  over_18  \\\n",
              "0  like crying chronic_pain weak happy\"if happy s...    False   \n",
              "1  regular bills live relatives pay small things ...    False   \n",
              "2  came manager local ssa office va spoke started...    False   \n",
              "3  coworkers hates workplaces politics having hat...    False   \n",
              "4  context 24f unknown form muscular_dystrophy wa...    False   \n",
              "\n",
              "                                               title  is_self  \\\n",
              "0  Anybody noticed the trap people set with your ...     True   \n",
              "1  Feeling guilty for spending with \"disability i...     True   \n",
              "2   Only 30% of SSD applicants approved on first try     True   \n",
              "3  Have you ever called someone out for treating ...     True   \n",
              "4  What's the most ridiculous (or infuriating) th...     True   \n",
              "\n",
              "                                            selftext  score  upvote_ratio  \\\n",
              "0  Like, if I'm crying because I'm in chronic pai...     34          0.92   \n",
              "1  I don’t have any regular bills as I still live...     32          0.94   \n",
              "2  This came from a manager at the local SSA offi...     14          0.90   \n",
              "3  So one of my coworkers really hates me. I get ...     12          0.93   \n",
              "4  context: I (24F) have an unknown form of Muscu...     11          0.92   \n",
              "\n",
              "  distinguished  num_comments  \n",
              "0           NaN            53  \n",
              "1           NaN            65  \n",
              "2           NaN            81  \n",
              "3           NaN            20  \n",
              "4           NaN           179  "
            ],
            "text/html": [
              "\n",
              "  <div id=\"df-5de3a0ca-a3b7-4922-a1a4-bbb8cee8941e\">\n",
              "    <div class=\"colab-df-container\">\n",
              "      <div>\n",
              "<style scoped>\n",
              "    .dataframe tbody tr th:only-of-type {\n",
              "        vertical-align: middle;\n",
              "    }\n",
              "\n",
              "    .dataframe tbody tr th {\n",
              "        vertical-align: top;\n",
              "    }\n",
              "\n",
              "    .dataframe thead th {\n",
              "        text-align: right;\n",
              "    }\n",
              "</style>\n",
              "<table border=\"1\" class=\"dataframe\">\n",
              "  <thead>\n",
              "    <tr style=\"text-align: right;\">\n",
              "      <th></th>\n",
              "      <th>level_0</th>\n",
              "      <th>index</th>\n",
              "      <th>Unnamed: 0</th>\n",
              "      <th>created_datetime</th>\n",
              "      <th>id</th>\n",
              "      <th>created_utc</th>\n",
              "      <th>link_flair_text</th>\n",
              "      <th>author_flair_text</th>\n",
              "      <th>author</th>\n",
              "      <th>lemmas</th>\n",
              "      <th>over_18</th>\n",
              "      <th>title</th>\n",
              "      <th>is_self</th>\n",
              "      <th>selftext</th>\n",
              "      <th>score</th>\n",
              "      <th>upvote_ratio</th>\n",
              "      <th>distinguished</th>\n",
              "      <th>num_comments</th>\n",
              "    </tr>\n",
              "  </thead>\n",
              "  <tbody>\n",
              "    <tr>\n",
              "      <th>0</th>\n",
              "      <td>0</td>\n",
              "      <td>0</td>\n",
              "      <td>0</td>\n",
              "      <td>2021-08-21 00:23:13</td>\n",
              "      <td>p8hcfj</td>\n",
              "      <td>1629505393</td>\n",
              "      <td>NaN</td>\n",
              "      <td>NaN</td>\n",
              "      <td>OrdanCoal</td>\n",
              "      <td>like crying chronic_pain weak happy\"if happy s...</td>\n",
              "      <td>False</td>\n",
              "      <td>Anybody noticed the trap people set with your ...</td>\n",
              "      <td>True</td>\n",
              "      <td>Like, if I'm crying because I'm in chronic pai...</td>\n",
              "      <td>34</td>\n",
              "      <td>0.92</td>\n",
              "      <td>NaN</td>\n",
              "      <td>53</td>\n",
              "    </tr>\n",
              "    <tr>\n",
              "      <th>1</th>\n",
              "      <td>1</td>\n",
              "      <td>1</td>\n",
              "      <td>1</td>\n",
              "      <td>2021-08-20 12:51:43</td>\n",
              "      <td>p84kgg</td>\n",
              "      <td>1629463903</td>\n",
              "      <td>Rant</td>\n",
              "      <td>NaN</td>\n",
              "      <td>dusnood_</td>\n",
              "      <td>regular bills live relatives pay small things ...</td>\n",
              "      <td>False</td>\n",
              "      <td>Feeling guilty for spending with \"disability i...</td>\n",
              "      <td>True</td>\n",
              "      <td>I don’t have any regular bills as I still live...</td>\n",
              "      <td>32</td>\n",
              "      <td>0.94</td>\n",
              "      <td>NaN</td>\n",
              "      <td>65</td>\n",
              "    </tr>\n",
              "    <tr>\n",
              "      <th>2</th>\n",
              "      <td>2</td>\n",
              "      <td>3</td>\n",
              "      <td>3</td>\n",
              "      <td>2021-08-20 10:36:43</td>\n",
              "      <td>p82mfs</td>\n",
              "      <td>1629455803</td>\n",
              "      <td>Discussion</td>\n",
              "      <td>NaN</td>\n",
              "      <td>ShenandoahValley</td>\n",
              "      <td>came manager local ssa office va spoke started...</td>\n",
              "      <td>False</td>\n",
              "      <td>Only 30% of SSD applicants approved on first try</td>\n",
              "      <td>True</td>\n",
              "      <td>This came from a manager at the local SSA offi...</td>\n",
              "      <td>14</td>\n",
              "      <td>0.90</td>\n",
              "      <td>NaN</td>\n",
              "      <td>81</td>\n",
              "    </tr>\n",
              "    <tr>\n",
              "      <th>3</th>\n",
              "      <td>3</td>\n",
              "      <td>4</td>\n",
              "      <td>4</td>\n",
              "      <td>2021-08-20 19:40:45</td>\n",
              "      <td>p8cdd2</td>\n",
              "      <td>1629488445</td>\n",
              "      <td>NaN</td>\n",
              "      <td>NaN</td>\n",
              "      <td>musicalearnightingal</td>\n",
              "      <td>coworkers hates workplaces politics having hat...</td>\n",
              "      <td>False</td>\n",
              "      <td>Have you ever called someone out for treating ...</td>\n",
              "      <td>True</td>\n",
              "      <td>So one of my coworkers really hates me. I get ...</td>\n",
              "      <td>12</td>\n",
              "      <td>0.93</td>\n",
              "      <td>NaN</td>\n",
              "      <td>20</td>\n",
              "    </tr>\n",
              "    <tr>\n",
              "      <th>4</th>\n",
              "      <td>4</td>\n",
              "      <td>5</td>\n",
              "      <td>5</td>\n",
              "      <td>2021-08-21 17:54:21</td>\n",
              "      <td>p8w0cl</td>\n",
              "      <td>1629568461</td>\n",
              "      <td>Rant</td>\n",
              "      <td>NaN</td>\n",
              "      <td>OracNimsaj</td>\n",
              "      <td>context 24f unknown form muscular_dystrophy wa...</td>\n",
              "      <td>False</td>\n",
              "      <td>What's the most ridiculous (or infuriating) th...</td>\n",
              "      <td>True</td>\n",
              "      <td>context: I (24F) have an unknown form of Muscu...</td>\n",
              "      <td>11</td>\n",
              "      <td>0.92</td>\n",
              "      <td>NaN</td>\n",
              "      <td>179</td>\n",
              "    </tr>\n",
              "  </tbody>\n",
              "</table>\n",
              "</div>\n",
              "      <button class=\"colab-df-convert\" onclick=\"convertToInteractive('df-5de3a0ca-a3b7-4922-a1a4-bbb8cee8941e')\"\n",
              "              title=\"Convert this dataframe to an interactive table.\"\n",
              "              style=\"display:none;\">\n",
              "        \n",
              "  <svg xmlns=\"http://www.w3.org/2000/svg\" height=\"24px\"viewBox=\"0 0 24 24\"\n",
              "       width=\"24px\">\n",
              "    <path d=\"M0 0h24v24H0V0z\" fill=\"none\"/>\n",
              "    <path d=\"M18.56 5.44l.94 2.06.94-2.06 2.06-.94-2.06-.94-.94-2.06-.94 2.06-2.06.94zm-11 1L8.5 8.5l.94-2.06 2.06-.94-2.06-.94L8.5 2.5l-.94 2.06-2.06.94zm10 10l.94 2.06.94-2.06 2.06-.94-2.06-.94-.94-2.06-.94 2.06-2.06.94z\"/><path d=\"M17.41 7.96l-1.37-1.37c-.4-.4-.92-.59-1.43-.59-.52 0-1.04.2-1.43.59L10.3 9.45l-7.72 7.72c-.78.78-.78 2.05 0 2.83L4 21.41c.39.39.9.59 1.41.59.51 0 1.02-.2 1.41-.59l7.78-7.78 2.81-2.81c.8-.78.8-2.07 0-2.86zM5.41 20L4 18.59l7.72-7.72 1.47 1.35L5.41 20z\"/>\n",
              "  </svg>\n",
              "      </button>\n",
              "      \n",
              "  <style>\n",
              "    .colab-df-container {\n",
              "      display:flex;\n",
              "      flex-wrap:wrap;\n",
              "      gap: 12px;\n",
              "    }\n",
              "\n",
              "    .colab-df-convert {\n",
              "      background-color: #E8F0FE;\n",
              "      border: none;\n",
              "      border-radius: 50%;\n",
              "      cursor: pointer;\n",
              "      display: none;\n",
              "      fill: #1967D2;\n",
              "      height: 32px;\n",
              "      padding: 0 0 0 0;\n",
              "      width: 32px;\n",
              "    }\n",
              "\n",
              "    .colab-df-convert:hover {\n",
              "      background-color: #E2EBFA;\n",
              "      box-shadow: 0px 1px 2px rgba(60, 64, 67, 0.3), 0px 1px 3px 1px rgba(60, 64, 67, 0.15);\n",
              "      fill: #174EA6;\n",
              "    }\n",
              "\n",
              "    [theme=dark] .colab-df-convert {\n",
              "      background-color: #3B4455;\n",
              "      fill: #D2E3FC;\n",
              "    }\n",
              "\n",
              "    [theme=dark] .colab-df-convert:hover {\n",
              "      background-color: #434B5C;\n",
              "      box-shadow: 0px 1px 3px 1px rgba(0, 0, 0, 0.15);\n",
              "      filter: drop-shadow(0px 1px 2px rgba(0, 0, 0, 0.3));\n",
              "      fill: #FFFFFF;\n",
              "    }\n",
              "  </style>\n",
              "\n",
              "      <script>\n",
              "        const buttonEl =\n",
              "          document.querySelector('#df-5de3a0ca-a3b7-4922-a1a4-bbb8cee8941e button.colab-df-convert');\n",
              "        buttonEl.style.display =\n",
              "          google.colab.kernel.accessAllowed ? 'block' : 'none';\n",
              "\n",
              "        async function convertToInteractive(key) {\n",
              "          const element = document.querySelector('#df-5de3a0ca-a3b7-4922-a1a4-bbb8cee8941e');\n",
              "          const dataTable =\n",
              "            await google.colab.kernel.invokeFunction('convertToInteractive',\n",
              "                                                     [key], {});\n",
              "          if (!dataTable) return;\n",
              "\n",
              "          const docLinkHtml = 'Like what you see? Visit the ' +\n",
              "            '<a target=\"_blank\" href=https://colab.research.google.com/notebooks/data_table.ipynb>data table notebook</a>'\n",
              "            + ' to learn more about interactive tables.';\n",
              "          element.innerHTML = '';\n",
              "          dataTable['output_type'] = 'display_data';\n",
              "          await google.colab.output.renderOutput(dataTable, element);\n",
              "          const docLink = document.createElement('div');\n",
              "          docLink.innerHTML = docLinkHtml;\n",
              "          element.appendChild(docLink);\n",
              "        }\n",
              "      </script>\n",
              "    </div>\n",
              "  </div>\n",
              "  "
            ]
          },
          "metadata": {},
          "execution_count": 90
        }
      ]
    },
    {
      "cell_type": "code",
      "source": [
        "disability[\"created_datetime\"]"
      ],
      "metadata": {
        "colab": {
          "base_uri": "https://localhost:8080/"
        },
        "id": "ahoVF_oKvpyy",
        "outputId": "df6a6371-7c32-466f-d2dc-e18eb43f2f34"
      },
      "execution_count": null,
      "outputs": [
        {
          "output_type": "execute_result",
          "data": {
            "text/plain": [
              "0      2021-08-21 00:23:13\n",
              "1      2021-08-20 12:51:43\n",
              "2      2021-08-20 10:36:43\n",
              "3      2021-08-20 19:40:45\n",
              "4      2021-08-21 17:54:21\n",
              "               ...        \n",
              "9739   2015-05-19 18:19:48\n",
              "9740   2015-05-28 10:52:54\n",
              "9741   2015-05-26 09:06:56\n",
              "9742   2015-06-02 05:04:38\n",
              "9743   2015-06-04 03:17:19\n",
              "Name: created_datetime, Length: 9744, dtype: datetime64[ns]"
            ]
          },
          "metadata": {},
          "execution_count": 91
        }
      ]
    },
    {
      "cell_type": "code",
      "source": [
        "disability[\"year\"] = pd.DatetimeIndex(disability['created_datetime']).year\n",
        "print(disability[\"year\"])"
      ],
      "metadata": {
        "colab": {
          "base_uri": "https://localhost:8080/"
        },
        "id": "PArm1lQZrIPj",
        "outputId": "13f2e96f-a21b-4cc2-e6f2-8196bdeef45a"
      },
      "execution_count": null,
      "outputs": [
        {
          "output_type": "stream",
          "name": "stdout",
          "text": [
            "0       2021\n",
            "1       2021\n",
            "2       2021\n",
            "3       2021\n",
            "4       2021\n",
            "        ... \n",
            "9739    2015\n",
            "9740    2015\n",
            "9741    2015\n",
            "9742    2015\n",
            "9743    2015\n",
            "Name: year, Length: 9744, dtype: int64\n"
          ]
        }
      ]
    },
    {
      "cell_type": "code",
      "source": [
        "disability[\"year\"].value_counts().sort_index()"
      ],
      "metadata": {
        "colab": {
          "base_uri": "https://localhost:8080/"
        },
        "id": "aegFQDwbwpC8",
        "outputId": "ecfe9c47-5353-4f5f-83cc-3fd3f4a45a75"
      },
      "execution_count": null,
      "outputs": [
        {
          "output_type": "execute_result",
          "data": {
            "text/plain": [
              "2014     203\n",
              "2015     658\n",
              "2016     886\n",
              "2017     981\n",
              "2018    1046\n",
              "2019    1360\n",
              "2020    1391\n",
              "2021    1804\n",
              "2022    1415\n",
              "Name: year, dtype: int64"
            ]
          },
          "metadata": {},
          "execution_count": 94
        }
      ]
    },
    {
      "cell_type": "code",
      "source": [
        "from IPython.display import display"
      ],
      "metadata": {
        "id": "qQfIssn_0mIn"
      },
      "execution_count": null,
      "outputs": []
    },
    {
      "cell_type": "code",
      "source": [
        "display(disability[\"year\"].value_counts().sort_index())"
      ],
      "metadata": {
        "colab": {
          "base_uri": "https://localhost:8080/",
          "height": 187
        },
        "id": "Q37s4uAR0pd4",
        "outputId": "bc86619b-2b35-49c0-b3d8-11c985e8eb88"
      },
      "execution_count": null,
      "outputs": [
        {
          "output_type": "display_data",
          "data": {
            "text/plain": [
              "2014     203\n",
              "2015     658\n",
              "2016     886\n",
              "2017     981\n",
              "2018    1046\n",
              "2019    1360\n",
              "2020    1391\n",
              "2021    1804\n",
              "2022    1415\n",
              "Name: year, dtype: int64"
            ]
          },
          "metadata": {}
        }
      ]
    },
    {
      "cell_type": "code",
      "source": [
        "disability[disability['score']>20][\"year\"].value_counts().sort_index() #view counts based on a condition"
      ],
      "metadata": {
        "colab": {
          "base_uri": "https://localhost:8080/"
        },
        "id": "van3RWRmxO4t",
        "outputId": "f361219c-b320-4bb0-f489-404dce80bd58"
      },
      "execution_count": null,
      "outputs": [
        {
          "output_type": "execute_result",
          "data": {
            "text/plain": [
              "2014      1\n",
              "2015     16\n",
              "2016     26\n",
              "2017     55\n",
              "2018     68\n",
              "2019    150\n",
              "2020     19\n",
              "2021     24\n",
              "Name: year, dtype: int64"
            ]
          },
          "metadata": {},
          "execution_count": 96
        }
      ]
    },
    {
      "cell_type": "code",
      "source": [
        "df_year_flair = disability.groupby([\"year\",\"link_flair_text\"]).size().reset_index() #view counts based on a categorical variable\n"
      ],
      "metadata": {
        "id": "9gJSX4fExzOQ"
      },
      "execution_count": null,
      "outputs": []
    },
    {
      "cell_type": "code",
      "source": [
        "with pd.option_context('display.max_rows',100):\n",
        "  display(df_year_flair)"
      ],
      "metadata": {
        "colab": {
          "base_uri": "https://localhost:8080/",
          "height": 1000
        },
        "id": "_t4bposjy-Xh",
        "outputId": "d810d71d-7388-43e2-8d5e-e2e66d9128e2"
      },
      "execution_count": null,
      "outputs": [
        {
          "output_type": "display_data",
          "data": {
            "text/plain": [
              "    year    link_flair_text    0\n",
              "0   2014               Blog    1\n",
              "1   2014              Other    4\n",
              "2   2014           Question   22\n",
              "3   2014               Rant    4\n",
              "4   2015       Announcement    2\n",
              "5   2015     Article / News    4\n",
              "6   2015               Blog    4\n",
              "7   2015            Concern   23\n",
              "8   2015              Image    1\n",
              "9   2015           MOD POST    1\n",
              "10  2015           Mod Post    1\n",
              "11  2015              Other   57\n",
              "12  2015           Question  331\n",
              "13  2015               Rant   49\n",
              "14  2015             Survey    3\n",
              "15  2015           VERIFIED    1\n",
              "16  2015              Video    9\n",
              "17  2016     Article / News   12\n",
              "18  2016               Blog    2\n",
              "19  2016            Concern   61\n",
              "20  2016              Other   23\n",
              "21  2016           Question  363\n",
              "22  2016               Rant   31\n",
              "23  2016  Survey - Approved    1\n",
              "24  2016              Video    1\n",
              "25  2017     Article / News   10\n",
              "26  2017               Blog    5\n",
              "27  2017            Concern   40\n",
              "28  2017              Other   38\n",
              "29  2017           Question  361\n",
              "30  2017               Rant   44\n",
              "31  2017    Removed: Rule 4    1\n",
              "32  2017             Survey    3\n",
              "33  2017              Video    1\n",
              "34  2018     Article / News   11\n",
              "35  2018               Blog    2\n",
              "36  2018            Concern   33\n",
              "37  2018              Image    1\n",
              "38  2018              Other   21\n",
              "39  2018           Question  215\n",
              "40  2018               Rant   43\n",
              "41  2018              Video    2\n",
              "42  2019     Article / News    8\n",
              "43  2019               Blog    1\n",
              "44  2019            Concern   56\n",
              "45  2019         Discussion   44\n",
              "46  2019           Intimacy    2\n",
              "47  2019              Other   30\n",
              "48  2019           Question  255\n",
              "49  2019               Rant   90\n",
              "50  2019              Video    3\n",
              "51  2020     Article / News    6\n",
              "52  2020               Blog    4\n",
              "53  2020            Concern   38\n",
              "54  2020         Discussion   81\n",
              "55  2020              Image    1\n",
              "56  2020           Intimacy    3\n",
              "57  2020              Other   27\n",
              "58  2020           Question  374\n",
              "59  2020               Rant  113\n",
              "60  2020             Survey    4\n",
              "61  2020              Video    7\n",
              "62  2021     Article / News    7\n",
              "63  2021               Blog    1\n",
              "64  2021            Concern   99\n",
              "65  2021         Discussion  115\n",
              "66  2021              Image    2\n",
              "67  2021           Intimacy    9\n",
              "68  2021              Other   34\n",
              "69  2021           Question  641\n",
              "70  2021               Rant  179\n",
              "71  2021             Survey    7\n",
              "72  2021              Video    4\n",
              "73  2022     Article / News    9\n",
              "74  2022               Blog    3\n",
              "75  2022            Concern   76\n",
              "76  2022         Discussion   73\n",
              "77  2022              Image    1\n",
              "78  2022              Other   23\n",
              "79  2022           Question  494\n",
              "80  2022               Rant  153\n",
              "81  2022             Survey    1\n",
              "82  2022              Video    2"
            ],
            "text/html": [
              "\n",
              "  <div id=\"df-c39cf146-3024-482e-b233-c748b42cf5b8\">\n",
              "    <div class=\"colab-df-container\">\n",
              "      <div>\n",
              "<style scoped>\n",
              "    .dataframe tbody tr th:only-of-type {\n",
              "        vertical-align: middle;\n",
              "    }\n",
              "\n",
              "    .dataframe tbody tr th {\n",
              "        vertical-align: top;\n",
              "    }\n",
              "\n",
              "    .dataframe thead th {\n",
              "        text-align: right;\n",
              "    }\n",
              "</style>\n",
              "<table border=\"1\" class=\"dataframe\">\n",
              "  <thead>\n",
              "    <tr style=\"text-align: right;\">\n",
              "      <th></th>\n",
              "      <th>year</th>\n",
              "      <th>link_flair_text</th>\n",
              "      <th>0</th>\n",
              "    </tr>\n",
              "  </thead>\n",
              "  <tbody>\n",
              "    <tr>\n",
              "      <th>0</th>\n",
              "      <td>2014</td>\n",
              "      <td>Blog</td>\n",
              "      <td>1</td>\n",
              "    </tr>\n",
              "    <tr>\n",
              "      <th>1</th>\n",
              "      <td>2014</td>\n",
              "      <td>Other</td>\n",
              "      <td>4</td>\n",
              "    </tr>\n",
              "    <tr>\n",
              "      <th>2</th>\n",
              "      <td>2014</td>\n",
              "      <td>Question</td>\n",
              "      <td>22</td>\n",
              "    </tr>\n",
              "    <tr>\n",
              "      <th>3</th>\n",
              "      <td>2014</td>\n",
              "      <td>Rant</td>\n",
              "      <td>4</td>\n",
              "    </tr>\n",
              "    <tr>\n",
              "      <th>4</th>\n",
              "      <td>2015</td>\n",
              "      <td>Announcement</td>\n",
              "      <td>2</td>\n",
              "    </tr>\n",
              "    <tr>\n",
              "      <th>5</th>\n",
              "      <td>2015</td>\n",
              "      <td>Article / News</td>\n",
              "      <td>4</td>\n",
              "    </tr>\n",
              "    <tr>\n",
              "      <th>6</th>\n",
              "      <td>2015</td>\n",
              "      <td>Blog</td>\n",
              "      <td>4</td>\n",
              "    </tr>\n",
              "    <tr>\n",
              "      <th>7</th>\n",
              "      <td>2015</td>\n",
              "      <td>Concern</td>\n",
              "      <td>23</td>\n",
              "    </tr>\n",
              "    <tr>\n",
              "      <th>8</th>\n",
              "      <td>2015</td>\n",
              "      <td>Image</td>\n",
              "      <td>1</td>\n",
              "    </tr>\n",
              "    <tr>\n",
              "      <th>9</th>\n",
              "      <td>2015</td>\n",
              "      <td>MOD POST</td>\n",
              "      <td>1</td>\n",
              "    </tr>\n",
              "    <tr>\n",
              "      <th>10</th>\n",
              "      <td>2015</td>\n",
              "      <td>Mod Post</td>\n",
              "      <td>1</td>\n",
              "    </tr>\n",
              "    <tr>\n",
              "      <th>11</th>\n",
              "      <td>2015</td>\n",
              "      <td>Other</td>\n",
              "      <td>57</td>\n",
              "    </tr>\n",
              "    <tr>\n",
              "      <th>12</th>\n",
              "      <td>2015</td>\n",
              "      <td>Question</td>\n",
              "      <td>331</td>\n",
              "    </tr>\n",
              "    <tr>\n",
              "      <th>13</th>\n",
              "      <td>2015</td>\n",
              "      <td>Rant</td>\n",
              "      <td>49</td>\n",
              "    </tr>\n",
              "    <tr>\n",
              "      <th>14</th>\n",
              "      <td>2015</td>\n",
              "      <td>Survey</td>\n",
              "      <td>3</td>\n",
              "    </tr>\n",
              "    <tr>\n",
              "      <th>15</th>\n",
              "      <td>2015</td>\n",
              "      <td>VERIFIED</td>\n",
              "      <td>1</td>\n",
              "    </tr>\n",
              "    <tr>\n",
              "      <th>16</th>\n",
              "      <td>2015</td>\n",
              "      <td>Video</td>\n",
              "      <td>9</td>\n",
              "    </tr>\n",
              "    <tr>\n",
              "      <th>17</th>\n",
              "      <td>2016</td>\n",
              "      <td>Article / News</td>\n",
              "      <td>12</td>\n",
              "    </tr>\n",
              "    <tr>\n",
              "      <th>18</th>\n",
              "      <td>2016</td>\n",
              "      <td>Blog</td>\n",
              "      <td>2</td>\n",
              "    </tr>\n",
              "    <tr>\n",
              "      <th>19</th>\n",
              "      <td>2016</td>\n",
              "      <td>Concern</td>\n",
              "      <td>61</td>\n",
              "    </tr>\n",
              "    <tr>\n",
              "      <th>20</th>\n",
              "      <td>2016</td>\n",
              "      <td>Other</td>\n",
              "      <td>23</td>\n",
              "    </tr>\n",
              "    <tr>\n",
              "      <th>21</th>\n",
              "      <td>2016</td>\n",
              "      <td>Question</td>\n",
              "      <td>363</td>\n",
              "    </tr>\n",
              "    <tr>\n",
              "      <th>22</th>\n",
              "      <td>2016</td>\n",
              "      <td>Rant</td>\n",
              "      <td>31</td>\n",
              "    </tr>\n",
              "    <tr>\n",
              "      <th>23</th>\n",
              "      <td>2016</td>\n",
              "      <td>Survey - Approved</td>\n",
              "      <td>1</td>\n",
              "    </tr>\n",
              "    <tr>\n",
              "      <th>24</th>\n",
              "      <td>2016</td>\n",
              "      <td>Video</td>\n",
              "      <td>1</td>\n",
              "    </tr>\n",
              "    <tr>\n",
              "      <th>25</th>\n",
              "      <td>2017</td>\n",
              "      <td>Article / News</td>\n",
              "      <td>10</td>\n",
              "    </tr>\n",
              "    <tr>\n",
              "      <th>26</th>\n",
              "      <td>2017</td>\n",
              "      <td>Blog</td>\n",
              "      <td>5</td>\n",
              "    </tr>\n",
              "    <tr>\n",
              "      <th>27</th>\n",
              "      <td>2017</td>\n",
              "      <td>Concern</td>\n",
              "      <td>40</td>\n",
              "    </tr>\n",
              "    <tr>\n",
              "      <th>28</th>\n",
              "      <td>2017</td>\n",
              "      <td>Other</td>\n",
              "      <td>38</td>\n",
              "    </tr>\n",
              "    <tr>\n",
              "      <th>29</th>\n",
              "      <td>2017</td>\n",
              "      <td>Question</td>\n",
              "      <td>361</td>\n",
              "    </tr>\n",
              "    <tr>\n",
              "      <th>30</th>\n",
              "      <td>2017</td>\n",
              "      <td>Rant</td>\n",
              "      <td>44</td>\n",
              "    </tr>\n",
              "    <tr>\n",
              "      <th>31</th>\n",
              "      <td>2017</td>\n",
              "      <td>Removed: Rule 4</td>\n",
              "      <td>1</td>\n",
              "    </tr>\n",
              "    <tr>\n",
              "      <th>32</th>\n",
              "      <td>2017</td>\n",
              "      <td>Survey</td>\n",
              "      <td>3</td>\n",
              "    </tr>\n",
              "    <tr>\n",
              "      <th>33</th>\n",
              "      <td>2017</td>\n",
              "      <td>Video</td>\n",
              "      <td>1</td>\n",
              "    </tr>\n",
              "    <tr>\n",
              "      <th>34</th>\n",
              "      <td>2018</td>\n",
              "      <td>Article / News</td>\n",
              "      <td>11</td>\n",
              "    </tr>\n",
              "    <tr>\n",
              "      <th>35</th>\n",
              "      <td>2018</td>\n",
              "      <td>Blog</td>\n",
              "      <td>2</td>\n",
              "    </tr>\n",
              "    <tr>\n",
              "      <th>36</th>\n",
              "      <td>2018</td>\n",
              "      <td>Concern</td>\n",
              "      <td>33</td>\n",
              "    </tr>\n",
              "    <tr>\n",
              "      <th>37</th>\n",
              "      <td>2018</td>\n",
              "      <td>Image</td>\n",
              "      <td>1</td>\n",
              "    </tr>\n",
              "    <tr>\n",
              "      <th>38</th>\n",
              "      <td>2018</td>\n",
              "      <td>Other</td>\n",
              "      <td>21</td>\n",
              "    </tr>\n",
              "    <tr>\n",
              "      <th>39</th>\n",
              "      <td>2018</td>\n",
              "      <td>Question</td>\n",
              "      <td>215</td>\n",
              "    </tr>\n",
              "    <tr>\n",
              "      <th>40</th>\n",
              "      <td>2018</td>\n",
              "      <td>Rant</td>\n",
              "      <td>43</td>\n",
              "    </tr>\n",
              "    <tr>\n",
              "      <th>41</th>\n",
              "      <td>2018</td>\n",
              "      <td>Video</td>\n",
              "      <td>2</td>\n",
              "    </tr>\n",
              "    <tr>\n",
              "      <th>42</th>\n",
              "      <td>2019</td>\n",
              "      <td>Article / News</td>\n",
              "      <td>8</td>\n",
              "    </tr>\n",
              "    <tr>\n",
              "      <th>43</th>\n",
              "      <td>2019</td>\n",
              "      <td>Blog</td>\n",
              "      <td>1</td>\n",
              "    </tr>\n",
              "    <tr>\n",
              "      <th>44</th>\n",
              "      <td>2019</td>\n",
              "      <td>Concern</td>\n",
              "      <td>56</td>\n",
              "    </tr>\n",
              "    <tr>\n",
              "      <th>45</th>\n",
              "      <td>2019</td>\n",
              "      <td>Discussion</td>\n",
              "      <td>44</td>\n",
              "    </tr>\n",
              "    <tr>\n",
              "      <th>46</th>\n",
              "      <td>2019</td>\n",
              "      <td>Intimacy</td>\n",
              "      <td>2</td>\n",
              "    </tr>\n",
              "    <tr>\n",
              "      <th>47</th>\n",
              "      <td>2019</td>\n",
              "      <td>Other</td>\n",
              "      <td>30</td>\n",
              "    </tr>\n",
              "    <tr>\n",
              "      <th>48</th>\n",
              "      <td>2019</td>\n",
              "      <td>Question</td>\n",
              "      <td>255</td>\n",
              "    </tr>\n",
              "    <tr>\n",
              "      <th>49</th>\n",
              "      <td>2019</td>\n",
              "      <td>Rant</td>\n",
              "      <td>90</td>\n",
              "    </tr>\n",
              "    <tr>\n",
              "      <th>50</th>\n",
              "      <td>2019</td>\n",
              "      <td>Video</td>\n",
              "      <td>3</td>\n",
              "    </tr>\n",
              "    <tr>\n",
              "      <th>51</th>\n",
              "      <td>2020</td>\n",
              "      <td>Article / News</td>\n",
              "      <td>6</td>\n",
              "    </tr>\n",
              "    <tr>\n",
              "      <th>52</th>\n",
              "      <td>2020</td>\n",
              "      <td>Blog</td>\n",
              "      <td>4</td>\n",
              "    </tr>\n",
              "    <tr>\n",
              "      <th>53</th>\n",
              "      <td>2020</td>\n",
              "      <td>Concern</td>\n",
              "      <td>38</td>\n",
              "    </tr>\n",
              "    <tr>\n",
              "      <th>54</th>\n",
              "      <td>2020</td>\n",
              "      <td>Discussion</td>\n",
              "      <td>81</td>\n",
              "    </tr>\n",
              "    <tr>\n",
              "      <th>55</th>\n",
              "      <td>2020</td>\n",
              "      <td>Image</td>\n",
              "      <td>1</td>\n",
              "    </tr>\n",
              "    <tr>\n",
              "      <th>56</th>\n",
              "      <td>2020</td>\n",
              "      <td>Intimacy</td>\n",
              "      <td>3</td>\n",
              "    </tr>\n",
              "    <tr>\n",
              "      <th>57</th>\n",
              "      <td>2020</td>\n",
              "      <td>Other</td>\n",
              "      <td>27</td>\n",
              "    </tr>\n",
              "    <tr>\n",
              "      <th>58</th>\n",
              "      <td>2020</td>\n",
              "      <td>Question</td>\n",
              "      <td>374</td>\n",
              "    </tr>\n",
              "    <tr>\n",
              "      <th>59</th>\n",
              "      <td>2020</td>\n",
              "      <td>Rant</td>\n",
              "      <td>113</td>\n",
              "    </tr>\n",
              "    <tr>\n",
              "      <th>60</th>\n",
              "      <td>2020</td>\n",
              "      <td>Survey</td>\n",
              "      <td>4</td>\n",
              "    </tr>\n",
              "    <tr>\n",
              "      <th>61</th>\n",
              "      <td>2020</td>\n",
              "      <td>Video</td>\n",
              "      <td>7</td>\n",
              "    </tr>\n",
              "    <tr>\n",
              "      <th>62</th>\n",
              "      <td>2021</td>\n",
              "      <td>Article / News</td>\n",
              "      <td>7</td>\n",
              "    </tr>\n",
              "    <tr>\n",
              "      <th>63</th>\n",
              "      <td>2021</td>\n",
              "      <td>Blog</td>\n",
              "      <td>1</td>\n",
              "    </tr>\n",
              "    <tr>\n",
              "      <th>64</th>\n",
              "      <td>2021</td>\n",
              "      <td>Concern</td>\n",
              "      <td>99</td>\n",
              "    </tr>\n",
              "    <tr>\n",
              "      <th>65</th>\n",
              "      <td>2021</td>\n",
              "      <td>Discussion</td>\n",
              "      <td>115</td>\n",
              "    </tr>\n",
              "    <tr>\n",
              "      <th>66</th>\n",
              "      <td>2021</td>\n",
              "      <td>Image</td>\n",
              "      <td>2</td>\n",
              "    </tr>\n",
              "    <tr>\n",
              "      <th>67</th>\n",
              "      <td>2021</td>\n",
              "      <td>Intimacy</td>\n",
              "      <td>9</td>\n",
              "    </tr>\n",
              "    <tr>\n",
              "      <th>68</th>\n",
              "      <td>2021</td>\n",
              "      <td>Other</td>\n",
              "      <td>34</td>\n",
              "    </tr>\n",
              "    <tr>\n",
              "      <th>69</th>\n",
              "      <td>2021</td>\n",
              "      <td>Question</td>\n",
              "      <td>641</td>\n",
              "    </tr>\n",
              "    <tr>\n",
              "      <th>70</th>\n",
              "      <td>2021</td>\n",
              "      <td>Rant</td>\n",
              "      <td>179</td>\n",
              "    </tr>\n",
              "    <tr>\n",
              "      <th>71</th>\n",
              "      <td>2021</td>\n",
              "      <td>Survey</td>\n",
              "      <td>7</td>\n",
              "    </tr>\n",
              "    <tr>\n",
              "      <th>72</th>\n",
              "      <td>2021</td>\n",
              "      <td>Video</td>\n",
              "      <td>4</td>\n",
              "    </tr>\n",
              "    <tr>\n",
              "      <th>73</th>\n",
              "      <td>2022</td>\n",
              "      <td>Article / News</td>\n",
              "      <td>9</td>\n",
              "    </tr>\n",
              "    <tr>\n",
              "      <th>74</th>\n",
              "      <td>2022</td>\n",
              "      <td>Blog</td>\n",
              "      <td>3</td>\n",
              "    </tr>\n",
              "    <tr>\n",
              "      <th>75</th>\n",
              "      <td>2022</td>\n",
              "      <td>Concern</td>\n",
              "      <td>76</td>\n",
              "    </tr>\n",
              "    <tr>\n",
              "      <th>76</th>\n",
              "      <td>2022</td>\n",
              "      <td>Discussion</td>\n",
              "      <td>73</td>\n",
              "    </tr>\n",
              "    <tr>\n",
              "      <th>77</th>\n",
              "      <td>2022</td>\n",
              "      <td>Image</td>\n",
              "      <td>1</td>\n",
              "    </tr>\n",
              "    <tr>\n",
              "      <th>78</th>\n",
              "      <td>2022</td>\n",
              "      <td>Other</td>\n",
              "      <td>23</td>\n",
              "    </tr>\n",
              "    <tr>\n",
              "      <th>79</th>\n",
              "      <td>2022</td>\n",
              "      <td>Question</td>\n",
              "      <td>494</td>\n",
              "    </tr>\n",
              "    <tr>\n",
              "      <th>80</th>\n",
              "      <td>2022</td>\n",
              "      <td>Rant</td>\n",
              "      <td>153</td>\n",
              "    </tr>\n",
              "    <tr>\n",
              "      <th>81</th>\n",
              "      <td>2022</td>\n",
              "      <td>Survey</td>\n",
              "      <td>1</td>\n",
              "    </tr>\n",
              "    <tr>\n",
              "      <th>82</th>\n",
              "      <td>2022</td>\n",
              "      <td>Video</td>\n",
              "      <td>2</td>\n",
              "    </tr>\n",
              "  </tbody>\n",
              "</table>\n",
              "</div>\n",
              "      <button class=\"colab-df-convert\" onclick=\"convertToInteractive('df-c39cf146-3024-482e-b233-c748b42cf5b8')\"\n",
              "              title=\"Convert this dataframe to an interactive table.\"\n",
              "              style=\"display:none;\">\n",
              "        \n",
              "  <svg xmlns=\"http://www.w3.org/2000/svg\" height=\"24px\"viewBox=\"0 0 24 24\"\n",
              "       width=\"24px\">\n",
              "    <path d=\"M0 0h24v24H0V0z\" fill=\"none\"/>\n",
              "    <path d=\"M18.56 5.44l.94 2.06.94-2.06 2.06-.94-2.06-.94-.94-2.06-.94 2.06-2.06.94zm-11 1L8.5 8.5l.94-2.06 2.06-.94-2.06-.94L8.5 2.5l-.94 2.06-2.06.94zm10 10l.94 2.06.94-2.06 2.06-.94-2.06-.94-.94-2.06-.94 2.06-2.06.94z\"/><path d=\"M17.41 7.96l-1.37-1.37c-.4-.4-.92-.59-1.43-.59-.52 0-1.04.2-1.43.59L10.3 9.45l-7.72 7.72c-.78.78-.78 2.05 0 2.83L4 21.41c.39.39.9.59 1.41.59.51 0 1.02-.2 1.41-.59l7.78-7.78 2.81-2.81c.8-.78.8-2.07 0-2.86zM5.41 20L4 18.59l7.72-7.72 1.47 1.35L5.41 20z\"/>\n",
              "  </svg>\n",
              "      </button>\n",
              "      \n",
              "  <style>\n",
              "    .colab-df-container {\n",
              "      display:flex;\n",
              "      flex-wrap:wrap;\n",
              "      gap: 12px;\n",
              "    }\n",
              "\n",
              "    .colab-df-convert {\n",
              "      background-color: #E8F0FE;\n",
              "      border: none;\n",
              "      border-radius: 50%;\n",
              "      cursor: pointer;\n",
              "      display: none;\n",
              "      fill: #1967D2;\n",
              "      height: 32px;\n",
              "      padding: 0 0 0 0;\n",
              "      width: 32px;\n",
              "    }\n",
              "\n",
              "    .colab-df-convert:hover {\n",
              "      background-color: #E2EBFA;\n",
              "      box-shadow: 0px 1px 2px rgba(60, 64, 67, 0.3), 0px 1px 3px 1px rgba(60, 64, 67, 0.15);\n",
              "      fill: #174EA6;\n",
              "    }\n",
              "\n",
              "    [theme=dark] .colab-df-convert {\n",
              "      background-color: #3B4455;\n",
              "      fill: #D2E3FC;\n",
              "    }\n",
              "\n",
              "    [theme=dark] .colab-df-convert:hover {\n",
              "      background-color: #434B5C;\n",
              "      box-shadow: 0px 1px 3px 1px rgba(0, 0, 0, 0.15);\n",
              "      filter: drop-shadow(0px 1px 2px rgba(0, 0, 0, 0.3));\n",
              "      fill: #FFFFFF;\n",
              "    }\n",
              "  </style>\n",
              "\n",
              "      <script>\n",
              "        const buttonEl =\n",
              "          document.querySelector('#df-c39cf146-3024-482e-b233-c748b42cf5b8 button.colab-df-convert');\n",
              "        buttonEl.style.display =\n",
              "          google.colab.kernel.accessAllowed ? 'block' : 'none';\n",
              "\n",
              "        async function convertToInteractive(key) {\n",
              "          const element = document.querySelector('#df-c39cf146-3024-482e-b233-c748b42cf5b8');\n",
              "          const dataTable =\n",
              "            await google.colab.kernel.invokeFunction('convertToInteractive',\n",
              "                                                     [key], {});\n",
              "          if (!dataTable) return;\n",
              "\n",
              "          const docLinkHtml = 'Like what you see? Visit the ' +\n",
              "            '<a target=\"_blank\" href=https://colab.research.google.com/notebooks/data_table.ipynb>data table notebook</a>'\n",
              "            + ' to learn more about interactive tables.';\n",
              "          element.innerHTML = '';\n",
              "          dataTable['output_type'] = 'display_data';\n",
              "          await google.colab.output.renderOutput(dataTable, element);\n",
              "          const docLink = document.createElement('div');\n",
              "          docLink.innerHTML = docLinkHtml;\n",
              "          element.appendChild(docLink);\n",
              "        }\n",
              "      </script>\n",
              "    </div>\n",
              "  </div>\n",
              "  "
            ]
          },
          "metadata": {}
        }
      ]
    },
    {
      "cell_type": "markdown",
      "source": [
        "## Implementing TF-IDF\n",
        "TF-IDF, short for **term frequency–inverse document frequency**, is a metric that reflects how important a word is to a **document** in a collection or **corpus**. When talking about text datasets, the dataset is called a corpus, and each datapoint is a document. A document can be a post, a paragraph, a webpage, whatever is considered the individual unit of text for a given datset. A **term** is each unique token in a document (we previously also referred to this as **type**). \n",
        "\n",
        "For example in a corpus of sentences, a document might be: `\"I went to New York City in New York state.\"` \n",
        "\n",
        "The processed tokens in that document might be: `[went, new_york, city, new_york, state]`.\n",
        "\n",
        "The document would have four unique terms: `[went, new_york, city, state]`.\n",
        "\n",
        "The TF-IDF value increases proportionally to the number of times a word appears in the document (the term frequency, or TF), and is offset by the number of documents in the corpus that contain the word (the inverse document frequency, or IDF). This helps to adjust for the fact that some words appear more frequently in general – such as articles and prepositions.\n",
        "\n",
        "We won't go into much detail about the math behind calculating the TF-IDF (see the D-Lab Text Analysis workshop videos to see more). The key components to remember are:\n",
        "\n",
        "1. There is one TF-IDF score per unique term and unique document.\n",
        "2. A high TF-IDF score suggests that term is descriptive of that document.\n",
        "3. A low TF-IDF score may be because either the term is not frequent in that document, or that it is frequent in many documents in the dataset - either way, it may not be a good descriptor of that document.\n",
        "\n",
        "The intuition is that if a word occurs many times in one post but rarely in the rest of the corpus, it is probably useful for characterizing that post; conversely, if a word occurs frequently in a post but also occurs frequently in the corpus, it is probably less characteristic of that post.\n",
        "\n"
      ],
      "metadata": {
        "id": "E5nEQyPcoPRo"
      }
    },
    {
      "cell_type": "code",
      "source": [
        "from sklearn.feature_extraction.text import CountVectorizer\n",
        "\n",
        "corpus = [\n",
        "  'My cat has paws.',\n",
        "  'Can we let the dog out?',\n",
        "  'Our dog really likes the cat but the cat does not agree.']\n",
        "vectorizer = CountVectorizer()\n",
        "X = vectorizer.fit_transform(corpus)\n",
        "#pd.DataFrame(X.toarray(), columns=vectorizer.get_feature_names_out())\n",
        "# Use this if your scikit-learn is older\n",
        "pd.DataFrame(X.toarray(), columns=vectorizer.get_feature_names())"
      ],
      "metadata": {
        "colab": {
          "base_uri": "https://localhost:8080/",
          "height": 196
        },
        "id": "8rPbPjNuoDo7",
        "outputId": "7a388e7f-e7d2-4efd-bf99-6c5bd1354147"
      },
      "execution_count": 117,
      "outputs": [
        {
          "output_type": "stream",
          "name": "stderr",
          "text": [
            "/usr/local/lib/python3.7/dist-packages/sklearn/utils/deprecation.py:87: FutureWarning: Function get_feature_names is deprecated; get_feature_names is deprecated in 1.0 and will be removed in 1.2. Please use get_feature_names_out instead.\n",
            "  warnings.warn(msg, category=FutureWarning)\n"
          ]
        },
        {
          "output_type": "execute_result",
          "data": {
            "text/plain": [
              "   agree  but  can  cat  does  dog  has  let  likes  my  not  our  out  paws  \\\n",
              "0      0    0    0    1     0    0    1    0      0   1    0    0    0     1   \n",
              "1      0    0    1    0     0    1    0    1      0   0    0    0    1     0   \n",
              "2      1    1    0    2     1    1    0    0      1   0    1    1    0     0   \n",
              "\n",
              "   really  the  we  \n",
              "0       0    0   0  \n",
              "1       0    1   1  \n",
              "2       1    2   0  "
            ],
            "text/html": [
              "\n",
              "  <div id=\"df-b53f38e1-837b-4c02-9346-58b0f658c9d8\">\n",
              "    <div class=\"colab-df-container\">\n",
              "      <div>\n",
              "<style scoped>\n",
              "    .dataframe tbody tr th:only-of-type {\n",
              "        vertical-align: middle;\n",
              "    }\n",
              "\n",
              "    .dataframe tbody tr th {\n",
              "        vertical-align: top;\n",
              "    }\n",
              "\n",
              "    .dataframe thead th {\n",
              "        text-align: right;\n",
              "    }\n",
              "</style>\n",
              "<table border=\"1\" class=\"dataframe\">\n",
              "  <thead>\n",
              "    <tr style=\"text-align: right;\">\n",
              "      <th></th>\n",
              "      <th>agree</th>\n",
              "      <th>but</th>\n",
              "      <th>can</th>\n",
              "      <th>cat</th>\n",
              "      <th>does</th>\n",
              "      <th>dog</th>\n",
              "      <th>has</th>\n",
              "      <th>let</th>\n",
              "      <th>likes</th>\n",
              "      <th>my</th>\n",
              "      <th>not</th>\n",
              "      <th>our</th>\n",
              "      <th>out</th>\n",
              "      <th>paws</th>\n",
              "      <th>really</th>\n",
              "      <th>the</th>\n",
              "      <th>we</th>\n",
              "    </tr>\n",
              "  </thead>\n",
              "  <tbody>\n",
              "    <tr>\n",
              "      <th>0</th>\n",
              "      <td>0</td>\n",
              "      <td>0</td>\n",
              "      <td>0</td>\n",
              "      <td>1</td>\n",
              "      <td>0</td>\n",
              "      <td>0</td>\n",
              "      <td>1</td>\n",
              "      <td>0</td>\n",
              "      <td>0</td>\n",
              "      <td>1</td>\n",
              "      <td>0</td>\n",
              "      <td>0</td>\n",
              "      <td>0</td>\n",
              "      <td>1</td>\n",
              "      <td>0</td>\n",
              "      <td>0</td>\n",
              "      <td>0</td>\n",
              "    </tr>\n",
              "    <tr>\n",
              "      <th>1</th>\n",
              "      <td>0</td>\n",
              "      <td>0</td>\n",
              "      <td>1</td>\n",
              "      <td>0</td>\n",
              "      <td>0</td>\n",
              "      <td>1</td>\n",
              "      <td>0</td>\n",
              "      <td>1</td>\n",
              "      <td>0</td>\n",
              "      <td>0</td>\n",
              "      <td>0</td>\n",
              "      <td>0</td>\n",
              "      <td>1</td>\n",
              "      <td>0</td>\n",
              "      <td>0</td>\n",
              "      <td>1</td>\n",
              "      <td>1</td>\n",
              "    </tr>\n",
              "    <tr>\n",
              "      <th>2</th>\n",
              "      <td>1</td>\n",
              "      <td>1</td>\n",
              "      <td>0</td>\n",
              "      <td>2</td>\n",
              "      <td>1</td>\n",
              "      <td>1</td>\n",
              "      <td>0</td>\n",
              "      <td>0</td>\n",
              "      <td>1</td>\n",
              "      <td>0</td>\n",
              "      <td>1</td>\n",
              "      <td>1</td>\n",
              "      <td>0</td>\n",
              "      <td>0</td>\n",
              "      <td>1</td>\n",
              "      <td>2</td>\n",
              "      <td>0</td>\n",
              "    </tr>\n",
              "  </tbody>\n",
              "</table>\n",
              "</div>\n",
              "      <button class=\"colab-df-convert\" onclick=\"convertToInteractive('df-b53f38e1-837b-4c02-9346-58b0f658c9d8')\"\n",
              "              title=\"Convert this dataframe to an interactive table.\"\n",
              "              style=\"display:none;\">\n",
              "        \n",
              "  <svg xmlns=\"http://www.w3.org/2000/svg\" height=\"24px\"viewBox=\"0 0 24 24\"\n",
              "       width=\"24px\">\n",
              "    <path d=\"M0 0h24v24H0V0z\" fill=\"none\"/>\n",
              "    <path d=\"M18.56 5.44l.94 2.06.94-2.06 2.06-.94-2.06-.94-.94-2.06-.94 2.06-2.06.94zm-11 1L8.5 8.5l.94-2.06 2.06-.94-2.06-.94L8.5 2.5l-.94 2.06-2.06.94zm10 10l.94 2.06.94-2.06 2.06-.94-2.06-.94-.94-2.06-.94 2.06-2.06.94z\"/><path d=\"M17.41 7.96l-1.37-1.37c-.4-.4-.92-.59-1.43-.59-.52 0-1.04.2-1.43.59L10.3 9.45l-7.72 7.72c-.78.78-.78 2.05 0 2.83L4 21.41c.39.39.9.59 1.41.59.51 0 1.02-.2 1.41-.59l7.78-7.78 2.81-2.81c.8-.78.8-2.07 0-2.86zM5.41 20L4 18.59l7.72-7.72 1.47 1.35L5.41 20z\"/>\n",
              "  </svg>\n",
              "      </button>\n",
              "      \n",
              "  <style>\n",
              "    .colab-df-container {\n",
              "      display:flex;\n",
              "      flex-wrap:wrap;\n",
              "      gap: 12px;\n",
              "    }\n",
              "\n",
              "    .colab-df-convert {\n",
              "      background-color: #E8F0FE;\n",
              "      border: none;\n",
              "      border-radius: 50%;\n",
              "      cursor: pointer;\n",
              "      display: none;\n",
              "      fill: #1967D2;\n",
              "      height: 32px;\n",
              "      padding: 0 0 0 0;\n",
              "      width: 32px;\n",
              "    }\n",
              "\n",
              "    .colab-df-convert:hover {\n",
              "      background-color: #E2EBFA;\n",
              "      box-shadow: 0px 1px 2px rgba(60, 64, 67, 0.3), 0px 1px 3px 1px rgba(60, 64, 67, 0.15);\n",
              "      fill: #174EA6;\n",
              "    }\n",
              "\n",
              "    [theme=dark] .colab-df-convert {\n",
              "      background-color: #3B4455;\n",
              "      fill: #D2E3FC;\n",
              "    }\n",
              "\n",
              "    [theme=dark] .colab-df-convert:hover {\n",
              "      background-color: #434B5C;\n",
              "      box-shadow: 0px 1px 3px 1px rgba(0, 0, 0, 0.15);\n",
              "      filter: drop-shadow(0px 1px 2px rgba(0, 0, 0, 0.3));\n",
              "      fill: #FFFFFF;\n",
              "    }\n",
              "  </style>\n",
              "\n",
              "      <script>\n",
              "        const buttonEl =\n",
              "          document.querySelector('#df-b53f38e1-837b-4c02-9346-58b0f658c9d8 button.colab-df-convert');\n",
              "        buttonEl.style.display =\n",
              "          google.colab.kernel.accessAllowed ? 'block' : 'none';\n",
              "\n",
              "        async function convertToInteractive(key) {\n",
              "          const element = document.querySelector('#df-b53f38e1-837b-4c02-9346-58b0f658c9d8');\n",
              "          const dataTable =\n",
              "            await google.colab.kernel.invokeFunction('convertToInteractive',\n",
              "                                                     [key], {});\n",
              "          if (!dataTable) return;\n",
              "\n",
              "          const docLinkHtml = 'Like what you see? Visit the ' +\n",
              "            '<a target=\"_blank\" href=https://colab.research.google.com/notebooks/data_table.ipynb>data table notebook</a>'\n",
              "            + ' to learn more about interactive tables.';\n",
              "          element.innerHTML = '';\n",
              "          dataTable['output_type'] = 'display_data';\n",
              "          await google.colab.output.renderOutput(dataTable, element);\n",
              "          const docLink = document.createElement('div');\n",
              "          docLink.innerHTML = docLinkHtml;\n",
              "          element.appendChild(docLink);\n",
              "        }\n",
              "      </script>\n",
              "    </div>\n",
              "  </div>\n",
              "  "
            ]
          },
          "metadata": {},
          "execution_count": 117
        }
      ]
    },
    {
      "cell_type": "markdown",
      "source": [
        ""
      ],
      "metadata": {
        "id": "VE_Ul-zBoovR"
      }
    },
    {
      "cell_type": "code",
      "source": [
        "from sklearn.feature_extraction.text import TfidfVectorizer\n",
        "\n",
        "# Settings that you use for count vectorizer will go here\n",
        "tfidf_vectorizer = TfidfVectorizer(max_df=0.85,\n",
        "                                   decode_error='ignore',\n",
        "                                   stop_words='english',\n",
        "                                   smooth_idf=True,\n",
        "                                   use_idf=True)\n",
        "\n",
        "# Fit and transform the texts\n",
        "tfidf = tfidf_vectorizer.fit_transform(disability['lemmas'])"
      ],
      "metadata": {
        "id": "gcUW8MiPoU9G"
      },
      "execution_count": 118,
      "outputs": []
    },
    {
      "cell_type": "markdown",
      "source": [
        "Below, we create a new dataset (replacing df) that contains all terms in the datasset and their frequency"
      ],
      "metadata": {
        "id": "Xgvg5tnLqL8Z"
      }
    },
    {
      "cell_type": "code",
      "source": [
        "df = pd.DataFrame(tfidf.todense(), columns=tfidf_vectorizer.get_feature_names())"
      ],
      "metadata": {
        "colab": {
          "base_uri": "https://localhost:8080/"
        },
        "id": "rtlhOS4qo3hm",
        "outputId": "32613058-61e8-457b-8df9-43ee01de1895"
      },
      "execution_count": 119,
      "outputs": [
        {
          "output_type": "stream",
          "name": "stderr",
          "text": [
            "/usr/local/lib/python3.7/dist-packages/sklearn/utils/deprecation.py:87: FutureWarning: Function get_feature_names is deprecated; get_feature_names is deprecated in 1.0 and will be removed in 1.2. Please use get_feature_names_out instead.\n",
            "  warnings.warn(msg, category=FutureWarning)\n"
          ]
        }
      ]
    },
    {
      "cell_type": "markdown",
      "source": [
        "below we can see the terms occoring most frequently in our dataset. Interestingly, \"work\" is in the top 4 (implying that work/being able to work is a major topic in our dataset)."
      ],
      "metadata": {
        "id": "W6IXlK-zpdp6"
      }
    },
    {
      "cell_type": "code",
      "source": [
        "df.sum().sort_values(ascending=False)"
      ],
      "metadata": {
        "colab": {
          "base_uri": "https://localhost:8080/"
        },
        "id": "G79gqb2lo4Hr",
        "outputId": "7fa5228e-ea79-4024-8150-cf7aefa6919a"
      },
      "execution_count": 121,
      "outputs": [
        {
          "output_type": "execute_result",
          "data": {
            "text/plain": [
              "disability     271.544069\n",
              "like           252.885835\n",
              "people         228.515582\n",
              "work           226.955323\n",
              "know           225.224325\n",
              "                  ...    \n",
              "quickest         0.020293\n",
              "subtypes         0.020293\n",
              "ehavioral        0.020293\n",
              "vistaril         0.020293\n",
              "eprocessing      0.020293\n",
              "Length: 32131, dtype: float64"
            ]
          },
          "metadata": {},
          "execution_count": 121
        }
      ]
    },
    {
      "cell_type": "markdown",
      "source": [
        "Below we are creating a matrix of cosine simileriates (which compares all similarities to each other"
      ],
      "metadata": {
        "id": "wvFW05L_qr7_"
      }
    },
    {
      "cell_type": "code",
      "source": [
        "from sklearn.metrics.pairwise import cosine_similarity\n",
        "similarities = cosine_similarity(tfidf)\n",
        "similarities.shape"
      ],
      "metadata": {
        "colab": {
          "base_uri": "https://localhost:8080/"
        },
        "id": "hfCUVrTwo5oL",
        "outputId": "88e475f9-cd2f-4629-ca98-6382030df361"
      },
      "execution_count": 122,
      "outputs": [
        {
          "output_type": "execute_result",
          "data": {
            "text/plain": [
              "(9744, 9744)"
            ]
          },
          "metadata": {},
          "execution_count": 122
        }
      ]
    },
    {
      "cell_type": "markdown",
      "source": [
        "or, we can compare just the first post to every other"
      ],
      "metadata": {
        "id": "3G6Qxbz7qy-v"
      }
    },
    {
      "cell_type": "code",
      "source": [
        "similarities[0]"
      ],
      "metadata": {
        "id": "v-JY1vXHqkya",
        "colab": {
          "base_uri": "https://localhost:8080/"
        },
        "outputId": "84b1f171-6c25-479e-b28a-f0c80b04341a"
      },
      "execution_count": 123,
      "outputs": [
        {
          "output_type": "execute_result",
          "data": {
            "text/plain": [
              "array([1.        , 0.04918632, 0.01617905, ..., 0.01561091, 0.02774659,\n",
              "       0.018517  ])"
            ]
          },
          "metadata": {},
          "execution_count": 123
        }
      ]
    },
    {
      "cell_type": "markdown",
      "source": [
        "We can create a similarity dataframe by identifying the post we want to compare (doc_idx) to the rest of the posts and assign them scores"
      ],
      "metadata": {
        "id": "7CKSKrzqrEBV"
      }
    },
    {
      "cell_type": "code",
      "source": [
        "doc_idx = 25\n",
        "similar_df = pd.DataFrame({\n",
        "    'text': disability['selftext'].values,\n",
        "    'score': similarities[doc_idx]}).sort_values('score', ascending=False)"
      ],
      "metadata": {
        "id": "_CSOcozgqmre"
      },
      "execution_count": 124,
      "outputs": []
    },
    {
      "cell_type": "code",
      "source": [
        "similar_df #there are no more duplicates here"
      ],
      "metadata": {
        "colab": {
          "base_uri": "https://localhost:8080/",
          "height": 419
        },
        "id": "F5biWmgBrOnc",
        "outputId": "961ce4f8-0519-434f-bce1-ca7cb7282e07"
      },
      "execution_count": 125,
      "outputs": [
        {
          "output_type": "execute_result",
          "data": {
            "text/plain": [
              "                                                   text     score\n",
              "25    Posting for someone else. I know someone who h...  1.000000\n",
              "4907  So I am trying to get on Disability due to my ...  0.269877\n",
              "8890  I have Bipolar, PTSD, ADHD and anxiety. I also...  0.217179\n",
              "7872  I got in for a physical exam and psychological...  0.213823\n",
              "3419  I have a relative in a legal + medical cannabi...  0.196115\n",
              "...                                                 ...       ...\n",
              "6912  I'm paraplegic and am thinking about a 10 hour...  0.000000\n",
              "2305  Me and a friend are planning to move to a new ...  0.000000\n",
              "2303  If so, what did you think of it? I am looking ...  0.000000\n",
              "2302        How would you tell? Both could wear uniform  0.000000\n",
              "4872  [Disclaimer: I am not standing up for this wom...  0.000000\n",
              "\n",
              "[9744 rows x 2 columns]"
            ],
            "text/html": [
              "\n",
              "  <div id=\"df-9f6d1db0-1020-431e-aeb1-663dbd5b624c\">\n",
              "    <div class=\"colab-df-container\">\n",
              "      <div>\n",
              "<style scoped>\n",
              "    .dataframe tbody tr th:only-of-type {\n",
              "        vertical-align: middle;\n",
              "    }\n",
              "\n",
              "    .dataframe tbody tr th {\n",
              "        vertical-align: top;\n",
              "    }\n",
              "\n",
              "    .dataframe thead th {\n",
              "        text-align: right;\n",
              "    }\n",
              "</style>\n",
              "<table border=\"1\" class=\"dataframe\">\n",
              "  <thead>\n",
              "    <tr style=\"text-align: right;\">\n",
              "      <th></th>\n",
              "      <th>text</th>\n",
              "      <th>score</th>\n",
              "    </tr>\n",
              "  </thead>\n",
              "  <tbody>\n",
              "    <tr>\n",
              "      <th>25</th>\n",
              "      <td>Posting for someone else. I know someone who h...</td>\n",
              "      <td>1.000000</td>\n",
              "    </tr>\n",
              "    <tr>\n",
              "      <th>4907</th>\n",
              "      <td>So I am trying to get on Disability due to my ...</td>\n",
              "      <td>0.269877</td>\n",
              "    </tr>\n",
              "    <tr>\n",
              "      <th>8890</th>\n",
              "      <td>I have Bipolar, PTSD, ADHD and anxiety. I also...</td>\n",
              "      <td>0.217179</td>\n",
              "    </tr>\n",
              "    <tr>\n",
              "      <th>7872</th>\n",
              "      <td>I got in for a physical exam and psychological...</td>\n",
              "      <td>0.213823</td>\n",
              "    </tr>\n",
              "    <tr>\n",
              "      <th>3419</th>\n",
              "      <td>I have a relative in a legal + medical cannabi...</td>\n",
              "      <td>0.196115</td>\n",
              "    </tr>\n",
              "    <tr>\n",
              "      <th>...</th>\n",
              "      <td>...</td>\n",
              "      <td>...</td>\n",
              "    </tr>\n",
              "    <tr>\n",
              "      <th>6912</th>\n",
              "      <td>I'm paraplegic and am thinking about a 10 hour...</td>\n",
              "      <td>0.000000</td>\n",
              "    </tr>\n",
              "    <tr>\n",
              "      <th>2305</th>\n",
              "      <td>Me and a friend are planning to move to a new ...</td>\n",
              "      <td>0.000000</td>\n",
              "    </tr>\n",
              "    <tr>\n",
              "      <th>2303</th>\n",
              "      <td>If so, what did you think of it? I am looking ...</td>\n",
              "      <td>0.000000</td>\n",
              "    </tr>\n",
              "    <tr>\n",
              "      <th>2302</th>\n",
              "      <td>How would you tell? Both could wear uniform</td>\n",
              "      <td>0.000000</td>\n",
              "    </tr>\n",
              "    <tr>\n",
              "      <th>4872</th>\n",
              "      <td>[Disclaimer: I am not standing up for this wom...</td>\n",
              "      <td>0.000000</td>\n",
              "    </tr>\n",
              "  </tbody>\n",
              "</table>\n",
              "<p>9744 rows × 2 columns</p>\n",
              "</div>\n",
              "      <button class=\"colab-df-convert\" onclick=\"convertToInteractive('df-9f6d1db0-1020-431e-aeb1-663dbd5b624c')\"\n",
              "              title=\"Convert this dataframe to an interactive table.\"\n",
              "              style=\"display:none;\">\n",
              "        \n",
              "  <svg xmlns=\"http://www.w3.org/2000/svg\" height=\"24px\"viewBox=\"0 0 24 24\"\n",
              "       width=\"24px\">\n",
              "    <path d=\"M0 0h24v24H0V0z\" fill=\"none\"/>\n",
              "    <path d=\"M18.56 5.44l.94 2.06.94-2.06 2.06-.94-2.06-.94-.94-2.06-.94 2.06-2.06.94zm-11 1L8.5 8.5l.94-2.06 2.06-.94-2.06-.94L8.5 2.5l-.94 2.06-2.06.94zm10 10l.94 2.06.94-2.06 2.06-.94-2.06-.94-.94-2.06-.94 2.06-2.06.94z\"/><path d=\"M17.41 7.96l-1.37-1.37c-.4-.4-.92-.59-1.43-.59-.52 0-1.04.2-1.43.59L10.3 9.45l-7.72 7.72c-.78.78-.78 2.05 0 2.83L4 21.41c.39.39.9.59 1.41.59.51 0 1.02-.2 1.41-.59l7.78-7.78 2.81-2.81c.8-.78.8-2.07 0-2.86zM5.41 20L4 18.59l7.72-7.72 1.47 1.35L5.41 20z\"/>\n",
              "  </svg>\n",
              "      </button>\n",
              "      \n",
              "  <style>\n",
              "    .colab-df-container {\n",
              "      display:flex;\n",
              "      flex-wrap:wrap;\n",
              "      gap: 12px;\n",
              "    }\n",
              "\n",
              "    .colab-df-convert {\n",
              "      background-color: #E8F0FE;\n",
              "      border: none;\n",
              "      border-radius: 50%;\n",
              "      cursor: pointer;\n",
              "      display: none;\n",
              "      fill: #1967D2;\n",
              "      height: 32px;\n",
              "      padding: 0 0 0 0;\n",
              "      width: 32px;\n",
              "    }\n",
              "\n",
              "    .colab-df-convert:hover {\n",
              "      background-color: #E2EBFA;\n",
              "      box-shadow: 0px 1px 2px rgba(60, 64, 67, 0.3), 0px 1px 3px 1px rgba(60, 64, 67, 0.15);\n",
              "      fill: #174EA6;\n",
              "    }\n",
              "\n",
              "    [theme=dark] .colab-df-convert {\n",
              "      background-color: #3B4455;\n",
              "      fill: #D2E3FC;\n",
              "    }\n",
              "\n",
              "    [theme=dark] .colab-df-convert:hover {\n",
              "      background-color: #434B5C;\n",
              "      box-shadow: 0px 1px 3px 1px rgba(0, 0, 0, 0.15);\n",
              "      filter: drop-shadow(0px 1px 2px rgba(0, 0, 0, 0.3));\n",
              "      fill: #FFFFFF;\n",
              "    }\n",
              "  </style>\n",
              "\n",
              "      <script>\n",
              "        const buttonEl =\n",
              "          document.querySelector('#df-9f6d1db0-1020-431e-aeb1-663dbd5b624c button.colab-df-convert');\n",
              "        buttonEl.style.display =\n",
              "          google.colab.kernel.accessAllowed ? 'block' : 'none';\n",
              "\n",
              "        async function convertToInteractive(key) {\n",
              "          const element = document.querySelector('#df-9f6d1db0-1020-431e-aeb1-663dbd5b624c');\n",
              "          const dataTable =\n",
              "            await google.colab.kernel.invokeFunction('convertToInteractive',\n",
              "                                                     [key], {});\n",
              "          if (!dataTable) return;\n",
              "\n",
              "          const docLinkHtml = 'Like what you see? Visit the ' +\n",
              "            '<a target=\"_blank\" href=https://colab.research.google.com/notebooks/data_table.ipynb>data table notebook</a>'\n",
              "            + ' to learn more about interactive tables.';\n",
              "          element.innerHTML = '';\n",
              "          dataTable['output_type'] = 'display_data';\n",
              "          await google.colab.output.renderOutput(dataTable, element);\n",
              "          const docLink = document.createElement('div');\n",
              "          docLink.innerHTML = docLinkHtml;\n",
              "          element.appendChild(docLink);\n",
              "        }\n",
              "      </script>\n",
              "    </div>\n",
              "  </div>\n",
              "  "
            ]
          },
          "metadata": {},
          "execution_count": 125
        }
      ]
    },
    {
      "cell_type": "code",
      "source": [
        "similar_df_0 = pd.DataFrame({\n",
        "    'text': disability['selftext'].values,\n",
        "    'score': similarities[0]}).sort_values('score', ascending=False)\n",
        "similar_df_0 #no more duplicates found"
      ],
      "metadata": {
        "colab": {
          "base_uri": "https://localhost:8080/",
          "height": 419
        },
        "id": "ZduRiojHrQiD",
        "outputId": "81793b04-4c82-48ab-d0b0-63467f734cd0"
      },
      "execution_count": 126,
      "outputs": [
        {
          "output_type": "execute_result",
          "data": {
            "text/plain": [
              "                                                   text     score\n",
              "0     Like, if I'm crying because I'm in chronic pai...  1.000000\n",
              "4994  I'm currently awaiting approval of disability ...  0.258638\n",
              "3547  Hi,\\n\\nMy mom has been living with a disabilit...  0.162526\n",
              "3209  I am mentally and physically disabled, but I w...  0.152943\n",
              "9662  10 ways you can support the psychically disabl...  0.152149\n",
              "...                                                 ...       ...\n",
              "7566  My husband is an HD/AK amputee beginning to bu...  0.000000\n",
              "7565  I'm looking for suggestions for a reliable and...  0.000000\n",
              "3271  I bought a Mac Book yesterday and realized it'...  0.000000\n",
              "7552  About 2 years ago I was a 400 pound bilateral ...  0.000000\n",
              "5453  I’m so confused and can’t find anything on adu...  0.000000\n",
              "\n",
              "[9744 rows x 2 columns]"
            ],
            "text/html": [
              "\n",
              "  <div id=\"df-c48f24eb-9591-4d8f-85de-1e28389bfdad\">\n",
              "    <div class=\"colab-df-container\">\n",
              "      <div>\n",
              "<style scoped>\n",
              "    .dataframe tbody tr th:only-of-type {\n",
              "        vertical-align: middle;\n",
              "    }\n",
              "\n",
              "    .dataframe tbody tr th {\n",
              "        vertical-align: top;\n",
              "    }\n",
              "\n",
              "    .dataframe thead th {\n",
              "        text-align: right;\n",
              "    }\n",
              "</style>\n",
              "<table border=\"1\" class=\"dataframe\">\n",
              "  <thead>\n",
              "    <tr style=\"text-align: right;\">\n",
              "      <th></th>\n",
              "      <th>text</th>\n",
              "      <th>score</th>\n",
              "    </tr>\n",
              "  </thead>\n",
              "  <tbody>\n",
              "    <tr>\n",
              "      <th>0</th>\n",
              "      <td>Like, if I'm crying because I'm in chronic pai...</td>\n",
              "      <td>1.000000</td>\n",
              "    </tr>\n",
              "    <tr>\n",
              "      <th>4994</th>\n",
              "      <td>I'm currently awaiting approval of disability ...</td>\n",
              "      <td>0.258638</td>\n",
              "    </tr>\n",
              "    <tr>\n",
              "      <th>3547</th>\n",
              "      <td>Hi,\\n\\nMy mom has been living with a disabilit...</td>\n",
              "      <td>0.162526</td>\n",
              "    </tr>\n",
              "    <tr>\n",
              "      <th>3209</th>\n",
              "      <td>I am mentally and physically disabled, but I w...</td>\n",
              "      <td>0.152943</td>\n",
              "    </tr>\n",
              "    <tr>\n",
              "      <th>9662</th>\n",
              "      <td>10 ways you can support the psychically disabl...</td>\n",
              "      <td>0.152149</td>\n",
              "    </tr>\n",
              "    <tr>\n",
              "      <th>...</th>\n",
              "      <td>...</td>\n",
              "      <td>...</td>\n",
              "    </tr>\n",
              "    <tr>\n",
              "      <th>7566</th>\n",
              "      <td>My husband is an HD/AK amputee beginning to bu...</td>\n",
              "      <td>0.000000</td>\n",
              "    </tr>\n",
              "    <tr>\n",
              "      <th>7565</th>\n",
              "      <td>I'm looking for suggestions for a reliable and...</td>\n",
              "      <td>0.000000</td>\n",
              "    </tr>\n",
              "    <tr>\n",
              "      <th>3271</th>\n",
              "      <td>I bought a Mac Book yesterday and realized it'...</td>\n",
              "      <td>0.000000</td>\n",
              "    </tr>\n",
              "    <tr>\n",
              "      <th>7552</th>\n",
              "      <td>About 2 years ago I was a 400 pound bilateral ...</td>\n",
              "      <td>0.000000</td>\n",
              "    </tr>\n",
              "    <tr>\n",
              "      <th>5453</th>\n",
              "      <td>I’m so confused and can’t find anything on adu...</td>\n",
              "      <td>0.000000</td>\n",
              "    </tr>\n",
              "  </tbody>\n",
              "</table>\n",
              "<p>9744 rows × 2 columns</p>\n",
              "</div>\n",
              "      <button class=\"colab-df-convert\" onclick=\"convertToInteractive('df-c48f24eb-9591-4d8f-85de-1e28389bfdad')\"\n",
              "              title=\"Convert this dataframe to an interactive table.\"\n",
              "              style=\"display:none;\">\n",
              "        \n",
              "  <svg xmlns=\"http://www.w3.org/2000/svg\" height=\"24px\"viewBox=\"0 0 24 24\"\n",
              "       width=\"24px\">\n",
              "    <path d=\"M0 0h24v24H0V0z\" fill=\"none\"/>\n",
              "    <path d=\"M18.56 5.44l.94 2.06.94-2.06 2.06-.94-2.06-.94-.94-2.06-.94 2.06-2.06.94zm-11 1L8.5 8.5l.94-2.06 2.06-.94-2.06-.94L8.5 2.5l-.94 2.06-2.06.94zm10 10l.94 2.06.94-2.06 2.06-.94-2.06-.94-.94-2.06-.94 2.06-2.06.94z\"/><path d=\"M17.41 7.96l-1.37-1.37c-.4-.4-.92-.59-1.43-.59-.52 0-1.04.2-1.43.59L10.3 9.45l-7.72 7.72c-.78.78-.78 2.05 0 2.83L4 21.41c.39.39.9.59 1.41.59.51 0 1.02-.2 1.41-.59l7.78-7.78 2.81-2.81c.8-.78.8-2.07 0-2.86zM5.41 20L4 18.59l7.72-7.72 1.47 1.35L5.41 20z\"/>\n",
              "  </svg>\n",
              "      </button>\n",
              "      \n",
              "  <style>\n",
              "    .colab-df-container {\n",
              "      display:flex;\n",
              "      flex-wrap:wrap;\n",
              "      gap: 12px;\n",
              "    }\n",
              "\n",
              "    .colab-df-convert {\n",
              "      background-color: #E8F0FE;\n",
              "      border: none;\n",
              "      border-radius: 50%;\n",
              "      cursor: pointer;\n",
              "      display: none;\n",
              "      fill: #1967D2;\n",
              "      height: 32px;\n",
              "      padding: 0 0 0 0;\n",
              "      width: 32px;\n",
              "    }\n",
              "\n",
              "    .colab-df-convert:hover {\n",
              "      background-color: #E2EBFA;\n",
              "      box-shadow: 0px 1px 2px rgba(60, 64, 67, 0.3), 0px 1px 3px 1px rgba(60, 64, 67, 0.15);\n",
              "      fill: #174EA6;\n",
              "    }\n",
              "\n",
              "    [theme=dark] .colab-df-convert {\n",
              "      background-color: #3B4455;\n",
              "      fill: #D2E3FC;\n",
              "    }\n",
              "\n",
              "    [theme=dark] .colab-df-convert:hover {\n",
              "      background-color: #434B5C;\n",
              "      box-shadow: 0px 1px 3px 1px rgba(0, 0, 0, 0.15);\n",
              "      filter: drop-shadow(0px 1px 2px rgba(0, 0, 0, 0.3));\n",
              "      fill: #FFFFFF;\n",
              "    }\n",
              "  </style>\n",
              "\n",
              "      <script>\n",
              "        const buttonEl =\n",
              "          document.querySelector('#df-c48f24eb-9591-4d8f-85de-1e28389bfdad button.colab-df-convert');\n",
              "        buttonEl.style.display =\n",
              "          google.colab.kernel.accessAllowed ? 'block' : 'none';\n",
              "\n",
              "        async function convertToInteractive(key) {\n",
              "          const element = document.querySelector('#df-c48f24eb-9591-4d8f-85de-1e28389bfdad');\n",
              "          const dataTable =\n",
              "            await google.colab.kernel.invokeFunction('convertToInteractive',\n",
              "                                                     [key], {});\n",
              "          if (!dataTable) return;\n",
              "\n",
              "          const docLinkHtml = 'Like what you see? Visit the ' +\n",
              "            '<a target=\"_blank\" href=https://colab.research.google.com/notebooks/data_table.ipynb>data table notebook</a>'\n",
              "            + ' to learn more about interactive tables.';\n",
              "          element.innerHTML = '';\n",
              "          dataTable['output_type'] = 'display_data';\n",
              "          await google.colab.output.renderOutput(dataTable, element);\n",
              "          const docLink = document.createElement('div');\n",
              "          docLink.innerHTML = docLinkHtml;\n",
              "          element.appendChild(docLink);\n",
              "        }\n",
              "      </script>\n",
              "    </div>\n",
              "  </div>\n",
              "  "
            ]
          },
          "metadata": {},
          "execution_count": 126
        }
      ]
    },
    {
      "cell_type": "markdown",
      "source": [
        "We introduce topic modeling. Topic modeling aims to use statistical models to discover abstract \"topics\" that occur in a collection of documents. It is frequently used in NLP to aid the discovery of hidden semantic structures in a collection of texts.\n",
        "\n",
        "Before you start, please read the first three sections of [this post](https://tomvannuenen.medium.com/analyzing-reddit-communities-with-python-part-5-topic-modeling-a5b0d119add) for an explainer of how topic modeling (and LDA, which is just one form of topic modeling) works.\n",
        "\n",
        "Specifically, we'll implement Latent Dirichlet Allocation (LDA), which is a classic method for topic modeling. Specifically, LDA is a \"mixture model\", meaning every document is assumed to be \"about\" various topics, and we try to estimate the proportion each topic contributes to a document."
      ],
      "metadata": {
        "id": "Nr-Al4TOI9TG"
      }
    },
    {
      "cell_type": "code",
      "source": [
        "import matplotlib.pyplot as plt\n",
        "%matplotlib inline"
      ],
      "metadata": {
        "id": "qDLso5NPreg5"
      },
      "execution_count": 128,
      "outputs": []
    },
    {
      "cell_type": "markdown",
      "source": [
        "max features using only the top 5000 TF-IDF values from our dataset (which is a large chunk of it)."
      ],
      "metadata": {
        "id": "nUGmJHbaLTlU"
      }
    },
    {
      "cell_type": "code",
      "source": [
        "from sklearn.feature_extraction.text import TfidfVectorizer\n",
        "\n",
        "X = disability['lemmas']\n",
        "# Vectorize, using only the top 5000 TF-IDF values\n",
        "vectorizer = TfidfVectorizer(max_features=5000)\n",
        "\n",
        "tfidf =  vectorizer.fit_transform(X)"
      ],
      "metadata": {
        "id": "MydASox6K3Ky"
      },
      "execution_count": 129,
      "outputs": []
    },
    {
      "cell_type": "markdown",
      "source": [
        "Computing 5 topics"
      ],
      "metadata": {
        "id": "jwcPYlUvLNWk"
      }
    },
    {
      "cell_type": "code",
      "source": [
        "from sklearn.decomposition import LatentDirichletAllocation\n",
        "lda = LatentDirichletAllocation(n_components=2, max_iter=20, random_state=0)\n",
        "lda = lda.fit(tfidf)"
      ],
      "metadata": {
        "id": "OiiWakuOLFYa"
      },
      "execution_count": 133,
      "outputs": []
    },
    {
      "cell_type": "markdown",
      "source": [
        "run a plot to display what the machine learning algo captured as the 5 distinct topics."
      ],
      "metadata": {
        "id": "uuTMQNjfLhnm"
      }
    },
    {
      "cell_type": "code",
      "source": [
        "def plot_top_words(model, feature_names, n_top_words=10, n_row=1, n_col=5, normalize=False):\n",
        "    \"\"\"Plot the top words for an LDA model.\n",
        "    \n",
        "    Parameters\n",
        "    ----------\n",
        "    model : LatentDirichletAllocation object\n",
        "        The trained LDA model.\n",
        "    feature_names : list\n",
        "        A list of strings containing the feature names.\n",
        "    n_top_words : int\n",
        "        The number of top words to show for each topic.\n",
        "    n_row : int\n",
        "        The number of rows to use in the subplots.\n",
        "    n_col : int\n",
        "        The number of columns to use in the subplots.\n",
        "    normalize : bool\n",
        "        If True, normalizes the topic model weights.\n",
        "    \"\"\"\n",
        "    fig, axes = plt.subplots(n_row, n_col, figsize=(3 * n_col, 5 * n_row), sharex=True)\n",
        "    axes = axes.flatten()\n",
        "    components = model.components_\n",
        "    if normalize:\n",
        "        components = components / components.sum(axis=1)[:, np.newaxis]\n",
        "\n",
        "    for topic_idx, topic in enumerate(components):\n",
        "        top_features_ind = topic.argsort()[: -n_top_words - 1 : -1]\n",
        "        top_features = [feature_names[i] for i in top_features_ind]\n",
        "        weights = topic[top_features_ind]\n",
        "\n",
        "        ax = axes[topic_idx]\n",
        "        ax.barh(top_features, weights, height=0.7)\n",
        "        ax.set_title(f\"Topic {topic_idx +1}\", fontdict={\"fontsize\": 20})\n",
        "        ax.invert_yaxis()\n",
        "        ax.tick_params(axis=\"both\", which=\"major\", labelsize=20)\n",
        "\n",
        "        for i in \"top right left\".split():\n",
        "            ax.spines[i].set_visible(False)\n",
        "\n",
        "    plt.subplots_adjust(top=0.90, bottom=0.05, wspace=0.90, hspace=0.3)\n",
        "\n",
        "    return fig, axes"
      ],
      "metadata": {
        "id": "KjUVuFQILfpb"
      },
      "execution_count": 134,
      "outputs": []
    },
    {
      "cell_type": "markdown",
      "source": [
        "display the plot. We can see here that we're getting a lot of "
      ],
      "metadata": {
        "id": "lShCBD0cLoxp"
      }
    },
    {
      "cell_type": "code",
      "source": [
        "token_names = vectorizer.get_feature_names()\n",
        "plot_top_words(lda, token_names, 20)\n",
        "plt.show() # we can see here that there are a lot of lemmas that aren't useful (urls, reddit)"
      ],
      "metadata": {
        "colab": {
          "base_uri": "https://localhost:8080/",
          "height": 440
        },
        "id": "dxK5sAruLpvG",
        "outputId": "a903aabb-70e6-4d75-f08b-16b0b7be07d1"
      },
      "execution_count": 135,
      "outputs": [
        {
          "output_type": "stream",
          "name": "stderr",
          "text": [
            "/usr/local/lib/python3.7/dist-packages/sklearn/utils/deprecation.py:87: FutureWarning: Function get_feature_names is deprecated; get_feature_names is deprecated in 1.0 and will be removed in 1.2. Please use get_feature_names_out instead.\n",
            "  warnings.warn(msg, category=FutureWarning)\n"
          ]
        },
        {
          "output_type": "display_data",
          "data": {
            "text/plain": [
              "<Figure size 1080x360 with 5 Axes>"
            ],
            "image/png": "[encoded data removed]"
          },
          "metadata": {
            "needs_background": "light"
          }
        }
      ]
    },
    {
      "cell_type": "code",
      "source": [
        "topic_distributions = lda.transform(tfidf)"
      ],
      "metadata": {
        "id": "bTb2nzNtOjs8"
      },
      "execution_count": 136,
      "outputs": []
    },
    {
      "cell_type": "code",
      "source": [
        "print(tfidf.shape)\n",
        "print(topic_distributions.shape)\n",
        "print(topic_distributions)"
      ],
      "metadata": {
        "colab": {
          "base_uri": "https://localhost:8080/"
        },
        "id": "eHPpk6RiOl47",
        "outputId": "8182a035-07d2-47a4-d8c8-29a095b80ed9"
      },
      "execution_count": 137,
      "outputs": [
        {
          "output_type": "stream",
          "name": "stdout",
          "text": [
            "(9744, 5000)\n",
            "(9744, 2)\n",
            "[[0.83372826 0.16627174]\n",
            " [0.41817218 0.58182782]\n",
            " [0.15571053 0.84428947]\n",
            " ...\n",
            " [0.79945682 0.20054318]\n",
            " [0.82040005 0.17959995]\n",
            " [0.47666348 0.52333652]]\n"
          ]
        }
      ]
    }
  ]
}