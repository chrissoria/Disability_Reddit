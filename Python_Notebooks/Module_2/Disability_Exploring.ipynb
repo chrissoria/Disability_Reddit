{
 "cells": [
  {
   "cell_type": "code",
   "execution_count": 1,
   "id": "b17555b3-89e0-4ab6-ad0c-7dc40a139f08",
   "metadata": {},
   "outputs": [],
   "source": [
    "import os\n",
    "# We include two ../ because we want to go two levels up in the file structure\n",
    "os.chdir('../../data')"
   ]
  },
  {
   "cell_type": "code",
   "execution_count": 2,
   "id": "765dbc72-3768-4d24-8ea2-4fc5a2567dbf",
   "metadata": {},
   "outputs": [
    {
     "data": {
      "text/plain": [
       "'/Users/chrissoria/Documents/Programming /Data-Science-Social-Justice-main/data'"
      ]
     },
     "execution_count": 2,
     "metadata": {},
     "output_type": "execute_result"
    }
   ],
   "source": [
    "%pwd"
   ]
  },
  {
   "cell_type": "code",
   "execution_count": 3,
   "id": "2b26d840-8861-4a9d-aeb5-f2b428a5d4aa",
   "metadata": {},
   "outputs": [],
   "source": [
    "import pandas as pd\n",
    "df = pd.read_csv('disability_sub_top_sm_lemmas.csv')"
   ]
  },
  {
   "cell_type": "code",
   "execution_count": 4,
   "id": "a1150813-4a39-44e6-8cdd-66fb5f470048",
   "metadata": {},
   "outputs": [
    {
     "name": "stdout",
     "output_type": "stream",
     "text": [
      "df\t os\t pd\t \n"
     ]
    }
   ],
   "source": [
    "%who"
   ]
  },
  {
   "cell_type": "code",
   "execution_count": 5,
   "id": "5841ea19-dc8c-44c8-a2dc-6d725332fae6",
   "metadata": {},
   "outputs": [
    {
     "data": {
      "text/html": [
       "<div>\n",
       "<style scoped>\n",
       "    .dataframe tbody tr th:only-of-type {\n",
       "        vertical-align: middle;\n",
       "    }\n",
       "\n",
       "    .dataframe tbody tr th {\n",
       "        vertical-align: top;\n",
       "    }\n",
       "\n",
       "    .dataframe thead th {\n",
       "        text-align: right;\n",
       "    }\n",
       "</style>\n",
       "<table border=\"1\" class=\"dataframe\">\n",
       "  <thead>\n",
       "    <tr style=\"text-align: right;\">\n",
       "      <th></th>\n",
       "      <th>index</th>\n",
       "      <th>Unnamed: 0</th>\n",
       "      <th>id</th>\n",
       "      <th>created_utc</th>\n",
       "      <th>link_flair_text</th>\n",
       "      <th>author_flair_text</th>\n",
       "      <th>author</th>\n",
       "      <th>over_18</th>\n",
       "      <th>title</th>\n",
       "      <th>is_self</th>\n",
       "      <th>selftext</th>\n",
       "      <th>score</th>\n",
       "      <th>upvote_ratio</th>\n",
       "      <th>distinguished</th>\n",
       "      <th>num_comments</th>\n",
       "      <th>lemmas</th>\n",
       "    </tr>\n",
       "  </thead>\n",
       "  <tbody>\n",
       "    <tr>\n",
       "      <th>9490</th>\n",
       "      <td>18284</td>\n",
       "      <td>18284</td>\n",
       "      <td>btda50</td>\n",
       "      <td>1558904951</td>\n",
       "      <td>NaN</td>\n",
       "      <td>NaN</td>\n",
       "      <td>onegalnamedsal</td>\n",
       "      <td>False</td>\n",
       "      <td>Just because my life is on hardcore mode doesn...</td>\n",
       "      <td>True</td>\n",
       "      <td>When I meet new people, quite often the first ...</td>\n",
       "      <td>232</td>\n",
       "      <td>NaN</td>\n",
       "      <td>NaN</td>\n",
       "      <td>25</td>\n",
       "      <td>['meet', 'new', 'people', 'thing', 'spend', 's...</td>\n",
       "    </tr>\n",
       "    <tr>\n",
       "      <th>9394</th>\n",
       "      <td>18089</td>\n",
       "      <td>18089</td>\n",
       "      <td>bfq7v6</td>\n",
       "      <td>1555862031</td>\n",
       "      <td>NaN</td>\n",
       "      <td>NaN</td>\n",
       "      <td>Disabledsnarker</td>\n",
       "      <td>False</td>\n",
       "      <td>Employers are more flexible for chain smokers ...</td>\n",
       "      <td>True</td>\n",
       "      <td>It's bullshit that employers accommodate smoke...</td>\n",
       "      <td>142</td>\n",
       "      <td>NaN</td>\n",
       "      <td>NaN</td>\n",
       "      <td>14</td>\n",
       "      <td>['bullshit', 'employers', 'accommodate', 'smok...</td>\n",
       "    </tr>\n",
       "    <tr>\n",
       "      <th>11279</th>\n",
       "      <td>22079</td>\n",
       "      <td>22079</td>\n",
       "      <td>8htanx</td>\n",
       "      <td>1525746822</td>\n",
       "      <td>Rant</td>\n",
       "      <td>NaN</td>\n",
       "      <td>knockoffpainting</td>\n",
       "      <td>False</td>\n",
       "      <td>An able-bodied person corrected the term I use...</td>\n",
       "      <td>True</td>\n",
       "      <td>I referred to myself as “disabled”, and she co...</td>\n",
       "      <td>135</td>\n",
       "      <td>NaN</td>\n",
       "      <td>NaN</td>\n",
       "      <td>65</td>\n",
       "      <td>['referred', 'disabled', 'corrected', 'saying'...</td>\n",
       "    </tr>\n",
       "  </tbody>\n",
       "</table>\n",
       "</div>"
      ],
      "text/plain": [
       "       index  Unnamed: 0      id  created_utc link_flair_text  \\\n",
       "9490   18284       18284  btda50   1558904951             NaN   \n",
       "9394   18089       18089  bfq7v6   1555862031             NaN   \n",
       "11279  22079       22079  8htanx   1525746822            Rant   \n",
       "\n",
       "      author_flair_text            author  over_18  \\\n",
       "9490                NaN    onegalnamedsal    False   \n",
       "9394                NaN   Disabledsnarker    False   \n",
       "11279               NaN  knockoffpainting    False   \n",
       "\n",
       "                                                   title  is_self  \\\n",
       "9490   Just because my life is on hardcore mode doesn...     True   \n",
       "9394   Employers are more flexible for chain smokers ...     True   \n",
       "11279  An able-bodied person corrected the term I use...     True   \n",
       "\n",
       "                                                selftext  score  upvote_ratio  \\\n",
       "9490   When I meet new people, quite often the first ...    232           NaN   \n",
       "9394   It's bullshit that employers accommodate smoke...    142           NaN   \n",
       "11279  I referred to myself as “disabled”, and she co...    135           NaN   \n",
       "\n",
       "      distinguished  num_comments  \\\n",
       "9490            NaN            25   \n",
       "9394            NaN            14   \n",
       "11279           NaN            65   \n",
       "\n",
       "                                                  lemmas  \n",
       "9490   ['meet', 'new', 'people', 'thing', 'spend', 's...  \n",
       "9394   ['bullshit', 'employers', 'accommodate', 'smok...  \n",
       "11279  ['referred', 'disabled', 'corrected', 'saying'...  "
      ]
     },
     "execution_count": 5,
     "metadata": {},
     "output_type": "execute_result"
    }
   ],
   "source": [
    "df.sort_values(by=['score'], ascending=False)[:3]"
   ]
  },
  {
   "cell_type": "code",
   "execution_count": 6,
   "id": "e7161fb5-909d-4eb9-bcfe-8b69134401ef",
   "metadata": {},
   "outputs": [
    {
     "data": {
      "text/plain": [
       "3695"
      ]
     },
     "execution_count": 6,
     "metadata": {},
     "output_type": "execute_result"
    }
   ],
   "source": [
    "df_top = df.loc[df['score'] >= 5, :]\n",
    "len(df_top)"
   ]
  },
  {
   "cell_type": "code",
   "execution_count": 7,
   "id": "ec68c12a-7371-4e86-8423-79fce14b4216",
   "metadata": {},
   "outputs": [
    {
     "data": {
      "text/plain": [
       "Question             4637\n",
       "Rant                 1117\n",
       "Concern               667\n",
       "Discussion            494\n",
       "Other                 362\n",
       "Article / News        110\n",
       "Video                  47\n",
       "Survey                 33\n",
       "Blog                   28\n",
       "Intimacy               22\n",
       "Image                  12\n",
       "MOD POST                2\n",
       "Announcement            2\n",
       "Survey - Approved       1\n",
       "Removed: Rule 4         1\n",
       "VERIFIED                1\n",
       "Mod Post                1\n",
       "Name: link_flair_text, dtype: int64"
      ]
     },
     "execution_count": 7,
     "metadata": {},
     "output_type": "execute_result"
    }
   ],
   "source": [
    "df.link_flair_text.value_counts() #I might want to focus in on the Rant flair"
   ]
  },
  {
   "cell_type": "code",
   "execution_count": 8,
   "id": "373d1474-779b-4c22-83e5-4006c6d38b4c",
   "metadata": {},
   "outputs": [
    {
     "data": {
      "text/plain": [
       "MS & Fibro                                                      67\n",
       "Cerebral Palsy                                                  50\n",
       "chronic pain, visual impairment, CPTSD, SPD                     30\n",
       "You based all your holidays off of pagan holidays!              28\n",
       "dystonia and autoimmune disease                                 26\n",
       "                                                                ..\n",
       "Spouse--LGMD                                                     1\n",
       "T1 Diabetes/Pelvic pain from neuropathy                          1\n",
       "Tourettes                                                        1\n",
       "Former President of Student DisAbility Union at UC Riverside     1\n",
       "Educate Me                                                       1\n",
       "Name: author_flair_text, Length: 382, dtype: int64"
      ]
     },
     "execution_count": 8,
     "metadata": {},
     "output_type": "execute_result"
    }
   ],
   "source": [
    "df.author_flair_text.value_counts()"
   ]
  },
  {
   "cell_type": "code",
   "execution_count": 9,
   "id": "3fbd9ba6-0ca9-4a18-9d72-4e4aa74437c1",
   "metadata": {},
   "outputs": [],
   "source": [
    "def type_token_ratio(tokens):\n",
    "    \"\"\"Calculates type-token ratio on tokens.\"\"\"\n",
    "    numTokens = len(tokens)\n",
    "    numTypes = len(set(tokens))\n",
    "    return numTypes / numTokens"
   ]
  },
  {
   "cell_type": "code",
   "execution_count": 10,
   "id": "bb06d8d9-b97f-40ad-a702-3860ba83ef17",
   "metadata": {},
   "outputs": [
    {
     "name": "stdout",
     "output_type": "stream",
     "text": [
      "Text:\n",
      " ['like', 'crying', 'chronic', 'pain', 'weak', 'happy\"if', 'happy', 'smile', 'means', 'possibly', 'painthe', 'fucked', 'thing', 'definitely', 'pain', 'happy', 'meet', 'nasty', 'person', 'thought', 'like', 'turns', 'horrible', 'ableist', 'vomit', 'people', 'know', 'know', 'person', 'legitimately', 'pain', 'smiling', 'people', 'vouched', 'neighbors', 'friends', 'kind', 'people', 'genuinely', 'want', 'meet', 'suddenly', 'turned', 'complete', 'bigots', 'like', 'coming', 'find', 'dear', 'member', 'family', 'like', 'dangerously', 'racist', 'uncle', 'women', 'people', 'think', 'worst', 'things', 'disabled', 'debatably', 'worst', 'thing', 'faith', 'lose', 'life', 'humanity', 'like', 'okay', 'tiny', 'spinning', 'rock', 'edge', 'centerless', 'void', 'realize', 'little', 'company', 'fellows', 'care', 'mean', \"that's\", 'worse', 'definitely', 'worse']\n",
      "TTR: 0.8255813953488372 \n",
      "\n",
      "Text:\n",
      " ['regular', 'bills', 'live', 'relatives', 'pay', 'small', 'things', 'food', 'clothes', 'transportation', 'months', 'continue', 'receive', 'monthly', 'beginning', 'year', 'able', 'save', 'bit', 'feel', 'guilty', 'spending', 'buy', 'needs', 'wants', 'usually', '€', 'rarely', '50€.', 'deal', 'expensive', 'stuff', 'immediate', 'needs', 'like', 'yeah', 'afford', 'savings', 'etc', 'money', 'right', 'work', 'hard', 'money', 'allowed', 'spend', 'kind', 'stuff', 'feel', 'like', 'accurate', 'vision', 'needs', 'reasonable', 'wants', 'case', 'having', 'job', 'feel', 'like', 'don’t', 'can’t', 'deserve', 'buy', 'deal', 'bought', 'expensive', 'phone', 'laptop', 'expensive', 'clothing', 'high', 'priced', 'events', 'travel', 'trips', 'etc', 'income', 'disability?since', 'young', 'absolutely', 'guarantee', 'able', 'work', 'someday', 'course', 'need', 'save', 'order', 'survive', 'stop', 'living', 'supported', 'relatives', 'know', 'okay', 'spend', 'help', 'goes', 'bit', 'extra', 'money', 'fun', 'sure', 'spend', 'ahead', 'simultaneously', 'going', 'careful', 'spend', 'time', 'easy', 'work', 'earn', 'money', 'easier', 'want', 'justify', 'feel', 'stuck', 'undeserving', 'super', 'thankful', 'allowed', 'money', 'feel', 'like', 'bandit', 'like', 'government', 'realize', 'pay', 'someday', 'money']\n",
      "TTR: 0.753731343283582 \n",
      "\n",
      "Text:\n",
      " ['came', 'manager', 'local', 'ssa', 'office', 'va', 'spoke', 'started', 'process', 'months', 'kind', 'daunting', 'sure', 'likely', 'friendly', 'govt', 'worker', 'spoken', 'open', 'discussion', 'believe', 'working', 'home', 'know', 'accurate', 'number', 'based', 'read', 'hear', 'tend', 'believe', 'took', 'months', 'start', 'finish', 'approved', 'attempt', 'going', 'early', 'ss', 'based', 'disabled', 'job', 'asked', 'fraudulent', 'claims', 'believes', 'response', 'lines', 'delays', 'legitimate', 'ones', 'getting', 'claims', 'approved', 'claim', 'approved', 'received', 'notice', 'dr', 'approved', 'ssa', 'assessment', 'dr', 'actually', 'pa', 'said', 'shows', 'morning', 'asked', 'said', 'know', 'cases', 'folks', 'know', 'business', 'applying', 'ssd', 'folks', 'hurting', 'ones', 'need', 'clue', 'fix', 'system']\n",
      "TTR: 0.8235294117647058 \n",
      "\n",
      "Text:\n",
      " ['coworkers', 'hates', 'workplaces', 'politics', 'having', 'hate', 'work', 'uncommon', 'wheelchair', 'person', 'rude', 'makes', 'life', 'difficult', 'instances', 'time', 'moved', 'cart', 'come', 'angrily', 'jerked', 'purposely', 'let', 'door', 'close', 'right', 'obvious', 'struggle', 'doors', 'thought', 'know', 'act', 'wheelchair', 'brushed', 'morning', 'came', 'right', 'cart', 'blocked', 'way', 'come', 'awkwardly', 'chuckled', 'moved', 'way', 'went', 'past', 'went', 'room', 'burst', 'tears', 'treats', 'wheelchair', 'like', 'hate', 'good', 'reason', 'hate', 'rotten', 'hearted', 'act', 'like', 'like', 'fly', 'mean', 'obstacle', 'cruel', 'people', 'decide', 'throw', 'way', 'obstacles', 'kind', 'treatment', 'good', 'person', 'tell', 'rude', 'makes', 'problems', 'worse', 'similar', 'situation', 'able', 'deal', 'want', 'jerk', 'ask', 'treated', 'civility', 'common', 'decency', 'like', 'thoughts', 'advice', 'welcome', 'thanks', 'advance']\n",
      "TTR: 0.8061224489795918 \n",
      "\n",
      "Text:\n",
      " ['context', '24f', 'unknown', 'form', 'muscular', 'dystrophy', 'walk', 'slow', 'pretty', 'severe', 'gait', 'mall', 'ducked', 'store', 'away', 'people', 'staring', 'yay', 'social', 'anxiety', 'older', 'lady', '~60', 'came', 'said', 'fake', 'smile', 'people', 'stare', 'jealous', 'pretty', 'confident', 'got', 'interested', 'stories', 'got']\n",
      "TTR: 0.9444444444444444 \n",
      "\n",
      "Text:\n",
      " ['semi', 'verbal', 'autism', 'spd', 'diagnosed', 'child', 'diagnosed', 'mental', 'health', 'issues', 'diagnosed', 'ibs', 'diagnosed', 'nerve', 'function', 'problems', 'including', 'lesion', 'brain', 'documented', 'undiagnosed', 'physical', 'health', 'issues', 'suspected', 'autoimmune', 'disorder', 'eds', 'kind', 'dysautonomia', 'possible', 'mcas', 'official', 'diagnosis', 'neuro', 'pretty', 'sure', 'specialists', 'able', 'actually', 'diagnose', 'october', 'sense', 'start', 'applying', 'disablity', 'adult', 'child', 'job', 'probably', 'able', 'sense', 'wait', 'official', 'diagnoses', 'given']\n",
      "TTR: 0.8392857142857143 \n",
      "\n",
      "Text:\n",
      " ['look', 'timeline', 'life', 'surviving', 'childhood', 'adulthood', 'lifelong', 'disabled', 'person', 'entails', 'eventually', 'find', 'helps', 'manage', 'accept', 'sort', 'feel', 'like', 'matter', 'time', 'point', 'find', 'hard', 'differentiate', 'acceptable', 'treatments', 'pharmaceuticals', 'unacceptable', 'ones', 'illicit', 'substances).basically', 'rely', 'survive', 'enjoy', 'time', 'habits', 'hurting', 'feel', 'point', 'ok', 'perspective']\n",
      "TTR: 0.9024390243902439 \n",
      "\n",
      "Text:\n",
      " ['got', 'hired', 'injured', 'vocational', 'retraining', 'program', 'hired', 'knowing', 'dealing', 'end', 'month', 'probation', 'period', 'told', 'believe', 'able', 'continue', 'work', 'decided', 'let', 'understand', 'position', 'shocked', 'come', 'leaps', 'bounds', 'physical', 'capabilities', 'gotten', 'better', 'able', 'find', 'ways', 'work', 'thought', 'professionalism', 'work', 'experience', 'fact', 'working', 'disabled', 'person', 'offer', 'protection', 'mean', 'depending', 'disabled', 'employed', 'job', 'regardless', 'work', 'planed.my', 'days', 'weeks', 'rest.and', 'work', 'periods', 'adjusted', 'physical', 'therapy', 'wellness', 'programs', 'specifically', 'help', 'job', 'like', 'day', 'employed', 'morning', 'unemployed', 'evening', 'worst', 'thing', 'felt', 'helping', 'better', 'lots', 'physical', 'work', 'lots', 'detailed', 'work', 'painful', 'physically', 'helpful', 'better', 'pt', 'know', 'rant', 'asking', 'advice', 'stunned', 'right', 'great', 'months', 'having', 'job', 'advice', 'love', 'hear']\n",
      "TTR: 0.82 \n",
      "\n",
      "Text:\n",
      " ['location', 'interested', 'attempting', 'ssdi', 'help', 'lawyer', 'clear', 'multiple', 'significant', 'hurdles', 'initial', 'consultation', 'disability', 'lawyer', 'today', '2pm', 'edt', 'wondering', 'present', 'case', 'lawyer', 'consider', 'representing', \"i'm\", '24nb', 'autism', 'ptsd', 'bed', 'history', 'anxiety', 'depression', 'strongly', 'suspect', 'cfs', 'pursuing', 'diagnosis', 'records', 'treatment', 'ideal', 'example', 'taken', 'psych', 'meds', 'scored', 'high', 'cognitive', 'testing', 'ineligible', 'regular', 'ssdi', 'ssi', 'work', 'history', 'assets', 'eligible', 'ssdi', 'disabled', 'adult', 'child', 'confirmed', 'ssa', 'benefits', 'dac', 'need', 'prove', 'onset', 'date', 'turning', '22.when', 'psychiatric', 'hospitalization', 'traumatizing', 'wherewithal', 'report', 'ssa', 'saw', 'records', 'new', 'material', 'information', 'reopening', 'claim', 'edit', 'provided', 'information', 'ssa', 'denial', 'letter', 'indicate', 'retrieved', 'records', 'worked', 'months', 'internship', 'month', 'time', 'months', 'pt', 'sga', 'level', 'cut', 'hours', 'health', 'job', 'stressful', 'developed', 'symptoms', 'cfs', 'including', 'post', 'exertional', 'malaise', 'medical', 'records', 'age', 'doctor', 'pem', 'fail', 'properly', 'diagnose', 'applied', 'ssdi', 'weeks', 'turning', 'initial', 'claim', 'denied', 'filed', 'reconsideration', 'denial', 'impairments', 'know', 'cfs', 'expect', 'impairment', 'long', 'expected', 'disability', 'application', 'process', 'significant', 'stressor', 'understand', 'file', 'reconsideration', 'onset', 'date', 'established', 'making', 'difficult', 'receive', 'benefits', 'initial', 'application', 'closed', 'case', 'onset', 'date', 'established', 'date', 'initial', 'denial', 'turned', 'understanding', 'reopen', 'case', 'need', 'good', 'cause', 'appealing', 'reapply', 'request', 'reopening', 'case', 'furnish', 'new', 'material', 'evidence', 'original', 'determination', 'wrong', 'like', 'high', 'bars', 'running', 'ebay', 'business', 'time', 'started', 'internship', 'income', '$', 'mo', 'working', 'capacity', 'look', 'healthy.**in', 'summary', 'receive', 'disability', 'need', 'prove', 'disabled', 'years', 'ago', 'based', 'invisible', 'illnesses', 'getting', 'diagnosed', 'initial', 'claim', 'wrong', 'despite', 'running', 'business', 'time', 'young', 'age', 'bachelor', 'degree', 'wo', 'help', 'best', 'way', 'discuss', 'lawyer', 'consider', 'helping', 'firm', 'diagnosis?addendum', 'found', 'disabled', 'found', 'disabled', 'health', 'slowly', 'worsened', 'options', 'thing', 'think', 'job', 'work', 'body', 'completely', 'gives', 'cross', 'fingers', 'accrued', 'work', 'credits', 'reapply']\n",
      "TTR: 0.7420634920634921 \n",
      "\n",
      "Text:\n",
      " ['question', 'concerning', 'use', 'wheelchair', 'appreciate', 'input', 'particularly', 'wheelchair', 'user', 'and/or', 'incomplete', 'spinal', 'injury', 'tldr', 'end', 'little', 'backstory', 'young', 'man', 'injuries', 'child', 'developed', 'sciatica', 'christmas', 'ignored', 'thinking', 'away', 'usually', 'got', 'worse', 'started', 'experiencing', 'typical', 'signs', 'progressive', 'paralysis', 'muscle', 'weakness', 'pins', 'needles', 'toilet', 'troubles', 'eventually', 'movement', 'hip', 'went', 'hospital', 'found', 'l4', 'l5', 'disc', 'calcified', 'dr', 'said', 'looked', 'solid', 'compressing', 'spinal', 'cord', 'needed', 'decompression', 'emergency', 'surgery', 'hours', 'woke', 'feeling', 'awful', 'feel', 'leg', 'entirely', 'hip', 'test', 'came', 'normal', 'eventually', 'felt', 'like', 'movement', 'returned', 'pain', 'getting', 'better', 'month', 'ago', 'noticed', 'physio', 'gym', 'session', 'failing', 'sooner', 'affected', 'dominant', 'week', 'pain', 'stopping', 'moving', 'developed', 'paralysis', 'hospital', 'said', 'prolapse', 'needed', 'op', 'hours', 'woke', 'close', 'pain', 'free', 'paralyzed', 'started', 'regaining', 'function', 'hours', 'gains', 'flattened', 'weakness', 'causes', 'trip', 'things', 'lot', 'clearance', 'foot', 'ground', 'insert', 'intersectionality', 'born', 'disability', 'makes', 'hyperactive', 'uncoordinated', 'pathologically', 'insensitive', 'pain', 'concerned', 'damaging', 'open', 'physio', 'level', 'activity', 'broadly', 'encouraged', 'associated', 'gains', 'mobility', 'partner', 'doctor', 'currently', 'phd', 'faculty', 'medicine', 'said', 'overdoing', 'associated', 'recurrence', 'spinal', 'injury', 'ongoing', 'weakness', 'wanted', 'wheelchair', 'try', 'level', 'impact', 'movements', 'close', 'possible', 'upper', 'end', 'recommended', 'surgery', 'physio', 'said', 'dependant', 'wheelchair', 'recommend', 'try', 'hyperactive', 'uncoordinated', 'day', 'day', 'life', 'pay', 'lot', 'attention', 'pain', 'sent', 'home', 'script', 'oxycodone', 'ask', 'for).anyway', 'partner', 'bought', 'wheelchair', 'appreciated', 'having', 'gone', 'outside', 'release', 'lot', 'energy', 'stress', 'pushing', 'chair', 'moving', 'comfortably', 'feeling', 'bones', 'grind', 'tortured', 'constant', 'battle', 'refrain', 'getting', 'running', 'like', 'primary', 'school', 'kid', 'tbh', 'usual', 'state', 'means', 'able', 'restart', 'uni', 'week', 'mile', 'walk', 'way', 'stand', 'hours', 'class', 'week', 'op', 'drop', 'course', 'it).i', 'feel', 'bad', 'walk', 'bit', 'time', 'tried', 'woke', 'hours', 'ago', 'foot', 'footrest', 'having', 'lift', 'kind', 'person', 'generally', 'listens', 'people', 'looking', 'health', 'end', 'day', 'partner', 'looking', 'health', 'point', 'pretty', 'mad', 'listen', 'time', 'needed', 'second', 'operation', 'aware', 'little', 'disc', 'left', 'told', 'definitely', 'problems', 'later', 'trying', 'right', 'thing', 'walking', 'moving', 'chair', 'physio', 'exercises', 'minimize', 'time', 'spent', 'chair', 'working', 'feel', 'pain', 'creeping', 'feel', 'conflicted', 'tldr', 'spinal', 'surgery', 'physio', 'encouraged', 'activity', 'semi', 'qualified', 'partner', 'said', 'going', 'far', 'disc', 'prolapsed', 'needed', 'surgery', 'convincing', 'partner', 'right', 'wheelchair', 'walk', 'bit', 'miss', 'semester', 'uni', 'vent', 'hyperactivity', 'damaging', 'spine', 'feel', 'conflicted', 'bit', 'like', 'imposter']\n",
      "TTR: 0.7099697885196374 \n",
      "\n"
     ]
    }
   ],
   "source": [
    "for text in df['lemmas'][:10]:\n",
    "    tokens = text.split()\n",
    "    print('Text:\\n', text)\n",
    "    print('TTR:', type_token_ratio(tokens), '\\n')"
   ]
  },
  {
   "cell_type": "code",
   "execution_count": 11,
   "id": "67a8348b-2dbe-4169-8c89-7956ee50fcec",
   "metadata": {},
   "outputs": [
    {
     "name": "stdout",
     "output_type": "stream",
     "text": [
      "Requirement already satisfied: nltk in /Users/chrissoria/opt/anaconda3/lib/python3.9/site-packages (3.6.5)\n",
      "Requirement already satisfied: click in /Users/chrissoria/opt/anaconda3/lib/python3.9/site-packages (from nltk) (8.0.3)\n",
      "Requirement already satisfied: joblib in /Users/chrissoria/opt/anaconda3/lib/python3.9/site-packages (from nltk) (1.1.0)\n",
      "Requirement already satisfied: regex>=2021.8.3 in /Users/chrissoria/opt/anaconda3/lib/python3.9/site-packages (from nltk) (2021.8.3)\n",
      "Requirement already satisfied: tqdm in /Users/chrissoria/opt/anaconda3/lib/python3.9/site-packages (from nltk) (4.62.3)\n"
     ]
    }
   ],
   "source": [
    "!pip install nltk"
   ]
  },
  {
   "cell_type": "code",
   "execution_count": 12,
   "id": "7a741ff9-9c06-4af2-ba5e-ed4560ecbae0",
   "metadata": {},
   "outputs": [],
   "source": [
    "tokens = []\n",
    "for idx, row in enumerate(df['lemmas']):\n",
    "    # Notice that we put all tokens in the same list\n",
    "    tokens.extend(row.split(' '))"
   ]
  },
  {
   "cell_type": "code",
   "execution_count": 13,
   "id": "70b7fdc1-b666-4ec5-8ec3-9dc63752fd7d",
   "metadata": {},
   "outputs": [
    {
     "name": "stderr",
     "output_type": "stream",
     "text": [
      "[nltk_data] Downloading package stopwords to\n",
      "[nltk_data]     /Users/chrissoria/nltk_data...\n",
      "[nltk_data]   Package stopwords is already up-to-date!\n"
     ]
    }
   ],
   "source": [
    "import nltk\n",
    "nltk.download('stopwords')\n",
    "from nltk.text import Text\n",
    "\n",
    "disability_tokens = Text(tokens)"
   ]
  },
  {
   "cell_type": "code",
   "execution_count": 14,
   "id": "cb2e111e-eb65-4620-8c90-5cd8e90c0262",
   "metadata": {},
   "outputs": [
    {
     "name": "stdout",
     "output_type": "stream",
     "text": [
      "Help on class Text in module nltk.text:\n",
      "\n",
      "class Text(builtins.object)\n",
      " |  Text(tokens, name=None)\n",
      " |  \n",
      " |  A wrapper around a sequence of simple (string) tokens, which is\n",
      " |  intended to support initial exploration of texts (via the\n",
      " |  interactive console).  Its methods perform a variety of analyses\n",
      " |  on the text's contexts (e.g., counting, concordancing, collocation\n",
      " |  discovery), and display the results.  If you wish to write a\n",
      " |  program which makes use of these analyses, then you should bypass\n",
      " |  the ``Text`` class, and use the appropriate analysis function or\n",
      " |  class directly instead.\n",
      " |  \n",
      " |  A ``Text`` is typically initialized from a given document or\n",
      " |  corpus.  E.g.:\n",
      " |  \n",
      " |  >>> import nltk.corpus\n",
      " |  >>> from nltk.text import Text\n",
      " |  >>> moby = Text(nltk.corpus.gutenberg.words('melville-moby_dick.txt'))\n",
      " |  \n",
      " |  Methods defined here:\n",
      " |  \n",
      " |  __getitem__(self, i)\n",
      " |  \n",
      " |  __init__(self, tokens, name=None)\n",
      " |      Create a Text object.\n",
      " |      \n",
      " |      :param tokens: The source text.\n",
      " |      :type tokens: sequence of str\n",
      " |  \n",
      " |  __len__(self)\n",
      " |  \n",
      " |  __repr__(self)\n",
      " |      Return repr(self).\n",
      " |  \n",
      " |  __str__(self)\n",
      " |      Return str(self).\n",
      " |  \n",
      " |  collocation_list(self, num=20, window_size=2)\n",
      " |      Return collocations derived from the text, ignoring stopwords.\n",
      " |      \n",
      " |          >>> from nltk.book import text4\n",
      " |          >>> text4.collocation_list()[:2]\n",
      " |          [('United', 'States'), ('fellow', 'citizens')]\n",
      " |      \n",
      " |      :param num: The maximum number of collocations to return.\n",
      " |      :type num: int\n",
      " |      :param window_size: The number of tokens spanned by a collocation (default=2)\n",
      " |      :type window_size: int\n",
      " |      :rtype: list(tuple(str, str))\n",
      " |  \n",
      " |  collocations(self, num=20, window_size=2)\n",
      " |      Print collocations derived from the text, ignoring stopwords.\n",
      " |      \n",
      " |          >>> from nltk.book import text4\n",
      " |          >>> text4.collocations() # doctest: +ELLIPSIS\n",
      " |          United States; fellow citizens; four years; ...\n",
      " |      \n",
      " |      :param num: The maximum number of collocations to print.\n",
      " |      :type num: int\n",
      " |      :param window_size: The number of tokens spanned by a collocation (default=2)\n",
      " |      :type window_size: int\n",
      " |  \n",
      " |  common_contexts(self, words, num=20)\n",
      " |      Find contexts where the specified words appear; list\n",
      " |      most frequent common contexts first.\n",
      " |      \n",
      " |      :param words: The words used to seed the similarity search\n",
      " |      :type words: str\n",
      " |      :param num: The number of words to generate (default=20)\n",
      " |      :type num: int\n",
      " |      :seealso: ContextIndex.common_contexts()\n",
      " |  \n",
      " |  concordance(self, word, width=79, lines=25)\n",
      " |      Prints a concordance for ``word`` with the specified context window.\n",
      " |      Word matching is not case-sensitive.\n",
      " |      \n",
      " |      :param word: The target word or phrase (a list of strings)\n",
      " |      :type word: str or list\n",
      " |      :param width: The width of each line, in characters (default=80)\n",
      " |      :type width: int\n",
      " |      :param lines: The number of lines to display (default=25)\n",
      " |      :type lines: int\n",
      " |      \n",
      " |      :seealso: ``ConcordanceIndex``\n",
      " |  \n",
      " |  concordance_list(self, word, width=79, lines=25)\n",
      " |      Generate a concordance for ``word`` with the specified context window.\n",
      " |      Word matching is not case-sensitive.\n",
      " |      \n",
      " |      :param word: The target word or phrase (a list of strings)\n",
      " |      :type word: str or list\n",
      " |      :param width: The width of each line, in characters (default=80)\n",
      " |      :type width: int\n",
      " |      :param lines: The number of lines to display (default=25)\n",
      " |      :type lines: int\n",
      " |      \n",
      " |      :seealso: ``ConcordanceIndex``\n",
      " |  \n",
      " |  count(self, word)\n",
      " |      Count the number of times this word appears in the text.\n",
      " |  \n",
      " |  dispersion_plot(self, words)\n",
      " |      Produce a plot showing the distribution of the words through the text.\n",
      " |      Requires pylab to be installed.\n",
      " |      \n",
      " |      :param words: The words to be plotted\n",
      " |      :type words: list(str)\n",
      " |      :seealso: nltk.draw.dispersion_plot()\n",
      " |  \n",
      " |  findall(self, regexp)\n",
      " |      Find instances of the regular expression in the text.\n",
      " |      The text is a list of tokens, and a regexp pattern to match\n",
      " |      a single token must be surrounded by angle brackets.  E.g.\n",
      " |      \n",
      " |      >>> print('hack'); from nltk.book import text1, text5, text9\n",
      " |      hack...\n",
      " |      >>> text5.findall(\"<.*><.*><bro>\")\n",
      " |      you rule bro; telling you bro; u twizted bro\n",
      " |      >>> text1.findall(\"<a>(<.*>)<man>\")\n",
      " |      monied; nervous; dangerous; white; white; white; pious; queer; good;\n",
      " |      mature; white; Cape; great; wise; wise; butterless; white; fiendish;\n",
      " |      pale; furious; better; certain; complete; dismasted; younger; brave;\n",
      " |      brave; brave; brave\n",
      " |      >>> text9.findall(\"<th.*>{3,}\")\n",
      " |      thread through those; the thought that; that the thing; the thing\n",
      " |      that; that that thing; through these than through; them that the;\n",
      " |      through the thick; them that they; thought that the\n",
      " |      \n",
      " |      :param regexp: A regular expression\n",
      " |      :type regexp: str\n",
      " |  \n",
      " |  generate(self, length=100, text_seed=None, random_seed=42)\n",
      " |      Print random text, generated using a trigram language model.\n",
      " |      See also `help(nltk.lm)`.\n",
      " |      \n",
      " |      :param length: The length of text to generate (default=100)\n",
      " |      :type length: int\n",
      " |      \n",
      " |      :param text_seed: Generation can be conditioned on preceding context.\n",
      " |      :type text_seed: list(str)\n",
      " |      \n",
      " |      :param random_seed: A random seed or an instance of `random.Random`. If provided,\n",
      " |      makes the random sampling part of generation reproducible. (default=42)\n",
      " |      :type random_seed: int\n",
      " |  \n",
      " |  index(self, word)\n",
      " |      Find the index of the first occurrence of the word in the text.\n",
      " |  \n",
      " |  plot(self, *args)\n",
      " |      See documentation for FreqDist.plot()\n",
      " |      :seealso: nltk.prob.FreqDist.plot()\n",
      " |  \n",
      " |  readability(self, method)\n",
      " |  \n",
      " |  similar(self, word, num=20)\n",
      " |      Distributional similarity: find other words which appear in the\n",
      " |      same contexts as the specified word; list most similar words first.\n",
      " |      \n",
      " |      :param word: The word used to seed the similarity search\n",
      " |      :type word: str\n",
      " |      :param num: The number of words to generate (default=20)\n",
      " |      :type num: int\n",
      " |      :seealso: ContextIndex.similar_words()\n",
      " |  \n",
      " |  vocab(self)\n",
      " |      :seealso: nltk.prob.FreqDist\n",
      " |  \n",
      " |  ----------------------------------------------------------------------\n",
      " |  Data descriptors defined here:\n",
      " |  \n",
      " |  __dict__\n",
      " |      dictionary for instance variables (if defined)\n",
      " |  \n",
      " |  __weakref__\n",
      " |      list of weak references to the object (if defined)\n",
      "\n"
     ]
    }
   ],
   "source": [
    "help(Text)"
   ]
  },
  {
   "cell_type": "code",
   "execution_count": 15,
   "id": "5a173764-49db-4f83-aeb2-ab8915ccf0c7",
   "metadata": {},
   "outputs": [
    {
     "name": "stdout",
     "output_type": "stream",
     "text": [
      "no matches\n"
     ]
    }
   ],
   "source": [
    "disability_tokens.concordance(\"'chronic'\", width=50) #why is it not finding any matches?"
   ]
  },
  {
   "cell_type": "code",
   "execution_count": 16,
   "id": "0070935b-16fa-44a7-8b2d-c545a66af43b",
   "metadata": {},
   "outputs": [
    {
     "data": {
      "text/plain": [
       "[(\"'feel',\", \"'like',\"),\n",
       " (\"'social',\", \"'security',\"),\n",
       " (\"'mental',\", \"'health',\"),\n",
       " (\"'cerebral',\", \"'palsy',\"),\n",
       " (\"'years',\", \"'ago',\"),\n",
       " (\"'panic',\", \"'attacks',\"),\n",
       " (\"'able',\", \"'bodied',\"),\n",
       " (\"'disabled',\", \"'people',\"),\n",
       " (\"'chronic',\", \"'pain',\"),\n",
       " (\"'high',\", \"'school',\"),\n",
       " (\"'years',\", \"'old',\"),\n",
       " (\"'mental',\", \"'illness',\"),\n",
       " (\"'multiple',\", \"'sclerosis',\"),\n",
       " (\"'year',\", \"'old',\"),\n",
       " (\"'$',\", \"'month',\"),\n",
       " (\"'people',\", \"'disabilities',\"),\n",
       " (\"'spinal',\", \"'cord',\"),\n",
       " (\"'long',\", \"'term',\"),\n",
       " (\"'depression',\", \"'anxiety',\"),\n",
       " (\"'anxiety',\", \"'depression',\")]"
      ]
     },
     "execution_count": 16,
     "metadata": {},
     "output_type": "execute_result"
    }
   ],
   "source": [
    "disability_tokens.collocation_list()"
   ]
  },
  {
   "cell_type": "code",
   "execution_count": 17,
   "id": "7bb5fced-3fd6-49f0-af40-54a6f694206e",
   "metadata": {},
   "outputs": [
    {
     "data": {
      "image/png": "[encoded data removed]",
      "text/plain": [
       "<Figure size 432x288 with 1 Axes>"
      ]
     },
     "metadata": {
      "needs_background": "light"
     },
     "output_type": "display_data"
    }
   ],
   "source": [
    "disability_tokens.dispersion_plot([\"christmas\", \"gift\", \"unhappy\"])"
   ]
  },
  {
   "cell_type": "code",
   "execution_count": null,
   "id": "70931776-7f2d-4cd5-9761-d6e66925d65d",
   "metadata": {},
   "outputs": [],
   "source": []
  }
 ],
 "metadata": {
  "kernelspec": {
   "display_name": "Python 3 (ipykernel)",
   "language": "python",
   "name": "python3"
  },
  "language_info": {
   "codemirror_mode": {
    "name": "ipython",
    "version": 3
   },
   "file_extension": ".py",
   "mimetype": "text/x-python",
   "name": "python",
   "nbconvert_exporter": "python",
   "pygments_lexer": "ipython3",
   "version": "3.9.7"
  }
 },
 "nbformat": 4,
 "nbformat_minor": 5
}
